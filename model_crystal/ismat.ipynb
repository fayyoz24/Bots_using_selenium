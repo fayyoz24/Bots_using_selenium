{
 "cells": [
  {
   "cell_type": "code",
   "execution_count": 3,
   "metadata": {},
   "outputs": [
    {
     "name": "stdout",
     "output_type": "stream",
     "text": [
      "15999\n",
      "16000\n",
      "16001\n",
      "16002\n",
      "16003\n",
      "16004\n",
      "16005\n",
      "16006\n",
      "16007\n",
      "16008\n",
      "16009\n"
     ]
    }
   ],
   "source": [
    "import datetime\n",
    "import requests\n",
    "import numpy as np\n",
    "import json\n",
    "import pandas as pd\n",
    "# from tensorflow.keras.models import load_model\n",
    "# from tensorflow.keras.preprocessing.text import Tokenizer\n",
    "# from tensorflow.keras.preprocessing.sequence import pad_sequences\n",
    "data=pd.read_csv(\"./partly_45878_reach_50.csv\")\n",
    "for i in range(15999, 16010):\n",
    "  link=data['links'][i]\n",
    "  id = link.split('/')[4]\n",
    "  url = \"https://api.iscraper.io/v2/profile-details\"\n",
    "\n",
    "  payload = {\n",
    "    'profile_id': id,\n",
    "  }\n",
    "\n",
    "  headers = {\n",
    "    'X-API-KEY': 'gOIyVUwx4wOICqx45tOcXABZTolyW72U',\n",
    "  }\n",
    "\n",
    "  response = requests.post(url, json=payload, headers=headers)\n",
    "  res=response.json()\n",
    "\n",
    "  with open(f\"./datas/json_responses_50k/{i}.json\", \"w\") as json_file:\n",
    "      json.dump(res, json_file, indent=4)\n",
    "  print(i)"
   ]
  }
 ],
 "metadata": {
  "kernelspec": {
   "display_name": "keras1",
   "language": "python",
   "name": "python3"
  },
  "language_info": {
   "codemirror_mode": {
    "name": "ipython",
    "version": 3
   },
   "file_extension": ".py",
   "mimetype": "text/x-python",
   "name": "python",
   "nbconvert_exporter": "python",
   "pygments_lexer": "ipython3",
   "version": "3.11.5"
  },
  "orig_nbformat": 4
 },
 "nbformat": 4,
 "nbformat_minor": 2
}
