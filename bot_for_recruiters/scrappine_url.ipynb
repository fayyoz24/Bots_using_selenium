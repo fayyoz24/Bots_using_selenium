{
 "cells": [
  {
   "cell_type": "code",
   "execution_count": 2,
   "metadata": {},
   "outputs": [
    {
     "name": "stdout",
     "output_type": "stream",
     "text": [
      "You can apply within 2 minutes\n",
      "Internationaal Field Service Engineer at Marel\n",
      "We are an international team of people for whom passion isn’t just a buzzword. We have an important goal –to create a world where quality food is produced sustainably and affordably –and we’re excited to make it happen. As world leaders in advanced food processing solutions, we’re in the unique position to transform the future of food and make a real impact –but we need individuals with diverse perspectives and skill to get there.\n",
      "There’s nothing like the feeling you get when you do something worthwhile for a living. That said, coming home from work knowing you made a difference is just one of the great things you can experience at Marel. You can expect: \n",
      "Does this position match your personality and ambitions? Then apply now.\n",
      "If you respond to an appealing job opening, the consultant will contact you to schedule an exploratory meeting in the next few days.\n",
      "Together with the consultant, you determine whether your profile is a good fit for the position. You also assess whether your ambitions are aligned with the direction of the organi…\n",
      "If the fit is right on both sides, there will be a first-round interview with your potential new employer in the next two weeks.\n",
      "Depending on the process, the consultant will invite you to the next round(s) of interviews and possibly an assessment center.\n",
      "If you are selected for the position, you will receive an attractive job offer. We will be happy to advise you on realistic terms of employment.\n",
      "YER connects you with inspiring organizations throughout the Netherlands and beyond. Is your question not listed? Please contact our team.\n",
      "We offer a range of contracts for candidates. If you are a starter, a YER traineeship is a great way to get to know interesting employers. With our temporary contracts for professionals, you work for a client on a temporary basis. In both cases, you can transfer to the client’s organization at the end of your YER contract. If you are an experienced specialist, manager or board member, our consultants will put you directly in touch with interesting organizations. Depending on the job opening, you are offered a temporary or permanent contract, or start working as an interim professional.\n",
      "We have teams of consultants that specialize in particular industries and professional fields. To find out about job openings and career opportunities in your area of expertise, please contact us to arrange an exploratory meeting.\n",
      "No matter where you are in your career, we guide you every step of the way and connect you with leading employers throughout the Netherlands. We leverage our extensive network, focus on development and provide personal guidance that helps candidates achieve their ambitions. Find out more about what we can do for you as a candidate. \n",
      "We collect your personal data from the moment you enter or leave your information on our website, or otherwise register or are registered for our services. Data collected through the use of this website are processed and managed as described in our Privacy Statement. We are committed to protecting your privacy and keeping your data secure in compliance with all privacy laws and regulations.\n"
     ]
    }
   ],
   "source": [
    "from bs4 import BeautifulSoup\n",
    "import time\n",
    "from selenium.webdriver.chrome.options import Options\n",
    "from selenium import webdriver\n",
    "from selenium.webdriver.common.by import By\n",
    "import pandas as pd\n",
    "from selenium.webdriver.common.keys import Keys\n",
    "\n",
    "dict_={}\n",
    "\n",
    "driver = webdriver.Chrome()\n",
    "driver.get('https://www.yer.nl/en/vacancies/v-10016555-marel-field-service-engineer/')\n",
    "time.sleep(10)\n",
    "\n",
    "# try:\n",
    "#     cookie=driver.find_element(By.XPATH, '/html/body/div[2]/div/div[2]/div/a')\n",
    "#     cookie.click()\n",
    "#     time.sleep(2)\n",
    "# except:\n",
    "#     print('Cookie')\n",
    "\n",
    "    \n",
    "# initialScroll = 0\n",
    "# finalScroll = 1000\n",
    "# start = time.time()\n",
    "# while True:\n",
    "#     driver.execute_script(f\"window.scrollTo({initialScroll}, {finalScroll})\")\n",
    "#     initialScroll = finalScroll\n",
    "#     finalScroll += 1000\n",
    "#     time.sleep(3)\n",
    "#     end = time.time()\n",
    "#     if round(end - start) > 25:\n",
    "#         break\n",
    "src = driver.page_source\n",
    "soup = BeautifulSoup(src, 'lxml')\n",
    "for text in soup.find_all('p'):\n",
    "    print(text.text)\n",
    "# names=[]\n",
    "# links=[]\n",
    "# characters=[]\n",
    "# linksed_links=soup.find_all(\"a\", {\"class\":\"styles_linkedin-link__HDisz\"})\n",
    "# for i in linksed_links:\n",
    "#     links.append(i.get('href').split(\"?\")[0])\n",
    "# colors=soup.select('[class^=\"styles_table-cell__oLmEF styles_text__DPebr styles_disc-color__I4yR3 styles_bold__EvRSI styles_average-section__DEaud styles_\"]')\n",
    "# for color in colors:\n",
    "#     characters.append(color.text)\n",
    "# names_=soup.find_all(\"a\", {\"class\":\"styles_next-link__3eJtq\"})\n",
    "\n",
    "# driver.close()"
   ]
  }
 ],
 "metadata": {
  "kernelspec": {
   "display_name": "venv",
   "language": "python",
   "name": "python3"
  },
  "language_info": {
   "codemirror_mode": {
    "name": "ipython",
    "version": 3
   },
   "file_extension": ".py",
   "mimetype": "text/x-python",
   "name": "python",
   "nbconvert_exporter": "python",
   "pygments_lexer": "ipython3",
   "version": "3.11.5"
  },
  "orig_nbformat": 4
 },
 "nbformat": 4,
 "nbformat_minor": 2
}
