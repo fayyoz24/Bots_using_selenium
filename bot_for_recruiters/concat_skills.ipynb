{
 "cells": [
  {
   "cell_type": "code",
   "execution_count": 150,
   "metadata": {},
   "outputs": [],
   "source": [
    "import pandas as pd\n",
    "df=pd.DataFrame({})\n",
    "for i in range(6):\n",
    "    functions=pd.read_csv(f\"./hard_skills{i}c.csv\")\n",
    "    df=pd.concat([df, functions], axis=0, ignore_index=True)"
   ]
  },
  {
   "cell_type": "code",
   "execution_count": 151,
   "metadata": {},
   "outputs": [
    {
     "data": {
      "text/html": [
       "<div>\n",
       "<style scoped>\n",
       "    .dataframe tbody tr th:only-of-type {\n",
       "        vertical-align: middle;\n",
       "    }\n",
       "\n",
       "    .dataframe tbody tr th {\n",
       "        vertical-align: top;\n",
       "    }\n",
       "\n",
       "    .dataframe thead th {\n",
       "        text-align: right;\n",
       "    }\n",
       "</style>\n",
       "<table border=\"1\" class=\"dataframe\">\n",
       "  <thead>\n",
       "    <tr style=\"text-align: right;\">\n",
       "      <th></th>\n",
       "      <th>Unnamed: 0</th>\n",
       "      <th>hard_skills</th>\n",
       "    </tr>\n",
       "  </thead>\n",
       "  <tbody>\n",
       "    <tr>\n",
       "      <th>0</th>\n",
       "      <td>0</td>\n",
       "      <td>1. Analytisch denken: Het vermogen om complexe...</td>\n",
       "    </tr>\n",
       "    <tr>\n",
       "      <th>1</th>\n",
       "      <td>1</td>\n",
       "      <td>1. Wiskundige vaardigheden: Actuarial Science ...</td>\n",
       "    </tr>\n",
       "    <tr>\n",
       "      <th>2</th>\n",
       "      <td>2</td>\n",
       "      <td>1. Wiskundige vaardigheden: Actuariële wetensc...</td>\n",
       "    </tr>\n",
       "    <tr>\n",
       "      <th>3</th>\n",
       "      <td>3</td>\n",
       "      <td>1. Dierlijke anatomie en fysiologie: het vermo...</td>\n",
       "    </tr>\n",
       "    <tr>\n",
       "      <th>4</th>\n",
       "      <td>4</td>\n",
       "      <td>1. Financieel management\\r\\n2. Marketingstrate...</td>\n",
       "    </tr>\n",
       "    <tr>\n",
       "      <th>...</th>\n",
       "      <td>...</td>\n",
       "      <td>...</td>\n",
       "    </tr>\n",
       "    <tr>\n",
       "      <th>490</th>\n",
       "      <td>121</td>\n",
       "      <td>Natuurlijk! Hier zijn 10 hard skills die je ku...</td>\n",
       "    </tr>\n",
       "    <tr>\n",
       "      <th>491</th>\n",
       "      <td>122</td>\n",
       "      <td>Natuurlijk! Hier zijn 10 hard skills die je ku...</td>\n",
       "    </tr>\n",
       "    <tr>\n",
       "      <th>492</th>\n",
       "      <td>123</td>\n",
       "      <td>Natuurlijk! Hier zijn 10 hard skills die je ku...</td>\n",
       "    </tr>\n",
       "    <tr>\n",
       "      <th>493</th>\n",
       "      <td>124</td>\n",
       "      <td>Natuurlijk! Hier zijn 10 hard skills die je ku...</td>\n",
       "    </tr>\n",
       "    <tr>\n",
       "      <th>494</th>\n",
       "      <td>125</td>\n",
       "      <td>Natuurlijk! Hier zijn 10 hard skills die je ku...</td>\n",
       "    </tr>\n",
       "  </tbody>\n",
       "</table>\n",
       "<p>495 rows × 2 columns</p>\n",
       "</div>"
      ],
      "text/plain": [
       "     Unnamed: 0                                        hard_skills\n",
       "0             0  1. Analytisch denken: Het vermogen om complexe...\n",
       "1             1  1. Wiskundige vaardigheden: Actuarial Science ...\n",
       "2             2  1. Wiskundige vaardigheden: Actuariële wetensc...\n",
       "3             3  1. Dierlijke anatomie en fysiologie: het vermo...\n",
       "4             4  1. Financieel management\\r\\n2. Marketingstrate...\n",
       "..          ...                                                ...\n",
       "490         121  Natuurlijk! Hier zijn 10 hard skills die je ku...\n",
       "491         122  Natuurlijk! Hier zijn 10 hard skills die je ku...\n",
       "492         123  Natuurlijk! Hier zijn 10 hard skills die je ku...\n",
       "493         124  Natuurlijk! Hier zijn 10 hard skills die je ku...\n",
       "494         125  Natuurlijk! Hier zijn 10 hard skills die je ku...\n",
       "\n",
       "[495 rows x 2 columns]"
      ]
     },
     "execution_count": 151,
     "metadata": {},
     "output_type": "execute_result"
    }
   ],
   "source": [
    "df"
   ]
  },
  {
   "cell_type": "code",
   "execution_count": 152,
   "metadata": {},
   "outputs": [],
   "source": [
    "df.to_csv(\"hard_skills_keyword.csv\")"
   ]
  },
  {
   "cell_type": "code",
   "execution_count": 153,
   "metadata": {},
   "outputs": [],
   "source": [
    "functions=pd.read_csv(\"./hard_skills_keyword.csv\")"
   ]
  },
  {
   "cell_type": "code",
   "execution_count": 154,
   "metadata": {},
   "outputs": [
    {
     "data": {
      "text/html": [
       "<div>\n",
       "<style scoped>\n",
       "    .dataframe tbody tr th:only-of-type {\n",
       "        vertical-align: middle;\n",
       "    }\n",
       "\n",
       "    .dataframe tbody tr th {\n",
       "        vertical-align: top;\n",
       "    }\n",
       "\n",
       "    .dataframe thead th {\n",
       "        text-align: right;\n",
       "    }\n",
       "</style>\n",
       "<table border=\"1\" class=\"dataframe\">\n",
       "  <thead>\n",
       "    <tr style=\"text-align: right;\">\n",
       "      <th></th>\n",
       "      <th>Unnamed: 0.1</th>\n",
       "      <th>Unnamed: 0</th>\n",
       "      <th>hard_skills</th>\n",
       "    </tr>\n",
       "  </thead>\n",
       "  <tbody>\n",
       "    <tr>\n",
       "      <th>0</th>\n",
       "      <td>0</td>\n",
       "      <td>0</td>\n",
       "      <td>1. Analytisch denken: Het vermogen om complexe...</td>\n",
       "    </tr>\n",
       "    <tr>\n",
       "      <th>1</th>\n",
       "      <td>1</td>\n",
       "      <td>1</td>\n",
       "      <td>1. Wiskundige vaardigheden: Actuarial Science ...</td>\n",
       "    </tr>\n",
       "    <tr>\n",
       "      <th>2</th>\n",
       "      <td>2</td>\n",
       "      <td>2</td>\n",
       "      <td>1. Wiskundige vaardigheden: Actuariële wetensc...</td>\n",
       "    </tr>\n",
       "    <tr>\n",
       "      <th>3</th>\n",
       "      <td>3</td>\n",
       "      <td>3</td>\n",
       "      <td>1. Dierlijke anatomie en fysiologie: het vermo...</td>\n",
       "    </tr>\n",
       "    <tr>\n",
       "      <th>4</th>\n",
       "      <td>4</td>\n",
       "      <td>4</td>\n",
       "      <td>1. Financieel management\\r\\n2. Marketingstrate...</td>\n",
       "    </tr>\n",
       "    <tr>\n",
       "      <th>...</th>\n",
       "      <td>...</td>\n",
       "      <td>...</td>\n",
       "      <td>...</td>\n",
       "    </tr>\n",
       "    <tr>\n",
       "      <th>490</th>\n",
       "      <td>490</td>\n",
       "      <td>121</td>\n",
       "      <td>Natuurlijk! Hier zijn 10 hard skills die je ku...</td>\n",
       "    </tr>\n",
       "    <tr>\n",
       "      <th>491</th>\n",
       "      <td>491</td>\n",
       "      <td>122</td>\n",
       "      <td>Natuurlijk! Hier zijn 10 hard skills die je ku...</td>\n",
       "    </tr>\n",
       "    <tr>\n",
       "      <th>492</th>\n",
       "      <td>492</td>\n",
       "      <td>123</td>\n",
       "      <td>Natuurlijk! Hier zijn 10 hard skills die je ku...</td>\n",
       "    </tr>\n",
       "    <tr>\n",
       "      <th>493</th>\n",
       "      <td>493</td>\n",
       "      <td>124</td>\n",
       "      <td>Natuurlijk! Hier zijn 10 hard skills die je ku...</td>\n",
       "    </tr>\n",
       "    <tr>\n",
       "      <th>494</th>\n",
       "      <td>494</td>\n",
       "      <td>125</td>\n",
       "      <td>Natuurlijk! Hier zijn 10 hard skills die je ku...</td>\n",
       "    </tr>\n",
       "  </tbody>\n",
       "</table>\n",
       "<p>495 rows × 3 columns</p>\n",
       "</div>"
      ],
      "text/plain": [
       "     Unnamed: 0.1  Unnamed: 0  \\\n",
       "0               0           0   \n",
       "1               1           1   \n",
       "2               2           2   \n",
       "3               3           3   \n",
       "4               4           4   \n",
       "..            ...         ...   \n",
       "490           490         121   \n",
       "491           491         122   \n",
       "492           492         123   \n",
       "493           493         124   \n",
       "494           494         125   \n",
       "\n",
       "                                           hard_skills  \n",
       "0    1. Analytisch denken: Het vermogen om complexe...  \n",
       "1    1. Wiskundige vaardigheden: Actuarial Science ...  \n",
       "2    1. Wiskundige vaardigheden: Actuariële wetensc...  \n",
       "3    1. Dierlijke anatomie en fysiologie: het vermo...  \n",
       "4    1. Financieel management\\r\\n2. Marketingstrate...  \n",
       "..                                                 ...  \n",
       "490  Natuurlijk! Hier zijn 10 hard skills die je ku...  \n",
       "491  Natuurlijk! Hier zijn 10 hard skills die je ku...  \n",
       "492  Natuurlijk! Hier zijn 10 hard skills die je ku...  \n",
       "493  Natuurlijk! Hier zijn 10 hard skills die je ku...  \n",
       "494  Natuurlijk! Hier zijn 10 hard skills die je ku...  \n",
       "\n",
       "[495 rows x 3 columns]"
      ]
     },
     "execution_count": 154,
     "metadata": {},
     "output_type": "execute_result"
    }
   ],
   "source": [
    "functions"
   ]
  },
  {
   "cell_type": "code",
   "execution_count": 157,
   "metadata": {},
   "outputs": [
    {
     "name": "stdout",
     "output_type": "stream",
     "text": [
      "0     1. Analytisch denken: Het vermogen om complexe...\n",
      "1     1. Wiskundige vaardigheden: Actuarial Science ...\n",
      "2     1. Wiskundige vaardigheden: Actuariële wetensc...\n",
      "3     1. Dierlijke anatomie en fysiologie: het vermo...\n",
      "4     1. Financieel management\\r\\n2. Marketingstrate...\n",
      "                            ...                        \n",
      "95    1. Onderzoeksmethoden en dataverzameling\\r\\n2....\n",
      "96    1. Onderzoeksvaardigheden: Het vermogen om kri...\n",
      "97    Voor de studie Liberal Arts and Sciences aan U...\n",
      "98    Voor de studie University College Utrecht zijn...\n",
      "99    1. Probleemoplossend vermogen: Wiskunde vereis...\n",
      "Name: hard_skills, Length: 100, dtype: object\n"
     ]
    }
   ],
   "source": [
    "print(functions['hard_skills'][:100])"
   ]
  },
  {
   "cell_type": "code",
   "execution_count": 181,
   "metadata": {},
   "outputs": [],
   "source": [
    "functions=pd.read_csv(\"./specific_keyword.csv\")\n",
    "functions=functions.drop(['Unnamed: 0.1', 'Unnamed: 0'], axis=1)"
   ]
  },
  {
   "cell_type": "code",
   "execution_count": 180,
   "metadata": {},
   "outputs": [],
   "source": [
    "import json\n",
    "\n",
    "# Specify the file path\n",
    "file_path = '../bot_for_recruiters/datas/datas_json/data.json'\n",
    "\n",
    "# Open the JSON file in read mode\n",
    "with open(file_path, 'r') as file:\n",
    "    # Load the JSON data from the file\n",
    "    data = json.load(file)"
   ]
  },
  {
   "cell_type": "code",
   "execution_count": 179,
   "metadata": {},
   "outputs": [],
   "source": [
    "file_path = '../bot_for_recruiters/datas/datas_json/data.json'\n",
    "\n",
    "# Open the JSON file in write mode\n",
    "with open(file_path, 'w') as file:\n",
    "    # Write the data to the JSON file\n",
    "    json.dump(data, file, indent=4)"
   ]
  },
  {
   "cell_type": "code",
   "execution_count": 182,
   "metadata": {},
   "outputs": [],
   "source": [
    "for i in range(len(functions['specific_keywords'])):\n",
    "    list_elems = []\n",
    "    for line in functions['specific_keywords'][i].split(\"\\n\"):\n",
    "        if line.strip() and line[0].isnumeric():\n",
    "            try:\n",
    "                list_elems.append(line.strip().replace(\":\", \"\").split(' ')[1])  # Append cleaned line to list_elems\n",
    "            except:\n",
    "                pass\n",
    "    if len(list_elems) != 0:\n",
    "        # functions.at[i, 'hard_skills'] = list_elems  # Assign list_elems to the DataFrame\n",
    "        data[i]['specific_keywords']=list_elems\n",
    "    else:\n",
    "        data[i]['specific_keywords']=functions['specific_keywords'][i].split(' ')\n",
    "# print(functions)"
   ]
  },
  {
   "cell_type": "code",
   "execution_count": 183,
   "metadata": {},
   "outputs": [
    {
     "data": {
      "text/plain": [
       "{'university': 'Amsterdam VU',\n",
       " 'cluster': 'Economie',\n",
       " 'degree': 'bachelor',\n",
       " 'study': 'Aarde, Economie en Duurzaamheid',\n",
       " 'text': 'Aarde, Economie en Duurzaamheid voltijd\\xa0AmsterdamHoe kun je mensen in \\xa0verdrogende ontwikkelingslanden helpen om in hun voedsel te blijven voorzien? Op welke manier kun je duurzame energie opwekken zonder het landschap te veel aan te tasten?',\n",
       " 'url': 'https://bachelors.nl/zoeken/?orgUnitId=&programForm=full-time&profile=&studyCluster=economics&programType=&searchWord=',\n",
       " 'hard_skills': ['Analytisch',\n",
       "  'Onderzoeksvaardigheden',\n",
       "  'Kritisch',\n",
       "  'Statistische',\n",
       "  'Communicatievaardigheden',\n",
       "  'Probleemoplossend',\n",
       "  'Onderhandelingsvaardigheden',\n",
       "  'Projectmanagementvaardigheden'],\n",
       " 'functions': ['Duurzaamheidsadviseur',\n",
       "  'Milieueconoom',\n",
       "  'Duurzaamheidsmanager',\n",
       "  'Milieuanalist',\n",
       "  'Klimaatstrateeg',\n",
       "  'Energieadviseur'],\n",
       " 'specific_keywords': ['Natuurlijke',\n",
       "  'hulpbronnen,',\n",
       "  'klimaatverandering,',\n",
       "  'circulaire',\n",
       "  'economie,',\n",
       "  'duurzame',\n",
       "  'ontwikkeling,',\n",
       "  'milieubeleid,',\n",
       "  'groene',\n",
       "  'energie,',\n",
       "  'sociale',\n",
       "  'rechtvaardigheid,',\n",
       "  'ecologische',\n",
       "  'voetafdruk,',\n",
       "  'biodiversiteit,',\n",
       "  'waterbeheer,',\n",
       "  'ethiek',\n",
       "  'in',\n",
       "  'het',\n",
       "  'bedrijfsleven.']}"
      ]
     },
     "execution_count": 183,
     "metadata": {},
     "output_type": "execute_result"
    }
   ],
   "source": [
    "data[0]"
   ]
  },
  {
   "cell_type": "code",
   "execution_count": 145,
   "metadata": {},
   "outputs": [
    {
     "data": {
      "text/plain": [
       "['Natuurwetenschappen,',\n",
       " 'Ondernemerschap,',\n",
       " 'Technologie,',\n",
       " 'Economie,',\n",
       " 'Innovatie,',\n",
       " 'Duurzaamheid,',\n",
       " 'Onderzoek,',\n",
       " 'Bedrijfsstrategie,',\n",
       " 'Marktonderzoek,',\n",
       " 'Ondernemersvaardigheden']"
      ]
     },
     "execution_count": 145,
     "metadata": {},
     "output_type": "execute_result"
    }
   ],
   "source": [
    "functions['specific_keywords'][93].split(' ')"
   ]
  },
  {
   "cell_type": "code",
   "execution_count": 159,
   "metadata": {},
   "outputs": [],
   "source": [
    "functions.to_csv('hard_skills_clean.csv')"
   ]
  },
  {
   "cell_type": "code",
   "execution_count": 148,
   "metadata": {},
   "outputs": [],
   "source": [
    "k=0\n",
    "for i in functions['specific_keywords']:\n",
    "    k+=1\n",
    "    if len(i)==0:\n",
    "        print(k)"
   ]
  },
  {
   "cell_type": "code",
   "execution_count": 110,
   "metadata": {},
   "outputs": [
    {
     "data": {
      "text/plain": [
       "['8']"
      ]
     },
     "execution_count": 110,
     "metadata": {},
     "output_type": "execute_result"
    }
   ],
   "source": [
    "line.strip().replace(\":\", \"\").split(' ')[1]"
   ]
  },
  {
   "cell_type": "code",
   "execution_count": 117,
   "metadata": {},
   "outputs": [],
   "source": [
    "functions.to_csv(\"functions_keywords_clean.csv\")"
   ]
  },
  {
   "cell_type": "code",
   "execution_count": 108,
   "metadata": {},
   "outputs": [
    {
     "name": "stdout",
     "output_type": "stream",
     "text": [
      "Natuurlijk! Hier zijn 10 veelvoorkomende functies die vaak worden uitgeoefend door afgestudeerden in Business Administration:\n",
      "\n",
      "1. Accountmanager: Verantwoordelijk voor het onderhouden van klantrelaties en het genereren van verkoop.\n",
      "2. Marketingmanager: Ontwikkelt en implementeert marketingstrategieën om producten of diensten te promoten.\n",
      "3. Financieel analist: Analyseert financiële gegevens om aanbevelingen te doen voor investeringen en financiële planning.\n",
      "4. Human Resources Manager: Beheert alle aspecten van het personeelsbeleid, inclusief werving, training en arbeidsrelaties.\n",
      "5. Operations Manager: Verantwoordelijk voor het efficiënt beheren van de dagelijkse activiteiten van een organisatie.\n",
      "6. Management Consultant: Adviseert organisaties over strategische en operationele kwesties om de prestaties te verbeteren.\n",
      "7. Business Development Manager: Identificeert en creëert nieuwe zakelijke kansen om de groei van een organisatie te stimuleren.\n",
      "8\n"
     ]
    }
   ],
   "source": [
    "print(functions['functions'][20])"
   ]
  },
  {
   "cell_type": "code",
   "execution_count": 89,
   "metadata": {},
   "outputs": [
    {
     "data": {
      "text/plain": [
       "'Duurzaamheidsadviseur:'"
      ]
     },
     "execution_count": 89,
     "metadata": {},
     "output_type": "execute_result"
    }
   ],
   "source": [
    "functions['functions'][0][0].split(' ')[1]"
   ]
  },
  {
   "cell_type": "code",
   "execution_count": 68,
   "metadata": {},
   "outputs": [
    {
     "ename": "ValueError",
     "evalue": "Must have equal len keys and value when setting with an iterable",
     "output_type": "error",
     "traceback": [
      "\u001b[1;31m---------------------------------------------------------------------------\u001b[0m",
      "\u001b[1;31mValueError\u001b[0m                                Traceback (most recent call last)",
      "\u001b[1;32mc:\\Users\\GitHub\\Bots_using_selenium\\bot_for_recruiters\\concat_skills.ipynb Cell 5\u001b[0m line \u001b[0;36m6\n\u001b[0;32m      <a href='vscode-notebook-cell:/c%3A/Users/GitHub/Bots_using_selenium/bot_for_recruiters/concat_skills.ipynb#X12sZmlsZQ%3D%3D?line=3'>4</a>\u001b[0m     \u001b[39mif\u001b[39;00m functions[\u001b[39m'\u001b[39m\u001b[39mfunctions\u001b[39m\u001b[39m'\u001b[39m][i]\u001b[39m.\u001b[39msplit(\u001b[39m\"\u001b[39m\u001b[39m\\n\u001b[39;00m\u001b[39m\"\u001b[39m)[j][\u001b[39m0\u001b[39m]\u001b[39m.\u001b[39misnumeric():\n\u001b[0;32m      <a href='vscode-notebook-cell:/c%3A/Users/GitHub/Bots_using_selenium/bot_for_recruiters/concat_skills.ipynb#X12sZmlsZQ%3D%3D?line=4'>5</a>\u001b[0m         list_elems\u001b[39m.\u001b[39mappend(functions[\u001b[39m'\u001b[39m\u001b[39mfunctions\u001b[39m\u001b[39m'\u001b[39m][i]\u001b[39m.\u001b[39msplit(\u001b[39m\"\u001b[39m\u001b[39m\\n\u001b[39;00m\u001b[39m\"\u001b[39m)[j])\n\u001b[1;32m----> <a href='vscode-notebook-cell:/c%3A/Users/GitHub/Bots_using_selenium/bot_for_recruiters/concat_skills.ipynb#X12sZmlsZQ%3D%3D?line=5'>6</a>\u001b[0m df\u001b[39m.\u001b[39;49mloc[i, \u001b[39m'\u001b[39;49m\u001b[39mfunctions\u001b[39;49m\u001b[39m'\u001b[39;49m] \u001b[39m=\u001b[39m list_elems\n",
      "File \u001b[1;32mc:\\Users\\GitHub\\Bots_using_selenium\\venv\\lib\\site-packages\\pandas\\core\\indexing.py:818\u001b[0m, in \u001b[0;36m_LocationIndexer.__setitem__\u001b[1;34m(self, key, value)\u001b[0m\n\u001b[0;32m    815\u001b[0m \u001b[39mself\u001b[39m\u001b[39m.\u001b[39m_has_valid_setitem_indexer(key)\n\u001b[0;32m    817\u001b[0m iloc \u001b[39m=\u001b[39m \u001b[39mself\u001b[39m \u001b[39mif\u001b[39;00m \u001b[39mself\u001b[39m\u001b[39m.\u001b[39mname \u001b[39m==\u001b[39m \u001b[39m\"\u001b[39m\u001b[39miloc\u001b[39m\u001b[39m\"\u001b[39m \u001b[39melse\u001b[39;00m \u001b[39mself\u001b[39m\u001b[39m.\u001b[39mobj\u001b[39m.\u001b[39miloc\n\u001b[1;32m--> 818\u001b[0m iloc\u001b[39m.\u001b[39;49m_setitem_with_indexer(indexer, value, \u001b[39mself\u001b[39;49m\u001b[39m.\u001b[39;49mname)\n",
      "File \u001b[1;32mc:\\Users\\GitHub\\Bots_using_selenium\\venv\\lib\\site-packages\\pandas\\core\\indexing.py:1795\u001b[0m, in \u001b[0;36m_iLocIndexer._setitem_with_indexer\u001b[1;34m(self, indexer, value, name)\u001b[0m\n\u001b[0;32m   1792\u001b[0m \u001b[39m# align and set the values\u001b[39;00m\n\u001b[0;32m   1793\u001b[0m \u001b[39mif\u001b[39;00m take_split_path:\n\u001b[0;32m   1794\u001b[0m     \u001b[39m# We have to operate column-wise\u001b[39;00m\n\u001b[1;32m-> 1795\u001b[0m     \u001b[39mself\u001b[39;49m\u001b[39m.\u001b[39;49m_setitem_with_indexer_split_path(indexer, value, name)\n\u001b[0;32m   1796\u001b[0m \u001b[39melse\u001b[39;00m:\n\u001b[0;32m   1797\u001b[0m     \u001b[39mself\u001b[39m\u001b[39m.\u001b[39m_setitem_single_block(indexer, value, name)\n",
      "File \u001b[1;32mc:\\Users\\GitHub\\Bots_using_selenium\\venv\\lib\\site-packages\\pandas\\core\\indexing.py:1850\u001b[0m, in \u001b[0;36m_iLocIndexer._setitem_with_indexer_split_path\u001b[1;34m(self, indexer, value, name)\u001b[0m\n\u001b[0;32m   1845\u001b[0m     \u001b[39mif\u001b[39;00m \u001b[39mlen\u001b[39m(value) \u001b[39m==\u001b[39m \u001b[39m1\u001b[39m \u001b[39mand\u001b[39;00m \u001b[39mnot\u001b[39;00m is_integer(info_axis):\n\u001b[0;32m   1846\u001b[0m         \u001b[39m# This is a case like df.iloc[:3, [1]] = [0]\u001b[39;00m\n\u001b[0;32m   1847\u001b[0m         \u001b[39m#  where we treat as df.iloc[:3, 1] = 0\u001b[39;00m\n\u001b[0;32m   1848\u001b[0m         \u001b[39mreturn\u001b[39;00m \u001b[39mself\u001b[39m\u001b[39m.\u001b[39m_setitem_with_indexer((pi, info_axis[\u001b[39m0\u001b[39m]), value[\u001b[39m0\u001b[39m])\n\u001b[1;32m-> 1850\u001b[0m     \u001b[39mraise\u001b[39;00m \u001b[39mValueError\u001b[39;00m(\n\u001b[0;32m   1851\u001b[0m         \u001b[39m\"\u001b[39m\u001b[39mMust have equal len keys and value \u001b[39m\u001b[39m\"\u001b[39m\n\u001b[0;32m   1852\u001b[0m         \u001b[39m\"\u001b[39m\u001b[39mwhen setting with an iterable\u001b[39m\u001b[39m\"\u001b[39m\n\u001b[0;32m   1853\u001b[0m     )\n\u001b[0;32m   1855\u001b[0m \u001b[39melif\u001b[39;00m lplane_indexer \u001b[39m==\u001b[39m \u001b[39m0\u001b[39m \u001b[39mand\u001b[39;00m \u001b[39mlen\u001b[39m(value) \u001b[39m==\u001b[39m \u001b[39mlen\u001b[39m(\u001b[39mself\u001b[39m\u001b[39m.\u001b[39mobj\u001b[39m.\u001b[39mindex):\n\u001b[0;32m   1856\u001b[0m     \u001b[39m# We get here in one case via .loc with a all-False mask\u001b[39;00m\n\u001b[0;32m   1857\u001b[0m     \u001b[39mpass\u001b[39;00m\n",
      "\u001b[1;31mValueError\u001b[0m: Must have equal len keys and value when setting with an iterable"
     ]
    }
   ],
   "source": [
    "for i in range(len(functions['functions'][:5])):\n",
    "    list_elems=[]\n",
    "    for j in range(len(functions['functions'][0].split(\"\\n\"))):\n",
    "        if functions['functions'][i].split(\"\\n\")[j][0].isnumeric():\n",
    "            list_elems.append(functions['functions'][i].split(\"\\n\")[j])\n",
    "    df.loc[i, 'functions'] = list_elems"
   ]
  },
  {
   "cell_type": "code",
   "execution_count": 78,
   "metadata": {},
   "outputs": [],
   "source": [
    "df.loc[25, 'functions']=\"asd\""
   ]
  },
  {
   "cell_type": "code",
   "execution_count": 79,
   "metadata": {},
   "outputs": [
    {
     "data": {
      "text/plain": [
       "'asd'"
      ]
     },
     "execution_count": 79,
     "metadata": {},
     "output_type": "execute_result"
    }
   ],
   "source": [
    "df.loc[25, 'functions']"
   ]
  },
  {
   "cell_type": "code",
   "execution_count": 71,
   "metadata": {},
   "outputs": [
    {
     "ename": "ValueError",
     "evalue": "Must have equal len keys and value when setting with an iterable",
     "output_type": "error",
     "traceback": [
      "\u001b[1;31m---------------------------------------------------------------------------\u001b[0m",
      "\u001b[1;31mValueError\u001b[0m                                Traceback (most recent call last)",
      "\u001b[1;32mc:\\Users\\GitHub\\Bots_using_selenium\\bot_for_recruiters\\concat_skills.ipynb Cell 6\u001b[0m line \u001b[0;36m1\n\u001b[1;32m----> <a href='vscode-notebook-cell:/c%3A/Users/GitHub/Bots_using_selenium/bot_for_recruiters/concat_skills.ipynb#X15sZmlsZQ%3D%3D?line=0'>1</a>\u001b[0m df\u001b[39m.\u001b[39;49mloc[i, \u001b[39m'\u001b[39;49m\u001b[39mfunctions\u001b[39;49m\u001b[39m'\u001b[39;49m] \u001b[39m=\u001b[39m list_elems\n",
      "File \u001b[1;32mc:\\Users\\GitHub\\Bots_using_selenium\\venv\\lib\\site-packages\\pandas\\core\\indexing.py:818\u001b[0m, in \u001b[0;36m_LocationIndexer.__setitem__\u001b[1;34m(self, key, value)\u001b[0m\n\u001b[0;32m    815\u001b[0m \u001b[39mself\u001b[39m\u001b[39m.\u001b[39m_has_valid_setitem_indexer(key)\n\u001b[0;32m    817\u001b[0m iloc \u001b[39m=\u001b[39m \u001b[39mself\u001b[39m \u001b[39mif\u001b[39;00m \u001b[39mself\u001b[39m\u001b[39m.\u001b[39mname \u001b[39m==\u001b[39m \u001b[39m\"\u001b[39m\u001b[39miloc\u001b[39m\u001b[39m\"\u001b[39m \u001b[39melse\u001b[39;00m \u001b[39mself\u001b[39m\u001b[39m.\u001b[39mobj\u001b[39m.\u001b[39miloc\n\u001b[1;32m--> 818\u001b[0m iloc\u001b[39m.\u001b[39;49m_setitem_with_indexer(indexer, value, \u001b[39mself\u001b[39;49m\u001b[39m.\u001b[39;49mname)\n",
      "File \u001b[1;32mc:\\Users\\GitHub\\Bots_using_selenium\\venv\\lib\\site-packages\\pandas\\core\\indexing.py:1795\u001b[0m, in \u001b[0;36m_iLocIndexer._setitem_with_indexer\u001b[1;34m(self, indexer, value, name)\u001b[0m\n\u001b[0;32m   1792\u001b[0m \u001b[39m# align and set the values\u001b[39;00m\n\u001b[0;32m   1793\u001b[0m \u001b[39mif\u001b[39;00m take_split_path:\n\u001b[0;32m   1794\u001b[0m     \u001b[39m# We have to operate column-wise\u001b[39;00m\n\u001b[1;32m-> 1795\u001b[0m     \u001b[39mself\u001b[39;49m\u001b[39m.\u001b[39;49m_setitem_with_indexer_split_path(indexer, value, name)\n\u001b[0;32m   1796\u001b[0m \u001b[39melse\u001b[39;00m:\n\u001b[0;32m   1797\u001b[0m     \u001b[39mself\u001b[39m\u001b[39m.\u001b[39m_setitem_single_block(indexer, value, name)\n",
      "File \u001b[1;32mc:\\Users\\GitHub\\Bots_using_selenium\\venv\\lib\\site-packages\\pandas\\core\\indexing.py:1850\u001b[0m, in \u001b[0;36m_iLocIndexer._setitem_with_indexer_split_path\u001b[1;34m(self, indexer, value, name)\u001b[0m\n\u001b[0;32m   1845\u001b[0m     \u001b[39mif\u001b[39;00m \u001b[39mlen\u001b[39m(value) \u001b[39m==\u001b[39m \u001b[39m1\u001b[39m \u001b[39mand\u001b[39;00m \u001b[39mnot\u001b[39;00m is_integer(info_axis):\n\u001b[0;32m   1846\u001b[0m         \u001b[39m# This is a case like df.iloc[:3, [1]] = [0]\u001b[39;00m\n\u001b[0;32m   1847\u001b[0m         \u001b[39m#  where we treat as df.iloc[:3, 1] = 0\u001b[39;00m\n\u001b[0;32m   1848\u001b[0m         \u001b[39mreturn\u001b[39;00m \u001b[39mself\u001b[39m\u001b[39m.\u001b[39m_setitem_with_indexer((pi, info_axis[\u001b[39m0\u001b[39m]), value[\u001b[39m0\u001b[39m])\n\u001b[1;32m-> 1850\u001b[0m     \u001b[39mraise\u001b[39;00m \u001b[39mValueError\u001b[39;00m(\n\u001b[0;32m   1851\u001b[0m         \u001b[39m\"\u001b[39m\u001b[39mMust have equal len keys and value \u001b[39m\u001b[39m\"\u001b[39m\n\u001b[0;32m   1852\u001b[0m         \u001b[39m\"\u001b[39m\u001b[39mwhen setting with an iterable\u001b[39m\u001b[39m\"\u001b[39m\n\u001b[0;32m   1853\u001b[0m     )\n\u001b[0;32m   1855\u001b[0m \u001b[39melif\u001b[39;00m lplane_indexer \u001b[39m==\u001b[39m \u001b[39m0\u001b[39m \u001b[39mand\u001b[39;00m \u001b[39mlen\u001b[39m(value) \u001b[39m==\u001b[39m \u001b[39mlen\u001b[39m(\u001b[39mself\u001b[39m\u001b[39m.\u001b[39mobj\u001b[39m.\u001b[39mindex):\n\u001b[0;32m   1856\u001b[0m     \u001b[39m# We get here in one case via .loc with a all-False mask\u001b[39;00m\n\u001b[0;32m   1857\u001b[0m     \u001b[39mpass\u001b[39;00m\n",
      "\u001b[1;31mValueError\u001b[0m: Must have equal len keys and value when setting with an iterable"
     ]
    }
   ],
   "source": [
    "df.loc[i, 'functions'] = list_elems"
   ]
  },
  {
   "cell_type": "code",
   "execution_count": 70,
   "metadata": {},
   "outputs": [
    {
     "ename": "IndexError",
     "evalue": "string index out of range",
     "output_type": "error",
     "traceback": [
      "\u001b[1;31m---------------------------------------------------------------------------\u001b[0m",
      "\u001b[1;31mIndexError\u001b[0m                                Traceback (most recent call last)",
      "\u001b[1;32mc:\\Users\\GitHub\\Bots_using_selenium\\bot_for_recruiters\\concat_skills.ipynb Cell 6\u001b[0m line \u001b[0;36m2\n\u001b[0;32m      <a href='vscode-notebook-cell:/c%3A/Users/GitHub/Bots_using_selenium/bot_for_recruiters/concat_skills.ipynb#X14sZmlsZQ%3D%3D?line=0'>1</a>\u001b[0m functions[\u001b[39m'\u001b[39m\u001b[39mfunctions\u001b[39m\u001b[39m'\u001b[39m] \u001b[39m=\u001b[39m [item\u001b[39m.\u001b[39msplit(\u001b[39m\"\u001b[39m\u001b[39m\\n\u001b[39;00m\u001b[39m\"\u001b[39m) \u001b[39mfor\u001b[39;00m item \u001b[39min\u001b[39;00m functions[\u001b[39m'\u001b[39m\u001b[39mfunctions\u001b[39m\u001b[39m'\u001b[39m]]\n\u001b[1;32m----> <a href='vscode-notebook-cell:/c%3A/Users/GitHub/Bots_using_selenium/bot_for_recruiters/concat_skills.ipynb#X14sZmlsZQ%3D%3D?line=1'>2</a>\u001b[0m filtered_functions \u001b[39m=\u001b[39m [[line \u001b[39mfor\u001b[39;00m line \u001b[39min\u001b[39;00m item \u001b[39mif\u001b[39;00m line[\u001b[39m0\u001b[39m]\u001b[39m.\u001b[39misnumeric()] \u001b[39mfor\u001b[39;00m item \u001b[39min\u001b[39;00m functions[\u001b[39m'\u001b[39m\u001b[39mfunctions\u001b[39m\u001b[39m'\u001b[39m]]\n\u001b[0;32m      <a href='vscode-notebook-cell:/c%3A/Users/GitHub/Bots_using_selenium/bot_for_recruiters/concat_skills.ipynb#X14sZmlsZQ%3D%3D?line=3'>4</a>\u001b[0m \u001b[39m# Assign the filtered list back to the 'functions' column\u001b[39;00m\n\u001b[0;32m      <a href='vscode-notebook-cell:/c%3A/Users/GitHub/Bots_using_selenium/bot_for_recruiters/concat_skills.ipynb#X14sZmlsZQ%3D%3D?line=4'>5</a>\u001b[0m functions[\u001b[39m'\u001b[39m\u001b[39mfunctions\u001b[39m\u001b[39m'\u001b[39m] \u001b[39m=\u001b[39m filtered_functions\n",
      "\u001b[1;32mc:\\Users\\GitHub\\Bots_using_selenium\\bot_for_recruiters\\concat_skills.ipynb Cell 6\u001b[0m line \u001b[0;36m2\n\u001b[0;32m      <a href='vscode-notebook-cell:/c%3A/Users/GitHub/Bots_using_selenium/bot_for_recruiters/concat_skills.ipynb#X14sZmlsZQ%3D%3D?line=0'>1</a>\u001b[0m functions[\u001b[39m'\u001b[39m\u001b[39mfunctions\u001b[39m\u001b[39m'\u001b[39m] \u001b[39m=\u001b[39m [item\u001b[39m.\u001b[39msplit(\u001b[39m\"\u001b[39m\u001b[39m\\n\u001b[39;00m\u001b[39m\"\u001b[39m) \u001b[39mfor\u001b[39;00m item \u001b[39min\u001b[39;00m functions[\u001b[39m'\u001b[39m\u001b[39mfunctions\u001b[39m\u001b[39m'\u001b[39m]]\n\u001b[1;32m----> <a href='vscode-notebook-cell:/c%3A/Users/GitHub/Bots_using_selenium/bot_for_recruiters/concat_skills.ipynb#X14sZmlsZQ%3D%3D?line=1'>2</a>\u001b[0m filtered_functions \u001b[39m=\u001b[39m [[line \u001b[39mfor\u001b[39;00m line \u001b[39min\u001b[39;00m item \u001b[39mif\u001b[39;00m line[\u001b[39m0\u001b[39m]\u001b[39m.\u001b[39misnumeric()] \u001b[39mfor\u001b[39;00m item \u001b[39min\u001b[39;00m functions[\u001b[39m'\u001b[39m\u001b[39mfunctions\u001b[39m\u001b[39m'\u001b[39m]]\n\u001b[0;32m      <a href='vscode-notebook-cell:/c%3A/Users/GitHub/Bots_using_selenium/bot_for_recruiters/concat_skills.ipynb#X14sZmlsZQ%3D%3D?line=3'>4</a>\u001b[0m \u001b[39m# Assign the filtered list back to the 'functions' column\u001b[39;00m\n\u001b[0;32m      <a href='vscode-notebook-cell:/c%3A/Users/GitHub/Bots_using_selenium/bot_for_recruiters/concat_skills.ipynb#X14sZmlsZQ%3D%3D?line=4'>5</a>\u001b[0m functions[\u001b[39m'\u001b[39m\u001b[39mfunctions\u001b[39m\u001b[39m'\u001b[39m] \u001b[39m=\u001b[39m filtered_functions\n",
      "\u001b[1;32mc:\\Users\\GitHub\\Bots_using_selenium\\bot_for_recruiters\\concat_skills.ipynb Cell 6\u001b[0m line \u001b[0;36m2\n\u001b[0;32m      <a href='vscode-notebook-cell:/c%3A/Users/GitHub/Bots_using_selenium/bot_for_recruiters/concat_skills.ipynb#X14sZmlsZQ%3D%3D?line=0'>1</a>\u001b[0m functions[\u001b[39m'\u001b[39m\u001b[39mfunctions\u001b[39m\u001b[39m'\u001b[39m] \u001b[39m=\u001b[39m [item\u001b[39m.\u001b[39msplit(\u001b[39m\"\u001b[39m\u001b[39m\\n\u001b[39;00m\u001b[39m\"\u001b[39m) \u001b[39mfor\u001b[39;00m item \u001b[39min\u001b[39;00m functions[\u001b[39m'\u001b[39m\u001b[39mfunctions\u001b[39m\u001b[39m'\u001b[39m]]\n\u001b[1;32m----> <a href='vscode-notebook-cell:/c%3A/Users/GitHub/Bots_using_selenium/bot_for_recruiters/concat_skills.ipynb#X14sZmlsZQ%3D%3D?line=1'>2</a>\u001b[0m filtered_functions \u001b[39m=\u001b[39m [[line \u001b[39mfor\u001b[39;00m line \u001b[39min\u001b[39;00m item \u001b[39mif\u001b[39;00m line[\u001b[39m0\u001b[39;49m]\u001b[39m.\u001b[39misnumeric()] \u001b[39mfor\u001b[39;00m item \u001b[39min\u001b[39;00m functions[\u001b[39m'\u001b[39m\u001b[39mfunctions\u001b[39m\u001b[39m'\u001b[39m]]\n\u001b[0;32m      <a href='vscode-notebook-cell:/c%3A/Users/GitHub/Bots_using_selenium/bot_for_recruiters/concat_skills.ipynb#X14sZmlsZQ%3D%3D?line=3'>4</a>\u001b[0m \u001b[39m# Assign the filtered list back to the 'functions' column\u001b[39;00m\n\u001b[0;32m      <a href='vscode-notebook-cell:/c%3A/Users/GitHub/Bots_using_selenium/bot_for_recruiters/concat_skills.ipynb#X14sZmlsZQ%3D%3D?line=4'>5</a>\u001b[0m functions[\u001b[39m'\u001b[39m\u001b[39mfunctions\u001b[39m\u001b[39m'\u001b[39m] \u001b[39m=\u001b[39m filtered_functions\n",
      "\u001b[1;31mIndexError\u001b[0m: string index out of range"
     ]
    }
   ],
   "source": [
    "functions['functions'] = [item.split(\"\\n\") for item in functions['functions']]\n",
    "filtered_functions = [[line for line in item if line[0].isnumeric()] for item in functions['functions']]\n",
    "\n",
    "# Assign the filtered list back to the 'functions' column\n",
    "functions['functions'] = filtered_functions"
   ]
  },
  {
   "cell_type": "code",
   "execution_count": 69,
   "metadata": {},
   "outputs": [
    {
     "data": {
      "text/plain": [
       "['1. Duurzaamheidsadviseur: Het adviseren van organisaties over duurzaamheidsstrategieën en het helpen implementeren van duurzame praktijken.\\r',\n",
       " '2. Milieueconoom: Het bestuderen van de economische impact van milieuproblemen en het ontwikkelen van beleid om deze problemen aan te pakken.\\r',\n",
       " '3. Duurzaamheidsmanager: Het beheren en coördineren van duurzaamheidsinitiatieven binnen een organisatie.\\r',\n",
       " '4. Milieuanalist: Het analyseren van milieugegevens en het beoordelen van de impact van menselijke activiteiten op het milieu.\\r',\n",
       " '5. Klimaatstrateeg: Het ontwikkelen van strategieën en beleid om klimaatverandering aan te pakken en de gevolgen ervan te verminderen.\\r',\n",
       " '6. Energieadviseur: Het adviseren van individuen en organis']"
      ]
     },
     "execution_count": 69,
     "metadata": {},
     "output_type": "execute_result"
    }
   ],
   "source": [
    "list_elems"
   ]
  },
  {
   "cell_type": "code",
   "execution_count": 62,
   "metadata": {},
   "outputs": [
    {
     "data": {
      "text/plain": [
       "'Natuurlijk! Hier zijn 10 functies die vaak worden uitgeoefend door mensen die studeren in het vakgebied van Aarde, Economie en Duurzaamheid:\\r\\n\\r\\n1. Duurzaamheidsadviseur: Het adviseren van organisaties over duurzaamheidsstrategieën en het helpen implementeren van duurzame praktijken.\\r\\n2. Milieueconoom: Het bestuderen van de economische impact van milieuproblemen en het ontwikkelen van beleid om deze problemen aan te pakken.\\r\\n3. Duurzaamheidsmanager: Het beheren en coördineren van duurzaamheidsinitiatieven binnen een organisatie.\\r\\n4. Milieuanalist: Het analyseren van milieugegevens en het beoordelen van de impact van menselijke activiteiten op het milieu.\\r\\n5. Klimaatstrateeg: Het ontwikkelen van strategieën en beleid om klimaatverandering aan te pakken en de gevolgen ervan te verminderen.\\r\\n6. Energieadviseur: Het adviseren van individuen en organis'"
      ]
     },
     "execution_count": 62,
     "metadata": {},
     "output_type": "execute_result"
    }
   ],
   "source": [
    "functions['functions'][0]"
   ]
  },
  {
   "cell_type": "code",
   "execution_count": 45,
   "metadata": {},
   "outputs": [
    {
     "name": "stdout",
     "output_type": "stream",
     "text": [
      "['1. Interdisciplinair\\r', '2. Brede academische vorming\\r', '3. Kritisch denken\\r', '4. Analytische vaardigheden\\r', '5. Communicatieve vaardigheden\\r', '6. Probleemoplossend vermogen\\r', '7. Creativiteit\\r', '8. Onderzoeksvaardigheden\\r', '9. Culturele diversiteit\\r', '10. Maatschappelijke betrokkenheid']\n"
     ]
    }
   ],
   "source": [
    "print(functions['specific_keywords'][2].split(\"\\n\")[:12])"
   ]
  },
  {
   "cell_type": "code",
   "execution_count": 21,
   "metadata": {},
   "outputs": [],
   "source": [
    "df.to_csv('specific_keyword.csv')"
   ]
  }
 ],
 "metadata": {
  "kernelspec": {
   "display_name": "venv",
   "language": "python",
   "name": "python3"
  },
  "language_info": {
   "codemirror_mode": {
    "name": "ipython",
    "version": 3
   },
   "file_extension": ".py",
   "mimetype": "text/x-python",
   "name": "python",
   "nbconvert_exporter": "python",
   "pygments_lexer": "ipython3",
   "version": "3.8.8"
  }
 },
 "nbformat": 4,
 "nbformat_minor": 2
}
