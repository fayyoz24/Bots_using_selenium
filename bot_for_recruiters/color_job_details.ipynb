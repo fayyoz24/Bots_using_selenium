{
 "cells": [
  {
   "cell_type": "code",
   "execution_count": 60,
   "metadata": {},
   "outputs": [],
   "source": [
    "red=\"\"\" comfortabel met conflict\n",
    " productieve discussies\n",
    " je uitspreken\n",
    " constructieve kritiek\n",
    " efficiëntie creëren\n",
    " direct\n",
    " zelfstandig\n",
    " vastberaden\n",
    " gemotiveerd\n",
    " ambitieuze doelen\n",
    " zelfstandig\n",
    " anderen leiden\n",
    " verbeteren\n",
    " omgeving\n",
    " direct spreken\n",
    " snel beslissen\n",
    " leiding nemen\n",
    " oplossingen verkennen\n",
    " de moeite waard\n",
    " effectief\n",
    " vastberadenheid\n",
    " zelfvertrouwen\n",
    " leider\n",
    " zelfverzekerd\n",
    " dromer\n",
    " sociale situaties\n",
    " gedachten delen\n",
    " overwegen\n",
    " competitief\n",
    " veeleisend\n",
    " vastberaden\n",
    " doelgericht.\"\"\".replace(\"\\n\", \"\").split(\" \")[1:]"
   ]
  },
  {
   "cell_type": "code",
   "execution_count": 5,
   "metadata": {},
   "outputs": [],
   "source": [
    "blue=\"\"\" Logisch\n",
    " Systematisch\n",
    " Grondig nadenken\n",
    " Besluitvorming\n",
    " Procedures\n",
    " Gedetailleerde vragen\n",
    " Objectief\n",
    " Stille houding\n",
    " Afleiding\n",
    " Verstoring\n",
    " Onafhankelijk werken\n",
    " Oplossingen vinden\n",
    " Verkennen\n",
    " Effectieve oplossingen bedenken\n",
    " Complex uitdagingen\n",
    " Nauwkeurigheid\n",
    " Resultaten gericht\n",
    " details\n",
    " Systematische aanpak\n",
    " Probleemoplossing\n",
    " Tijd alleen doorbrengen\n",
    " Werken aan eigen doelen\n",
    " Privé\n",
    " Het waarderen van een doel\n",
    " Focus\n",
    " voorzichtig\n",
    " nauwkeurig\n",
    " analytisch\n",
    " weloverwogen\n",
    " vragend\n",
    " formeel\"\"\".replace(\"\\n\", \"\").split(\" \")[1:]"
   ]
  },
  {
   "cell_type": "code",
   "execution_count": 6,
   "metadata": {},
   "outputs": [
    {
     "data": {
      "text/plain": [
       "['Logisch',\n",
       " 'Systematisch',\n",
       " 'Grondig nadenken',\n",
       " 'Besluitvorming',\n",
       " 'Procedures',\n",
       " 'Gedetailleerde vragen',\n",
       " 'Objectief',\n",
       " 'Stille houding',\n",
       " 'Afleiding',\n",
       " 'Verstoring',\n",
       " 'Onafhankelijk werken',\n",
       " 'Oplossingen vinden',\n",
       " 'Verkennen',\n",
       " 'Effectieve oplossingen bedenken',\n",
       " 'Complex uitdagingen',\n",
       " 'Nauwkeurigheid',\n",
       " 'Resultaten gericht',\n",
       " 'details',\n",
       " 'Systematische aanpak',\n",
       " 'Probleemoplossing',\n",
       " 'Tijd alleen doorbrengen',\n",
       " 'Werken aan eigen doelen',\n",
       " 'Privé',\n",
       " 'Het waarderen van een doel',\n",
       " 'Focus',\n",
       " 'voorzichtig',\n",
       " 'nauwkeurig',\n",
       " 'analytisch',\n",
       " 'weloverwogen',\n",
       " 'vragend',\n",
       " 'formeel']"
      ]
     },
     "execution_count": 6,
     "metadata": {},
     "output_type": "execute_result"
    }
   ],
   "source": [
    "blue"
   ]
  },
  {
   "cell_type": "code",
   "execution_count": 3,
   "metadata": {},
   "outputs": [],
   "source": [
    "yellow=\"\"\" Extraverte denker\n",
    " Zelfverzekerd\n",
    " Besluitvaardig\n",
    " Gedurfde actie\n",
    " Ideeën articuleren\n",
    " Momentum opbouwen\n",
    " Projecten\n",
    " Nastreven\n",
    " Visionair\n",
    " Verbinden met anderen\n",
    " Innovatieve ideeën\n",
    " De essentie van een idee verwoorden\n",
    " Mogelijke gebreken\n",
    " Priscilla\n",
    " Optimist\n",
    " Energie\n",
    " Enthousiasme\n",
    " Passie\n",
    " Aanstekelijk\n",
    " sociale vaardigheden\n",
    " overtuigend\n",
    " Geduldig\n",
    " Vertrouwend\n",
    " Optimistisch\n",
    " Gastvrije omgeving\n",
    " Gewoon gesprek\n",
    " Informeel gesprek\n",
    " sociaal\n",
    " dynamisch\n",
    " demonstratief\n",
    " enthousiast\n",
    " overtuigend\"\"\".replace(\"\\n\", \"\").split(\" \")[1:]"
   ]
  },
  {
   "cell_type": "code",
   "execution_count": 1,
   "metadata": {},
   "outputs": [],
   "source": [
    "green=\"\"\" Consciëntieus\n",
    " attent\n",
    " Ondersteunend\n",
    " gedrag\n",
    " zich welkom voelen\n",
    " comfortabel\n",
    " vredig\n",
    " harmonieus\n",
    " omgeving\n",
    " nauw samenwerken\n",
    " aandachtig luisteren\n",
    " ideeën van anderen (zorgvuldig) overwegen\n",
    " nadenken over beslissingen\n",
    " loyaal\n",
    " behulpzaam\n",
    " stabiliserende kracht\n",
    " tijd investeren\n",
    " relaties opbouwen\n",
    " chaos vermijden\n",
    " streven naar orde\n",
    " streven naar stabiliteit\n",
    " methodisch\n",
    " standvastig\n",
    " houdt niet van onderbrekingen\n",
    " houdt niet van afleidingen\n",
    " waarde aan kwaliteit\n",
    " zorgzaam\n",
    " bemoedigend\n",
    " delen\n",
    " geduldig\n",
    " ontspannen.\"\"\".replace(\"\\n\", \"\").split(\" \")[1:]"
   ]
  },
  {
   "cell_type": "code",
   "execution_count": 2,
   "metadata": {},
   "outputs": [
    {
     "data": {
      "text/plain": [
       "['Consciëntieus',\n",
       " 'attent',\n",
       " 'Ondersteunend',\n",
       " 'gedrag',\n",
       " 'zich welkom voelen',\n",
       " 'comfortabel',\n",
       " 'vredig',\n",
       " 'harmonieus',\n",
       " 'omgeving',\n",
       " 'nauw samenwerken',\n",
       " 'aandachtig luisteren',\n",
       " 'ideeën van anderen (zorgvuldig) overwegen',\n",
       " 'nadenken over beslissingen',\n",
       " 'loyaal',\n",
       " 'behulpzaam',\n",
       " 'stabiliserende kracht',\n",
       " 'tijd investeren',\n",
       " 'relaties opbouwen',\n",
       " 'chaos vermijden',\n",
       " 'streven naar orde',\n",
       " 'streven naar stabiliteit',\n",
       " 'methodisch',\n",
       " 'standvastig',\n",
       " 'houdt niet van onderbrekingen',\n",
       " 'houdt niet van afleidingen',\n",
       " 'waarde aan kwaliteit',\n",
       " 'zorgzaam',\n",
       " 'bemoedigend',\n",
       " 'delen',\n",
       " 'geduldig',\n",
       " 'ontspannen.']"
      ]
     },
     "execution_count": 2,
     "metadata": {},
     "output_type": "execute_result"
    }
   ],
   "source": [
    "green"
   ]
  },
  {
   "cell_type": "code",
   "execution_count": 82,
   "metadata": {},
   "outputs": [
    {
     "name": "stdout",
     "output_type": "stream",
     "text": [
      "DONE\n",
      "red\n"
     ]
    }
   ],
   "source": [
    "from bs4 import BeautifulSoup\n",
    "import time\n",
    "from selenium.webdriver.chrome.options import Options\n",
    "from selenium.common.exceptions import TimeoutException\n",
    "from selenium.webdriver.support.ui import WebDriverWait\n",
    "from selenium.webdriver.support import expected_conditions as EC\n",
    "from selenium import webdriver\n",
    "from selenium.webdriver.common.by import By\n",
    "import pandas as pd\n",
    "from selenium.webdriver.common.keys import Keys\n",
    "import json\n",
    "url=\"https://magnet.me/nl-NL/vacature/620384/it-operational-risk-manager\"\n",
    "\n",
    "options=Options()\n",
    "options.add_argument(\"--headless\")\n",
    "driver = webdriver.Chrome(options=options)\n",
    "driver.get(url)\n",
    "element_present = EC.presence_of_element_located((By.TAG_NAME, 'p'))\n",
    "WebDriverWait(driver, 20).until(element_present)\n",
    "print(\"DONE\")\n",
    "src = driver.page_source\n",
    "soup = BeautifulSoup(src, 'lxml')\n",
    "\n",
    "text_list=[]\n",
    "for p in soup.find_all(\"p\"):\n",
    "    text_list.append(p.text)\n",
    "p_text=\" \".join(text_list)\n",
    "\n",
    "h_text_list=[]\n",
    "for i in range(1, 7):\n",
    "    for h in soup.find_all(f\"h{i}\"):\n",
    "        h_text_list.append(h.text)\n",
    "h_text=\" \".join(h_text_list)\n",
    "whole_text=p_text+\" \"+h_text\n",
    "\n",
    "re=0\n",
    "for r in red:\n",
    "    if r in whole_text:\n",
    "        re+=1\n",
    "bl=0\n",
    "for b in blue:\n",
    "    if b in whole_text:\n",
    "        bl+=1\n",
    "yl=0\n",
    "for y in yellow:\n",
    "    if y in whole_text:\n",
    "        yl+=1\n",
    "gr=0\n",
    "for g in green:\n",
    "    if g in whole_text:\n",
    "        gr+=1\n",
    "variables={\n",
    "    \"red\":re,\n",
    "    \"blue\":bl,\n",
    "    \"green\":gr,\n",
    "    \"yellow\":yl\n",
    "}\n",
    "\n",
    "maximum_variable, maximum_value = max(variables.items(), key=lambda x: x[1])\n",
    "print(maximum_variable)"
   ]
  },
  {
   "cell_type": "code",
   "execution_count": 85,
   "metadata": {},
   "outputs": [
    {
     "data": {
      "text/plain": [
       "0"
      ]
     },
     "execution_count": 85,
     "metadata": {},
     "output_type": "execute_result"
    }
   ],
   "source": [
    "yl"
   ]
  },
  {
   "cell_type": "code",
   "execution_count": 76,
   "metadata": {},
   "outputs": [
    {
     "data": {
      "text/plain": [
       "1"
      ]
     },
     "execution_count": 76,
     "metadata": {},
     "output_type": "execute_result"
    }
   ],
   "source": [
    "yl"
   ]
  },
  {
   "cell_type": "code",
   "execution_count": 57,
   "metadata": {},
   "outputs": [],
   "source": [
    "whole_text=p_text+\" \"+h_text"
   ]
  },
  {
   "cell_type": "code",
   "execution_count": null,
   "metadata": {},
   "outputs": [],
   "source": [
    "red=\"\"\" comfortabel met conflict\n",
    " productieve discussies\n",
    " je uitspreken\n",
    " constructieve kritiek\n",
    " efficiëntie creëren\n",
    " direct\n",
    " zelfstandig\n",
    " vastberaden\n",
    " gemotiveerd\n",
    " ambitieuze doelen\n",
    " zelfstandig\n",
    " anderen leiden\n",
    " verbeteren\n",
    " omgeving\n",
    " direct spreken\n",
    " snel beslissen\n",
    " leiding nemen\n",
    " oplossingen verkennen\n",
    " de moeite waard\n",
    " effectief\n",
    " vastberadenheid\n",
    " zelfvertrouwen\n",
    " leider\n",
    " zelfverzekerd\n",
    " dromer\n",
    " sociale situaties\n",
    " gedachten delen\n",
    " overwegen\n",
    " competitief\n",
    " veeleisend\n",
    " vastberaden\n",
    " doelgericht.\"\"\""
   ]
  },
  {
   "cell_type": "code",
   "execution_count": 58,
   "metadata": {},
   "outputs": [
    {
     "data": {
      "text/plain": [
       "'Magnet.me\\xa0\\xa0-\\xa0\\xa0Het slimme netwerk waarop hbo‑ en wo‑studenten hun baan of stage vinden. Het slimme netwerk waarop hbo‑ en wo‑studenten hun baan of stage vinden. Je carrière begint op Magnet.me Maak een profiel aan en ontvang slimme aanbevelingen op basis van je gelikete vacatures. Als calculator werk je samen met het projectteam aan verschillende middel grote en grote projecten in de woningbouw en utiliteitsbouw voor zowel de permanente als de tijdelijke markt. Je bent verantwoordelijk voor het uitwerken van complexe aanvragen tot betrouwbare en duidelijke kostprijscalculatie. Vanaf een grove raming t/m een gedetailleerde werkbegroting. Aan de hand van ontwerpschetsen en bestektekeningen bereken je hoeveelheden en materialen waarbij je eventuele optimalisaties en kostenbewuste alternatieven aandraagt. Daarnaast spar je met je team over de nieuwste ontwikkelingen binnen het vak en lever je een grote bijdrage aan het professionaliseren en digitaliseren. De tijd dat een calculator alleen maar aan het rekenen was, ligt ver achter ons. Je bent als calculator niet alleen een technische vraagbaak binnen het bouwteam maar overlegt ook regelmatig met onderaannemers, projectmanagers of andere specialisten zoals constructeurs en adviseurs bouwfysica/installaties. Een greep uit je werkzaamheden: Dit zijn jouw collega’s De afdeling calculatie vormt samen met projectmanagement, binnendienstproject proces coördinatie en ontwerp, de basis voor als onze projecten. Je werkt dagelijks met meerdere collega’s aan projecten in de ontwerp- en uitwerkingsfase van het bouwtraject. Onlangs zijn we voor de vierde keer verkozen tot beste werkgever in bouw en infra. En dat is niet voor niets. We besteden veel aandacht aan jouw werkplezier en ontwikkeling. Daarnaast krijg je: Jouw ervaring met BIM deel je enthousiast met je collega’s. Daarbij vind je het leuk om te werken aan verbeteringen en vernieuwingen en zie jij de mogelijkheden om onze afdeling naar een hoger niveau te tillen. Je kunt zelfstandig werken, maar schakelt net zo makkelijk met de projectleider en werkvoorbereider in je projectteam en met externe onderaannemers, leveranciers, adviseurs en constructeurs. En verder: Wil je direct solliciteren? Reageer via de ‘nu solliciteren’ knop, onderaan de pagina. Geen cv bij de hand? Solliciteren via Whatsapp is ook een optie. Wil je eerst meer weten over de vacature? Bel, app of mail met Jill ter Grote. De Groot Vroomshoop is al bij honderd jaar een innovatieve en vooruitstrevende speler binnen de bouwsector. De introductie van prefab bouwen in Nederland leverde ons een voorsprong op in de markt van circulair bouwen. Ons bedrijf bestaat uit drie onderdelen: Bouwsystemen, Houtbouw en Gelijmde Houtconstructies. Onze grootste troef? Onze ruim 250 medewerkers. Ze vinden bij ons werkplezier, kansen om een leven lang te leren en ruimte voor individuele inbreng. Dat dit gewaardeerd wordt blijkt uit onze titel van beste werkgever in de bedrijfstak Bouw & Infra, die we behaalden in 2018, 2019, 2020 én 2022. Jij werkt voor het onderdeel Bouwsystemen. In de rol van aannemer realiseren we tijdelijke of permanente gebouwen van hout en maken we gebruik van drie verschillende systemen. We werken aan uiteenlopende projecten, van tijdelijke woningen voor studenten of migranten tot een schoolgebouw, zorgcentrum of kantoor en zijn altijd op zoek naar duurzame oplossingen. Hoe bouwen we circulair? Kunnen we elementen herplaatsen? Zo bouwen we in Alkmaar een van de grootste houten woongebouwen van Nederland. En met het gebouw voor basisschool Het Epos in Rotterdam wonnen we de Nationale Houtbouwprijs 2021. Bij VolkerWessels kunnen we met trots zeggen: wie maakt,bouwt en geeft daarmee vorm aan de toekomst. Daaromgaan we altijd voor een leefomgeving waarin volgendegeneraties gezond en gelukkig kunnen leven, wonen enwerken!De toekomst maken doen we al generaties lang. Vóórgeneraties.Wij zijn VolkerWessels. Een toonaangevendNederlands bouwconcern, actief in vier landen. Met 130werkmaatschappijen en 17.000 specialisten die de krachtenbundelen. Wij zijn makers. De toekomstmakers. Als je nog niet precies weet welke kant je op wilt, in de bouw, de energie, telecom of de infra, dan kun je in dit traineeship zien waar je interesses liggen. Van alle plekken krijg je wat mee. Het voordeel van de VolkerWessels Academy? Het grote netwerk! Je maakt echt verbinding. Nieuwegein, NL Bekijk ons aanbod: Direct naar: Resources: Magnet.me Change language to: English Deze pagina is geoptimaliseerd voor mensen uit Nederland. Bekijk de versie geoptimaliseerd voor mensen uit het Verenigd Koninkrijk. Calculator Dit ga je doen Zo passen wij bij jou Zo pas jij bij ons Interesse of meer weten? Dit zijn wij Dit zeggen medewerkers Anderen bekeken ook Antonie Laurens Calculator Trainee Finance & Control Werkvoorbereider VolkerWessels'"
      ]
     },
     "execution_count": 58,
     "metadata": {},
     "output_type": "execute_result"
    }
   ],
   "source": [
    "whole_text"
   ]
  },
  {
   "cell_type": "code",
   "execution_count": 55,
   "metadata": {},
   "outputs": [],
   "source": [
    "red=\"\"\" comfortabel met conflict\n",
    " productieve discussies\n",
    " je uitspreken\n",
    " constructieve kritiek\n",
    " efficiëntie creëren\n",
    " direct\n",
    " zelfstandig\n",
    " vastberaden\n",
    " gemotiveerd\n",
    " ambitieuze doelen\n",
    " zelfstandig\n",
    " anderen leiden\n",
    " verbeteren\n",
    " omgeving\n",
    " direct spreken\n",
    " snel beslissen\n",
    " leiding nemen\n",
    " oplossingen verkennen\n",
    " de moeite waard\n",
    " effectief\n",
    " vastberadenheid\n",
    " zelfvertrouwen\n",
    " leider\n",
    " zelfverzekerd\n",
    " dromer\n",
    " sociale situaties\n",
    " gedachten delen\n",
    " overwegen\n",
    " competitief\n",
    " veeleisend\n",
    " vastberaden\n",
    " doelgericht.\"\"\".replace(\"\\n\", \"\").split(\" \")[1:]"
   ]
  },
  {
   "cell_type": "code",
   "execution_count": 59,
   "metadata": {},
   "outputs": [],
   "source": [
    "b=red"
   ]
  },
  {
   "cell_type": "code",
   "execution_count": 50,
   "metadata": {},
   "outputs": [
    {
     "data": {
      "text/plain": [
       "'Magnet.me\\xa0\\xa0-\\xa0\\xa0Het slimme netwerk waarop hbo‑ en wo‑studenten hun baan of stage vinden. Het slimme netwerk waarop hbo‑ en wo‑studenten hun baan of stage vinden. Je carrière begint op Magnet.me Maak een profiel aan en ontvang slimme aanbevelingen op basis van je gelikete vacatures. Als calculator werk je samen met het projectteam aan verschillende middel grote en grote projecten in de woningbouw en utiliteitsbouw voor zowel de permanente als de tijdelijke markt. Je bent verantwoordelijk voor het uitwerken van complexe aanvragen tot betrouwbare en duidelijke kostprijscalculatie. Vanaf een grove raming t/m een gedetailleerde werkbegroting. Aan de hand van ontwerpschetsen en bestektekeningen bereken je hoeveelheden en materialen waarbij je eventuele optimalisaties en kostenbewuste alternatieven aandraagt. Daarnaast spar je met je team over de nieuwste ontwikkelingen binnen het vak en lever je een grote bijdrage aan het professionaliseren en digitaliseren. De tijd dat een calculator alleen maar aan het rekenen was, ligt ver achter ons. Je bent als calculator niet alleen een technische vraagbaak binnen het bouwteam maar overlegt ook regelmatig met onderaannemers, projectmanagers of andere specialisten zoals constructeurs en adviseurs bouwfysica/installaties. Een greep uit je werkzaamheden: Dit zijn jouw collega’s De afdeling calculatie vormt samen met projectmanagement, binnendienstproject proces coördinatie en ontwerp, de basis voor als onze projecten. Je werkt dagelijks met meerdere collega’s aan projecten in de ontwerp- en uitwerkingsfase van het bouwtraject. Onlangs zijn we voor de vierde keer verkozen tot beste werkgever in bouw en infra. En dat is niet voor niets. We besteden veel aandacht aan jouw werkplezier en ontwikkeling. Daarnaast krijg je: Jouw ervaring met BIM deel je enthousiast met je collega’s. Daarbij vind je het leuk om te werken aan verbeteringen en vernieuwingen en zie jij de mogelijkheden om onze afdeling naar een hoger niveau te tillen. Je kunt zelfstandig werken, maar schakelt net zo makkelijk met de projectleider en werkvoorbereider in je projectteam en met externe onderaannemers, leveranciers, adviseurs en constructeurs. En verder: Wil je direct solliciteren? Reageer via de ‘nu solliciteren’ knop, onderaan de pagina. Geen cv bij de hand? Solliciteren via Whatsapp is ook een optie. Wil je eerst meer weten over de vacature? Bel, app of mail met Jill ter Grote. De Groot Vroomshoop is al bij honderd jaar een innovatieve en vooruitstrevende speler binnen de bouwsector. De introductie van prefab bouwen in Nederland leverde ons een voorsprong op in de markt van circulair bouwen. Ons bedrijf bestaat uit drie onderdelen: Bouwsystemen, Houtbouw en Gelijmde Houtconstructies. Onze grootste troef? Onze ruim 250 medewerkers. Ze vinden bij ons werkplezier, kansen om een leven lang te leren en ruimte voor individuele inbreng. Dat dit gewaardeerd wordt blijkt uit onze titel van beste werkgever in de bedrijfstak Bouw & Infra, die we behaalden in 2018, 2019, 2020 én 2022. Jij werkt voor het onderdeel Bouwsystemen. In de rol van aannemer realiseren we tijdelijke of permanente gebouwen van hout en maken we gebruik van drie verschillende systemen. We werken aan uiteenlopende projecten, van tijdelijke woningen voor studenten of migranten tot een schoolgebouw, zorgcentrum of kantoor en zijn altijd op zoek naar duurzame oplossingen. Hoe bouwen we circulair? Kunnen we elementen herplaatsen? Zo bouwen we in Alkmaar een van de grootste houten woongebouwen van Nederland. En met het gebouw voor basisschool Het Epos in Rotterdam wonnen we de Nationale Houtbouwprijs 2021. Bij VolkerWessels kunnen we met trots zeggen: wie maakt,bouwt en geeft daarmee vorm aan de toekomst. Daaromgaan we altijd voor een leefomgeving waarin volgendegeneraties gezond en gelukkig kunnen leven, wonen enwerken!De toekomst maken doen we al generaties lang. Vóórgeneraties.Wij zijn VolkerWessels. Een toonaangevendNederlands bouwconcern, actief in vier landen. Met 130werkmaatschappijen en 17.000 specialisten die de krachtenbundelen. Wij zijn makers. De toekomstmakers. Als je nog niet precies weet welke kant je op wilt, in de bouw, de energie, telecom of de infra, dan kun je in dit traineeship zien waar je interesses liggen. Van alle plekken krijg je wat mee. Het voordeel van de VolkerWessels Academy? Het grote netwerk! Je maakt echt verbinding. Nieuwegein, NL Bekijk ons aanbod: Direct naar: Resources: Magnet.me Change language to: English Deze pagina is geoptimaliseerd voor mensen uit Nederland. Bekijk de versie geoptimaliseerd voor mensen uit het Verenigd Koninkrijk.'"
      ]
     },
     "execution_count": 50,
     "metadata": {},
     "output_type": "execute_result"
    }
   ],
   "source": [
    "p_text"
   ]
  },
  {
   "cell_type": "code",
   "execution_count": 51,
   "metadata": {},
   "outputs": [
    {
     "data": {
      "text/plain": [
       "'Calculator Dit ga je doen Zo passen wij bij jou Zo pas jij bij ons Interesse of meer weten? Dit zijn wij Dit zeggen medewerkers Anderen bekeken ook Antonie Laurens Calculator Trainee Finance & Control Werkvoorbereider VolkerWessels'"
      ]
     },
     "execution_count": 51,
     "metadata": {},
     "output_type": "execute_result"
    }
   ],
   "source": [
    "h_text"
   ]
  },
  {
   "cell_type": "code",
   "execution_count": 42,
   "metadata": {},
   "outputs": [],
   "source": [
    "for h in soup.find_all(\"p\", 'h1'):\n",
    "    h_text_list.append(p.text)"
   ]
  },
  {
   "cell_type": "code",
   "execution_count": 45,
   "metadata": {},
   "outputs": [
    {
     "data": {
      "text/plain": [
       "[<h1 class=\"c03108\" data-monitoring=\"opportunityName\">Calculator</h1>]"
      ]
     },
     "execution_count": 45,
     "metadata": {},
     "output_type": "execute_result"
    }
   ],
   "source": [
    "soup.find_all('h1')"
   ]
  },
  {
   "cell_type": "code",
   "execution_count": 40,
   "metadata": {},
   "outputs": [],
   "source": [
    "K=\" \".join(text_list)"
   ]
  },
  {
   "cell_type": "code",
   "execution_count": 39,
   "metadata": {},
   "outputs": [
    {
     "data": {
      "text/plain": [
       "'Magnet.me\\xa0\\xa0-\\xa0\\xa0Het slimme netwerk waarop hbo‑ en wo‑studenten hun baan of stage vinden.Het slimme netwerk waarop hbo‑ en wo‑studenten hun baan of stage vinden.Je carrière begint op Magnet.meMaak een profiel aan en ontvang slimme aanbevelingen op basis van je gelikete vacatures.Als calculator werk je samen met het projectteam aan verschillende middel grote en grote projecten in de woningbouw en utiliteitsbouw voor zowel de permanente als de tijdelijke markt. Je bent verantwoordelijk voor het uitwerken van complexe aanvragen tot betrouwbare en duidelijke kostprijscalculatie. Vanaf een grove raming t/m een gedetailleerde werkbegroting. Aan de hand van ontwerpschetsen en bestektekeningen bereken je hoeveelheden en materialen waarbij je eventuele optimalisaties en kostenbewuste alternatieven aandraagt.Daarnaast spar je met je team over de nieuwste ontwikkelingen binnen het vak en lever je een grote bijdrage aan het professionaliseren en digitaliseren.De tijd dat een calculator alleen maar aan het rekenen was, ligt ver achter ons. Je bent als calculator niet alleen een technische vraagbaak binnen het bouwteam maar overlegt ook regelmatig met onderaannemers, projectmanagers of andere specialisten zoals constructeurs en adviseurs bouwfysica/installaties.Een greep uit je werkzaamheden:Dit zijn jouw collega’sDe afdeling calculatie vormt samen met projectmanagement, binnendienstproject proces coördinatie en ontwerp, de basis voor als onze projecten. Je werkt dagelijks met meerdere collega’s aan projecten in de ontwerp- en uitwerkingsfase van het bouwtraject.Onlangs zijn we voor de vierde keer verkozen tot beste werkgever in bouw en infra. En dat is niet voor niets. We besteden veel aandacht aan jouw werkplezier en ontwikkeling. Daarnaast krijg je:Jouw ervaring met BIM deel je enthousiast met je collega’s. Daarbij vind je het leuk om te werken aan verbeteringen en vernieuwingen en zie jij de mogelijkheden om onze afdeling naar een hoger niveau te tillen. Je kunt zelfstandig werken, maar schakelt net zo makkelijk met de projectleider en werkvoorbereider in je projectteam en met externe onderaannemers, leveranciers, adviseurs en constructeurs. En verder:Wil je direct solliciteren? Reageer via de ‘nu solliciteren’ knop, onderaan de pagina. Geen cv bij de hand? Solliciteren via Whatsapp is ook een optie.Wil je eerst meer weten over de vacature? Bel, app of mail met Jill ter Grote.De Groot Vroomshoop is al bij honderd jaar een innovatieve en vooruitstrevende speler binnen de bouwsector. De introductie van prefab bouwen in Nederland leverde ons een voorsprong op in de markt van circulair bouwen. Ons bedrijf bestaat uit drie onderdelen: Bouwsystemen, Houtbouw en Gelijmde Houtconstructies. Onze grootste troef? Onze ruim 250 medewerkers. Ze vinden bij ons werkplezier, kansen om een leven lang te leren en ruimte voor individuele inbreng. Dat dit gewaardeerd wordt blijkt uit onze titel van beste werkgever in de bedrijfstak Bouw & Infra, die we behaalden in 2018, 2019, 2020 én 2022.Jij werkt voor het onderdeel Bouwsystemen. In de rol van aannemer realiseren we tijdelijke of permanente gebouwen van hout en maken we gebruik van drie verschillende systemen. We werken aan uiteenlopende projecten, van tijdelijke woningen voor studenten of migranten tot een schoolgebouw, zorgcentrum of kantoor en zijn altijd op zoek naar duurzame oplossingen. Hoe bouwen we circulair? Kunnen we elementen herplaatsen? Zo bouwen we in Alkmaar een van de grootste houten woongebouwen van Nederland. En met het gebouw voor basisschool Het Epos in Rotterdam wonnen we de Nationale Houtbouwprijs 2021.Bij VolkerWessels kunnen we met trots zeggen: wie maakt,bouwt en geeft daarmee vorm aan de toekomst. Daaromgaan we altijd voor een leefomgeving waarin volgendegeneraties gezond en gelukkig kunnen leven, wonen enwerken!De toekomst maken doen we al generaties lang. Vóórgeneraties.Wij zijn VolkerWessels. Een toonaangevendNederlands bouwconcern, actief in vier landen. Met 130werkmaatschappijen en 17.000 specialisten die de krachtenbundelen. Wij zijn makers. De toekomstmakers.Als je nog niet precies weet welke kant je op wilt, in de bouw, de energie, telecom of de infra, dan kun je in dit traineeship zien waar je interesses liggen. Van alle plekken krijg je wat mee.Het voordeel van de VolkerWessels Academy? Het grote netwerk! Je maakt echt verbinding.Nieuwegein, NLBekijk ons aanbod:Direct naar:Resources:Magnet.meChange language to: EnglishDeze pagina is geoptimaliseerd voor mensen uit Nederland. Bekijk de versie geoptimaliseerd voor mensen uit het Verenigd Koninkrijk.'"
      ]
     },
     "execution_count": 39,
     "metadata": {},
     "output_type": "execute_result"
    }
   ],
   "source": [
    "K"
   ]
  },
  {
   "cell_type": "code",
   "execution_count": 21,
   "metadata": {},
   "outputs": [],
   "source": [
    "for p in soup.find_all(\"h6\"):\n",
    "    print(p.text)"
   ]
  }
 ],
 "metadata": {
  "kernelspec": {
   "display_name": "venv",
   "language": "python",
   "name": "python3"
  },
  "language_info": {
   "codemirror_mode": {
    "name": "ipython",
    "version": 3
   },
   "file_extension": ".py",
   "mimetype": "text/x-python",
   "name": "python",
   "nbconvert_exporter": "python",
   "pygments_lexer": "ipython3",
   "version": "3.11.5"
  },
  "orig_nbformat": 4
 },
 "nbformat": 4,
 "nbformat_minor": 2
}
