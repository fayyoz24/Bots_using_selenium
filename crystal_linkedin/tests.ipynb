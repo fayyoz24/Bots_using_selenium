{
 "cells": [
  {
   "cell_type": "code",
   "execution_count": 3,
   "metadata": {},
   "outputs": [
    {
     "name": "stdout",
     "output_type": "stream",
     "text": [
      "https://www.linkedin.com/in/jacqueline-vrancken-vanrheenen\n"
     ]
    },
    {
     "ename": "KeyboardInterrupt",
     "evalue": "",
     "output_type": "error",
     "traceback": [
      "\u001b[1;31m---------------------------------------------------------------------------\u001b[0m",
      "\u001b[1;31mKeyboardInterrupt\u001b[0m                         Traceback (most recent call last)",
      "\u001b[1;32md:\\Temma\\Bots_using_selenium\\crystal_linkedin\\tests.ipynb Cell 1\u001b[0m line \u001b[0;36m1\n\u001b[0;32m     <a href='vscode-notebook-cell:/d%3A/Temma/Bots_using_selenium/crystal_linkedin/tests.ipynb#W0sZmlsZQ%3D%3D?line=14'>15</a>\u001b[0m driver \u001b[39m=\u001b[39m webdriver\u001b[39m.\u001b[39mChrome(options\u001b[39m=\u001b[39moptions)\n\u001b[0;32m     <a href='vscode-notebook-cell:/d%3A/Temma/Bots_using_selenium/crystal_linkedin/tests.ipynb#W0sZmlsZQ%3D%3D?line=15'>16</a>\u001b[0m driver\u001b[39m.\u001b[39mget(link)\n\u001b[1;32m---> <a href='vscode-notebook-cell:/d%3A/Temma/Bots_using_selenium/crystal_linkedin/tests.ipynb#W0sZmlsZQ%3D%3D?line=16'>17</a>\u001b[0m time\u001b[39m.\u001b[39;49msleep(\u001b[39m50\u001b[39;49m)\n\u001b[0;32m     <a href='vscode-notebook-cell:/d%3A/Temma/Bots_using_selenium/crystal_linkedin/tests.ipynb#W0sZmlsZQ%3D%3D?line=17'>18</a>\u001b[0m src \u001b[39m=\u001b[39m driver\u001b[39m.\u001b[39mpage_source\n\u001b[0;32m     <a href='vscode-notebook-cell:/d%3A/Temma/Bots_using_selenium/crystal_linkedin/tests.ipynb#W0sZmlsZQ%3D%3D?line=18'>19</a>\u001b[0m soup \u001b[39m=\u001b[39m BeautifulSoup(src, \u001b[39m'\u001b[39m\u001b[39mlxml\u001b[39m\u001b[39m'\u001b[39m)\n",
      "\u001b[1;31mKeyboardInterrupt\u001b[0m: "
     ]
    }
   ],
   "source": [
    "from bs4 import BeautifulSoup\n",
    "import time\n",
    "from selenium.webdriver.chrome.options import Options\n",
    "from selenium import webdriver\n",
    "from selenium.webdriver.common.by import By\n",
    "import pandas as pd\n",
    "from selenium.webdriver.common.keys import Keys\n",
    "\n",
    "df= pd.read_csv(f'../linkedin_data_Scraping/datas/last_50th_left_14th.csv')\n",
    "\n",
    "for link in df.links[:10]:\n",
    "    print(link)\n",
    "    options = Options()\n",
    "    options.add_argument(\"user-data-dir=C:/Users/user/AppData/Local/Google/Chrome/User Data/Profile 3\")\n",
    "    driver = webdriver.Chrome(options=options)\n",
    "    driver.get(link)\n",
    "    time.sleep(10)\n",
    "    src = driver.page_source\n",
    "    soup = BeautifulSoup(src, 'lxml')\n",
    "\n",
    "    # Find the element with the id \"experience\"\n",
    "    experience_element = soup.find('div', {'id': 'experience'})\n",
    "\n",
    "    next_divs = experience_element.find_next_siblings('div')\n",
    "\n",
    "    lis=next_divs[1].find_all(\"li\", {\"class\":\"artdeco-list__item pvs-list__item--line-separated pvs-list__item--one-column\"})\n",
    "    positions=[]\n",
    "    experiences=[]\n",
    "    for li in lis:\n",
    "        experience=li.find_all(\"span\", {\"class\":\"t-14 t-normal t-black--light\"})[0]\n",
    "        experiences.append(experience)\n",
    "        position=li.find_all(\"span\", {\"aria-hidden\":\"true\"})[0]\n",
    "        positions.append(position)\n",
    "        print(f\"postion :{position.text}\")\n",
    "        print(f\"experience :{experience.text[:(len(experience.text)//2)].split(' · ')[1]}\")\n",
    "\n",
    "    # Find the element with the id \"education\"\n",
    "    education_element = soup.find('div', {'id': 'education'})\n",
    "\n",
    "    next_divs = education_element.find_next_siblings('div')\n",
    "    degrees=[]\n",
    "    lis=next_divs[1].find_all(\"li\", {\"class\":\"artdeco-list__item pvs-list__item--line-separated pvs-list__item--one-column\"})\n",
    "    for li in lis:\n",
    "        degree=li.find_all(\"span\", {\"aria-hidden\":\"true\"})[1]\n",
    "        degrees.append(degree)\n",
    "        print(f\"degree :{degree.text}\")\n",
    "\n",
    "    # Find the element with the id \"about\"\n",
    "    about_element = soup.find('div', {'id': 'about'})\n",
    "\n",
    "    next_divs = about_element.find_next_siblings('div')\n",
    "    print(next_divs[1].text.strip().split('…see more')[0])\n",
    "    driver.close()\n",
    "\n",
    "    options = Options()\n",
    "    options.add_argument(\"user-data-dir=C:/Users/user/AppData/Local/Google/Chrome/User Data/\")\n",
    "    driver = webdriver.Chrome(options=options)\n",
    "    driver.get(str(link)+\"/details/skills/\")\n",
    "    time.sleep(5)\n",
    "    \n",
    "    # Find the element with the id \"skills\"\n",
    "    src = driver.page_source\n",
    "    soup = BeautifulSoup(src, 'lxml')\n",
    "    skills_element = soup.find_all('div', {'class': 'display-flex flex-row justify-space-between'})\n",
    "\n",
    "    skills=[]                               #artdeco-list__item pvs-list__item--line-separated pvs-list__item--one-column\n",
    "    for li in skills_element:\n",
    "      \n",
    "        print(f\"skills :{li.text.strip()[:(len(li.text.strip())//2)]}\")\n",
    "        skills.append(f\"skills :{li.text.strip()[:(len(li.text.strip())//2)]}\")\n",
    "    driver.close()\n"
   ]
  }
 ],
 "metadata": {
  "kernelspec": {
   "display_name": ".venv",
   "language": "python",
   "name": "python3"
  },
  "language_info": {
   "codemirror_mode": {
    "name": "ipython",
    "version": 3
   },
   "file_extension": ".py",
   "mimetype": "text/x-python",
   "name": "python",
   "nbconvert_exporter": "python",
   "pygments_lexer": "ipython3",
   "version": "3.11.5"
  },
  "orig_nbformat": 4
 },
 "nbformat": 4,
 "nbformat_minor": 2
}
