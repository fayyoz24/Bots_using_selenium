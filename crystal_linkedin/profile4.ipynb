{
 "cells": [
  {
   "cell_type": "code",
   "execution_count": 14,
   "metadata": {},
   "outputs": [
    {
     "name": "stderr",
     "output_type": "stream",
     "text": [
      "C:\\Users\\fayyo\\AppData\\Local\\Temp\\ipykernel_51020\\4155776190.py:7: DeprecationWarning: firefox_profile has been deprecated, please use an Options object\n",
      "  profile = webdriver.FirefoxProfile(\n"
     ]
    },
    {
     "ename": "WebDriverException",
     "evalue": "Message: Service C:\\Users\\fayyo\\.cache\\selenium\\chromedriver\\win64\\117.0.5938.92\\chromedriver.exe unexpectedly exited. Status code was: 1\n",
     "output_type": "error",
     "traceback": [
      "\u001b[1;31m---------------------------------------------------------------------------\u001b[0m",
      "\u001b[1;31mWebDriverException\u001b[0m                        Traceback (most recent call last)",
      "Cell \u001b[1;32mIn[14], line 17\u001b[0m\n\u001b[0;32m     15\u001b[0m options\u001b[39m.\u001b[39madd_argument(profile)\n\u001b[0;32m     16\u001b[0m \u001b[39m# options.set_preference('profile', profile)\u001b[39;00m\n\u001b[1;32m---> 17\u001b[0m driver \u001b[39m=\u001b[39m webdriver\u001b[39m.\u001b[39;49mFirefox(options\u001b[39m=\u001b[39;49moptions)\n",
      "File \u001b[1;32mc:\\Users\\GitHub\\Bots_using_selenium\\venv\\lib\\site-packages\\selenium\\webdriver\\firefox\\webdriver.py:60\u001b[0m, in \u001b[0;36mWebDriver.__init__\u001b[1;34m(self, options, service, keep_alive)\u001b[0m\n\u001b[0;32m     57\u001b[0m options \u001b[39m=\u001b[39m options \u001b[39mif\u001b[39;00m options \u001b[39melse\u001b[39;00m Options()\n\u001b[0;32m     59\u001b[0m \u001b[39mself\u001b[39m\u001b[39m.\u001b[39mservice\u001b[39m.\u001b[39mpath \u001b[39m=\u001b[39m DriverFinder\u001b[39m.\u001b[39mget_path(\u001b[39mself\u001b[39m\u001b[39m.\u001b[39mservice, options)\n\u001b[1;32m---> 60\u001b[0m \u001b[39mself\u001b[39;49m\u001b[39m.\u001b[39;49mservice\u001b[39m.\u001b[39;49mstart()\n\u001b[0;32m     62\u001b[0m executor \u001b[39m=\u001b[39m FirefoxRemoteConnection(\n\u001b[0;32m     63\u001b[0m     remote_server_addr\u001b[39m=\u001b[39m\u001b[39mself\u001b[39m\u001b[39m.\u001b[39mservice\u001b[39m.\u001b[39mservice_url,\n\u001b[0;32m     64\u001b[0m     ignore_proxy\u001b[39m=\u001b[39moptions\u001b[39m.\u001b[39m_ignore_local_proxy,\n\u001b[0;32m     65\u001b[0m     keep_alive\u001b[39m=\u001b[39mkeep_alive,\n\u001b[0;32m     66\u001b[0m )\n\u001b[0;32m     67\u001b[0m \u001b[39msuper\u001b[39m()\u001b[39m.\u001b[39m\u001b[39m__init__\u001b[39m(command_executor\u001b[39m=\u001b[39mexecutor, options\u001b[39m=\u001b[39moptions)\n",
      "File \u001b[1;32mc:\\Users\\GitHub\\Bots_using_selenium\\venv\\lib\\site-packages\\selenium\\webdriver\\common\\service.py:109\u001b[0m, in \u001b[0;36mService.start\u001b[1;34m(self)\u001b[0m\n\u001b[0;32m    107\u001b[0m count \u001b[39m=\u001b[39m \u001b[39m0\u001b[39m\n\u001b[0;32m    108\u001b[0m \u001b[39mwhile\u001b[39;00m \u001b[39mTrue\u001b[39;00m:\n\u001b[1;32m--> 109\u001b[0m     \u001b[39mself\u001b[39;49m\u001b[39m.\u001b[39;49massert_process_still_running()\n\u001b[0;32m    110\u001b[0m     \u001b[39mif\u001b[39;00m \u001b[39mself\u001b[39m\u001b[39m.\u001b[39mis_connectable():\n\u001b[0;32m    111\u001b[0m         \u001b[39mbreak\u001b[39;00m\n",
      "File \u001b[1;32mc:\\Users\\GitHub\\Bots_using_selenium\\venv\\lib\\site-packages\\selenium\\webdriver\\common\\service.py:122\u001b[0m, in \u001b[0;36mService.assert_process_still_running\u001b[1;34m(self)\u001b[0m\n\u001b[0;32m    120\u001b[0m return_code \u001b[39m=\u001b[39m \u001b[39mself\u001b[39m\u001b[39m.\u001b[39mprocess\u001b[39m.\u001b[39mpoll()\n\u001b[0;32m    121\u001b[0m \u001b[39mif\u001b[39;00m return_code:\n\u001b[1;32m--> 122\u001b[0m     \u001b[39mraise\u001b[39;00m WebDriverException(\u001b[39mf\u001b[39m\u001b[39m\"\u001b[39m\u001b[39mService \u001b[39m\u001b[39m{\u001b[39;00m\u001b[39mself\u001b[39m\u001b[39m.\u001b[39m_path\u001b[39m}\u001b[39;00m\u001b[39m unexpectedly exited. Status code was: \u001b[39m\u001b[39m{\u001b[39;00mreturn_code\u001b[39m}\u001b[39;00m\u001b[39m\"\u001b[39m)\n",
      "\u001b[1;31mWebDriverException\u001b[0m: Message: Service C:\\Users\\fayyo\\.cache\\selenium\\chromedriver\\win64\\117.0.5938.92\\chromedriver.exe unexpectedly exited. Status code was: 1\n"
     ]
    }
   ],
   "source": [
    "from selenium import webdriver\n",
    "import geckodriver_autoinstaller\n",
    "from selenium.webdriver.common.desired_capabilities import DesiredCapabilities\n",
    "from selenium.webdriver.chrome.options import Options\n",
    "# geckodriver_autoinstaller.install()\n",
    "\n",
    "profile = webdriver.FirefoxProfile(\n",
    "    'C:/Users/fayyo/AppData/Local/Mozilla/Firefox/Profiles/ja9lwzdq.default-release-1695724300481')\n",
    "\n",
    "profile.set_preference(\"dom.webdriver.enabled\", False)\n",
    "profile.set_preference('useAutomationExtension', False)\n",
    "profile.update_preferences()\n",
    "desired = DesiredCapabilities.FIREFOX\n",
    "options=Options()\n",
    "options.add_argument(profile)\n",
    "# options.set_preference('profile', profile)\n",
    "driver = webdriver.Firefox(options=options)"
   ]
  },
  {
   "cell_type": "code",
   "execution_count": 6,
   "metadata": {},
   "outputs": [
    {
     "name": "stdout",
     "output_type": "stream",
     "text": [
      "https://www.linkedin.com/in/julianalimaconstantino\n"
     ]
    },
    {
     "ename": "NoSuchWindowException",
     "evalue": "Message: no such window: target window already closed\nfrom unknown error: web view not found\n  (Session info: chrome=117.0.5938.92)\nStacktrace:\n\tGetHandleVerifier [0x00007FF7E6FD7892+54818]\n\t(No symbol) [0x00007FF7E6F46AC2]\n\t(No symbol) [0x00007FF7E6DFDA3B]\n\t(No symbol) [0x00007FF7E6DDDEE8]\n\t(No symbol) [0x00007FF7E6E63237]\n\t(No symbol) [0x00007FF7E6E76C6F]\n\t(No symbol) [0x00007FF7E6E5E883]\n\t(No symbol) [0x00007FF7E6E33691]\n\t(No symbol) [0x00007FF7E6E348D4]\n\tGetHandleVerifier [0x00007FF7E733B992+3610402]\n\tGetHandleVerifier [0x00007FF7E7391860+3962352]\n\tGetHandleVerifier [0x00007FF7E7389D4F+3930847]\n\tGetHandleVerifier [0x00007FF7E7073646+693206]\n\t(No symbol) [0x00007FF7E6F51628]\n\t(No symbol) [0x00007FF7E6F4D934]\n\t(No symbol) [0x00007FF7E6F4DA62]\n\t(No symbol) [0x00007FF7E6F3E113]\n\tBaseThreadInitThunk [0x00007FF9EA6E7344+20]\n\tRtlUserThreadStart [0x00007FF9EB4C26B1+33]\n",
     "output_type": "error",
     "traceback": [
      "\u001b[1;31m---------------------------------------------------------------------------\u001b[0m",
      "\u001b[1;31mNoSuchWindowException\u001b[0m                     Traceback (most recent call last)",
      "Cell \u001b[1;32mIn[6], line 26\u001b[0m\n\u001b[0;32m     24\u001b[0m driver\u001b[39m.\u001b[39mget(link)\n\u001b[0;32m     25\u001b[0m time\u001b[39m.\u001b[39msleep(\u001b[39m50\u001b[39m)\n\u001b[1;32m---> 26\u001b[0m src \u001b[39m=\u001b[39m driver\u001b[39m.\u001b[39;49mpage_source\n\u001b[0;32m     27\u001b[0m soup \u001b[39m=\u001b[39m BeautifulSoup(src, \u001b[39m'\u001b[39m\u001b[39mlxml\u001b[39m\u001b[39m'\u001b[39m)\n\u001b[0;32m     29\u001b[0m \u001b[39m# Find the element with the id \"experience\"\u001b[39;00m\n",
      "File \u001b[1;32mc:\\Users\\GitHub\\Bots_using_selenium\\venv\\lib\\site-packages\\selenium\\webdriver\\remote\\webdriver.py:445\u001b[0m, in \u001b[0;36mWebDriver.page_source\u001b[1;34m(self)\u001b[0m\n\u001b[0;32m    436\u001b[0m \u001b[39m@property\u001b[39m\n\u001b[0;32m    437\u001b[0m \u001b[39mdef\u001b[39;00m \u001b[39mpage_source\u001b[39m(\u001b[39mself\u001b[39m) \u001b[39m-\u001b[39m\u001b[39m>\u001b[39m \u001b[39mstr\u001b[39m:\n\u001b[0;32m    438\u001b[0m \u001b[39m    \u001b[39m\u001b[39m\"\"\"Gets the source of the current page.\u001b[39;00m\n\u001b[0;32m    439\u001b[0m \n\u001b[0;32m    440\u001b[0m \u001b[39m    :Usage:\u001b[39;00m\n\u001b[1;32m   (...)\u001b[0m\n\u001b[0;32m    443\u001b[0m \u001b[39m            driver.page_source\u001b[39;00m\n\u001b[0;32m    444\u001b[0m \u001b[39m    \"\"\"\u001b[39;00m\n\u001b[1;32m--> 445\u001b[0m     \u001b[39mreturn\u001b[39;00m \u001b[39mself\u001b[39;49m\u001b[39m.\u001b[39;49mexecute(Command\u001b[39m.\u001b[39;49mGET_PAGE_SOURCE)[\u001b[39m\"\u001b[39m\u001b[39mvalue\u001b[39m\u001b[39m\"\u001b[39m]\n",
      "File \u001b[1;32mc:\\Users\\GitHub\\Bots_using_selenium\\venv\\lib\\site-packages\\selenium\\webdriver\\remote\\webdriver.py:344\u001b[0m, in \u001b[0;36mWebDriver.execute\u001b[1;34m(self, driver_command, params)\u001b[0m\n\u001b[0;32m    342\u001b[0m response \u001b[39m=\u001b[39m \u001b[39mself\u001b[39m\u001b[39m.\u001b[39mcommand_executor\u001b[39m.\u001b[39mexecute(driver_command, params)\n\u001b[0;32m    343\u001b[0m \u001b[39mif\u001b[39;00m response:\n\u001b[1;32m--> 344\u001b[0m     \u001b[39mself\u001b[39;49m\u001b[39m.\u001b[39;49merror_handler\u001b[39m.\u001b[39;49mcheck_response(response)\n\u001b[0;32m    345\u001b[0m     response[\u001b[39m\"\u001b[39m\u001b[39mvalue\u001b[39m\u001b[39m\"\u001b[39m] \u001b[39m=\u001b[39m \u001b[39mself\u001b[39m\u001b[39m.\u001b[39m_unwrap_value(response\u001b[39m.\u001b[39mget(\u001b[39m\"\u001b[39m\u001b[39mvalue\u001b[39m\u001b[39m\"\u001b[39m, \u001b[39mNone\u001b[39;00m))\n\u001b[0;32m    346\u001b[0m     \u001b[39mreturn\u001b[39;00m response\n",
      "File \u001b[1;32mc:\\Users\\GitHub\\Bots_using_selenium\\venv\\lib\\site-packages\\selenium\\webdriver\\remote\\errorhandler.py:229\u001b[0m, in \u001b[0;36mErrorHandler.check_response\u001b[1;34m(self, response)\u001b[0m\n\u001b[0;32m    227\u001b[0m         alert_text \u001b[39m=\u001b[39m value[\u001b[39m\"\u001b[39m\u001b[39malert\u001b[39m\u001b[39m\"\u001b[39m]\u001b[39m.\u001b[39mget(\u001b[39m\"\u001b[39m\u001b[39mtext\u001b[39m\u001b[39m\"\u001b[39m)\n\u001b[0;32m    228\u001b[0m     \u001b[39mraise\u001b[39;00m exception_class(message, screen, stacktrace, alert_text)  \u001b[39m# type: ignore[call-arg]  # mypy is not smart enough here\u001b[39;00m\n\u001b[1;32m--> 229\u001b[0m \u001b[39mraise\u001b[39;00m exception_class(message, screen, stacktrace)\n",
      "\u001b[1;31mNoSuchWindowException\u001b[0m: Message: no such window: target window already closed\nfrom unknown error: web view not found\n  (Session info: chrome=117.0.5938.92)\nStacktrace:\n\tGetHandleVerifier [0x00007FF7E6FD7892+54818]\n\t(No symbol) [0x00007FF7E6F46AC2]\n\t(No symbol) [0x00007FF7E6DFDA3B]\n\t(No symbol) [0x00007FF7E6DDDEE8]\n\t(No symbol) [0x00007FF7E6E63237]\n\t(No symbol) [0x00007FF7E6E76C6F]\n\t(No symbol) [0x00007FF7E6E5E883]\n\t(No symbol) [0x00007FF7E6E33691]\n\t(No symbol) [0x00007FF7E6E348D4]\n\tGetHandleVerifier [0x00007FF7E733B992+3610402]\n\tGetHandleVerifier [0x00007FF7E7391860+3962352]\n\tGetHandleVerifier [0x00007FF7E7389D4F+3930847]\n\tGetHandleVerifier [0x00007FF7E7073646+693206]\n\t(No symbol) [0x00007FF7E6F51628]\n\t(No symbol) [0x00007FF7E6F4D934]\n\t(No symbol) [0x00007FF7E6F4DA62]\n\t(No symbol) [0x00007FF7E6F3E113]\n\tBaseThreadInitThunk [0x00007FF9EA6E7344+20]\n\tRtlUserThreadStart [0x00007FF9EB4C26B1+33]\n"
     ]
    }
   ],
   "source": [
    "from bs4 import BeautifulSoup\n",
    "import time\n",
    "from selenium.webdriver.chrome.options import Options\n",
    "from selenium import webdriver\n",
    "from selenium.webdriver.common.by import By\n",
    "import pandas as pd\n",
    "from selenium.webdriver.common.keys import Keys\n",
    "\n",
    "df= pd.read_csv(f'../linkedin_data_Scraping/datas/partly_45878_reach_50.csv')\n",
    "\n",
    "for k in range(7000,14000, 100):\n",
    "\n",
    "    all_skills=[]\n",
    "    all_abouts=[]\n",
    "    all_positions=[]\n",
    "    all_degrees=[]\n",
    "\n",
    "    for link in df.links[k:k+100]:\n",
    "        print(link)\n",
    "        options = Options()\n",
    "        options.add_argument(\"user-data-dir=C:/Users/fayyo/AppData/Local/Google/Chrome/User Data/Profile 9\")\n",
    "        driver = webdriver.Chrome(options=options)\n",
    "\n",
    "        driver.get(link)\n",
    "        time.sleep(50)\n",
    "        src = driver.page_source\n",
    "        soup = BeautifulSoup(src, 'lxml')\n",
    "\n",
    "        # Find the element with the id \"experience\"\n",
    "        positions=[]\n",
    "        try:\n",
    "            experience_element = soup.find('div', {'id': 'experience'})\n",
    "\n",
    "            next_divs = experience_element.find_next_siblings('div')\n",
    "\n",
    "            lis=next_divs[1].find_all(\"li\", {\"class\":\"artdeco-list__item pvs-list__item--line-separated pvs-list__item--one-column\"})\n",
    "            \n",
    "            for li in lis:\n",
    "                # experience=li.find_all(\"span\", {\"class\":\"t-14 t-normal t-black--light\"})[0]\n",
    "                # experiences.append(experience)\n",
    "                position=li.find_all(\"span\", {\"aria-hidden\":\"true\"})[0]\n",
    "                positions.append(position.text)\n",
    "                print(f\"postion :{position.text}\")\n",
    "            # print(f\"experience :{experience.text[:(len(experience.text)//2)].split(' · ')[1]}\")\n",
    "        except:\n",
    "            print(\"not position\")\n",
    "            positions.append('nan')\n",
    "        # Find the element with the id \"education\"\n",
    "        degrees=[]\n",
    "        try:\n",
    "            education_element = soup.find('div', {'id': 'education'})\n",
    "\n",
    "            next_divs = education_element.find_next_siblings('div')\n",
    "            \n",
    "            lis=next_divs[1].find_all(\"li\", {\"class\":\"artdeco-list__item pvs-list__item--line-separated pvs-list__item--one-column\"})\n",
    "            for li in lis:\n",
    "                degree=li.find_all(\"span\", {\"aria-hidden\":\"true\"})[1]\n",
    "                degrees.append(degree.text)\n",
    "                print(f\"degree :{degree.text}\")\n",
    "        except:\n",
    "            degrees.append('nan')\n",
    "\n",
    "        # Find the element with the id \"about\"\n",
    "        try:\n",
    "            about_element = soup.find('div', {'id': 'about'})\n",
    "\n",
    "            next_divs = about_element.find_next_siblings('div')\n",
    "            print(next_divs[1].text.strip().split('…see more')[0])\n",
    "            about=next_divs[1].text.strip().split('…see more')[0]\n",
    "        except:\n",
    "            about='nan'\n",
    "            print(\"not about\")\n",
    "        driver.close()\n",
    "\n",
    "        options = Options()\n",
    "        options.add_argument(\"user-data-dir=C:/Users/fayyo/AppData/Local/Google/Chrome/User Data/Profile 9\")\n",
    "        driver = webdriver.Chrome(options=options)\n",
    "        driver.get(str(link)+\"/details/skills/\")\n",
    "        time.sleep(5)\n",
    "        \n",
    "        # Find the element with the id \"skills\"\n",
    "        src = driver.page_source\n",
    "        soup = BeautifulSoup(src, 'lxml')\n",
    "        skills=[]    \n",
    "        try:                           \n",
    "            skills_element = soup.find_all('div', {'class': 'display-flex flex-row justify-space-between'})\n",
    "\n",
    "            #artdeco-list__item pvs-list__item--line-separated pvs-list__item--one-column\n",
    "            for li in skills_element:\n",
    "            \n",
    "                print(f\"skills :{li.text.strip()[:(len(li.text.strip())//2)]}\")\n",
    "                skills.append(li.text.strip()[:(len(li.text.strip())//2)])\n",
    "        except:\n",
    "            print(\"Don't have skills\")\n",
    "            skills.append('nan')\n",
    "        driver.close()\n",
    "        \n",
    "        all_skills.append(skills)\n",
    "        all_abouts.append(about)\n",
    "        all_degrees.append(degrees)\n",
    "        all_positions.append(positions)\n",
    "    df_data=pd.DataFrame({\n",
    "        \"skills\":all_skills,\n",
    "        \"positions\":all_positions,\n",
    "        \"about\":all_abouts,\n",
    "        \"degree\":all_degrees,\n",
    "        # \"link\":df.links[:100]\n",
    "    })\n",
    "    df_data.to_csv(f\"./datas/data_{k}.csv\")"
   ]
  },
  {
   "cell_type": "code",
   "execution_count": 18,
   "metadata": {},
   "outputs": [],
   "source": [
    "df_data=pd.DataFrame({\n",
    "    \"skills\":all_skills,\n",
    "    \"positions\":all_positions,\n",
    "    \"about\":all_abouts,\n",
    "    \"degree\":all_degrees,\n",
    "    \"link\":df.links[:12]\n",
    "})"
   ]
  },
  {
   "cell_type": "code",
   "execution_count": 24,
   "metadata": {},
   "outputs": [],
   "source": [
    "df_data.to_csv(\"./datas/0-12.csv\")"
   ]
  },
  {
   "cell_type": "code",
   "execution_count": 23,
   "metadata": {},
   "outputs": [
    {
     "data": {
      "text/plain": [
       "[\"As an experienced change manager, I thrive on coaching and enhancing employee experience. My focus is on supporting leaders and organizations to drive effective change efforts during digital transformations. With a strong drive for personal and professional growth, I am constantly seeking new challenges. As a world traveler with a deep interest in languages and cultures, I bring a cross-cultural curiosity and awareness to my work, and I am highly people-oriented.I have extensive experience in organizational and digital transformation, change management, employee and user experience, artificial intelligence, design thinking, and collaborative leadership. Let's connect and talk more about how I can contribute to your organization.As an experienced change manager, I thrive on coaching and enhancing employee experience. My focus is on supporting leaders and organizations to drive effective change efforts during digital transformations. With a strong drive for personal and professional growth, I am constantly seeking new challenges. As a world traveler with a deep interest in languages and cultures, I bring a cross-cultural curiosity and awareness to my work, and I am highly people-oriented.\\n\\nI have extensive experience in organizational and digital transformation, change management, employee and user experience, artificial intelligence, design thinking, and collaborative leadership. Let's connect and talk more about how I can contribute to your organization.\\n\\n \\n              \",\n",
       " \"Hi, I'm Pavlos, a technical security engineer living in Amsterdam. I'm passionate about Cyber security both in IT and ICS environments. My experience focus on Red Teaming, penetration testing and TNE both in IT and OT environments,  as well as hardware hacking. In my free time I nerd out with some electronics projects focused on my home automation!I'm a social and I collaborate well with others, skills that I developed from my previous life as a bartender!Hi, I'm Pavlos, a technical security engineer living in Amsterdam. I'm passionate about Cyber security both in IT and ICS environments. \\nMy experience focus on Red Teaming, penetration testing and TNE both in IT and OT environments,  as well as hardware hacking. \\nIn my free time I nerd out with some electronics projects focused on my home automation!\\nI'm a social and I collaborate well with others, skills that I developed from my previous life as a bartender!\\n\\n \\n              \",\n",
       " 'Jeroen Inc. is the production company of Jeroen Roodnat, director/cameraman, editor & colorist. In 2023 he opened up a new grading and edit suite in Haarlem, the Netherlands. For more information please visit www.jeroeninc.comJeroen Inc. is the production company of Jeroen Roodnat, director/cameraman, editor & colorist. \\n\\nIn 2023 he opened up a new grading and edit suite in Haarlem, the Netherlands. \\n\\nFor more information please visit www.jeroeninc.com',\n",
       " 'I am an Interdisciplinary Researcher, with special focus on society, new technologies, management, arts & culture and accessibility. Having an academic background in business informatics (BSc), culture (BA), and conducting interdisciplinary research (MSc), allows me to see and understand the problem from different perspectives, and use qualitative and quantitative methodologies to solve it. I have a comprehensive understanding of the research processes, strategies, methodologies, and techniques needed to successfully deliver an effective product. Now I am looking for a stable professional environment that will give me the opportunity for further development. In the near future, I would like to deepen my research and consulting skills and focus on supporting companies in human-centered design, becoming more inclusive, and better understanding of their clients.I am an Interdisciplinary Researcher, with special focus on society, new technologies, management, arts & culture and accessibility. \\nHaving an academic background in business informatics (BSc), culture (BA), and conducting interdisciplinary research (MSc), allows me to see and understand the problem from different perspectives, and use qualitative and quantitative methodologies to solve it. I have a comprehensive understanding of the research processes, strategies, methodologies, and techniques needed to successfully deliver an effective product. \\nNow I am looking for a stable professional environment that will give me the opportunity for further development. In the near future, I would like to deepen my research and consulting skills and focus on supporting companies in human-centered design, becoming more inclusive, and better understanding of their clients.\\n\\n \\n              ',\n",
       " \"Theo Henckens is a university level environmental scientist/engineer from background. Over a period of almost 50 years he has acquired a profound experience in the fields of water and environment policy, management and technology. In various positions he gained an excellent knowledge of the policy, legal, institutional, economical and technical aspects of environment and water protection.Theo Henckens was responsible for a large number of projects in European and Asian countries. He has acted as project director and team leader of multi-disciplinary teams of international and local experts in the field of environment, integrated river basin management, and wastewater treatment. After his retirement Mr. Henckens got his PhD title by writing a dissertation on managing raw materials scarcity. At present he writes articles and books on this subject, amongst others:- Governance of the world's mineral resources. Beyond the foreseeable future. Published by Elsevier- How many electric cars can the world handle? The resource challegeTheo Henckens is a university level environmental scientist/engineer from background. Over a period of almost 50 years he has acquired a profound experience in the fields of water and environment policy, management and technology. In various positions he gained an excellent knowledge of the policy, legal, institutional, economical and technical aspects of environment and water protection.\\n\\nTheo Henckens was responsible for a large number of projects in European and Asian countries. He has acted as project director and team leader of multi-disciplinary teams of international and local experts in the field of environment, integrated river basin management, and wastewater treatment. \\n\\nAfter his retirement Mr. Henckens got his PhD title by writing a dissertation on managing raw materials scarcity. At present he writes articles and books on this subject, amongst others:\\n- Governance of the world's mineral resources. Beyond the foreseeable future. Published by Elsevier\\n- How many electric cars can the world handle? The resource challege\\n\\n \\n              \",\n",
       " 'I am an enthusiastic, dedicated professional, with broad experience in national and international political, financial and development cooperation. My qualities lie in having strong analytical and communicative skills, being able to find opportunities and consensus where others only see differences, and being result-driven. I like using my knowledge and skills (connecting, networking, analyses, writing) for socially relevant causes, such as social wellbeing, financial stability and the environment. Variation and room to take initiative I find important. Moreover, I have experience in working in a fast-paced political sensitive context.I am an enthusiastic, dedicated professional, with broad experience in national and international political, financial and development cooperation. My qualities lie in having strong analytical and communicative skills, being able to find opportunities and consensus where others only see differences, and being result-driven. I like using my knowledge and skills (connecting, networking, analyses, writing) for socially relevant causes, such as social wellbeing, financial stability and the environment. Variation and room to take initiative I find important. Moreover, I have experience in working in a fast-paced political sensitive context.\\n\\n \\n              ',\n",
       " \"Author of 'UNDP in Liberia tussen twee burgeroorlogen, wederopbouw & bureaucratie'.Author of 'De Vogelkooi', een roman over een moeder en haar zoon in ontwakend AlbaniëExperienced Director with a demonstrated history of working in the architecture & planning industry. Skilled in Emergency Management, Construction, Management, Non-Governmental Organizations, and Architecture. Strong professional graduated from Institute for Aerospace & Earth Sciences (ITC) Enschede, The Netherlands. Author of 'UNDP in Liberia tussen twee burgeroorlogen, wederopbouw & bureaucratie'.\\nAuthor of 'De Vogelkooi', een roman over een moeder en haar zoon in ontwakend Albanië\\nExperienced Director with a demonstrated history of working in the architecture & planning industry. Skilled in Emergency Management, Construction, Management, Non-Governmental Organizations, and Architecture. Strong professional graduated from Institute for Aerospace & Earth Sciences (ITC) Enschede, The Netherlands. \\n\\n \\n              \",\n",
       " 'I am a highly motivated person possessing a wide range of skills, knowledge and experience gained through academic study and work. A keen listener, flexible, patient, jovial, eager to learn and acquire new skills. I work effectively with others and highly capable of working on own initiative, posses an enthusiastic approach to work and attention to details where appropriate, with the ability to plan projects and prioritise conflicting demands. I have achieved a high academic standard, now committed to building a successful and rewarding career offering the opportunity for additional personal career development.I am a highly motivated person possessing a wide range of skills, knowledge and experience gained through academic study and work. A keen listener, flexible, patient, jovial, eager to learn and acquire new skills. \\n\\nI work effectively with others and highly capable of working on own initiative, posses an enthusiastic approach to work and attention to details where appropriate, with the ability to plan projects and prioritise conflicting demands. \\n\\nI have achieved a high academic standard, now committed to building a successful and rewarding career offering the opportunity for additional personal career development.',\n",
       " \"'Make it happen' mentality, with strong IT background covered with management flavor. 'Make it happen' mentality, with strong IT background covered with management flavor.\",\n",
       " 'Sincere, detail-oriented, realistic, client-focused: these are a few words that describe some of my personalcharacteristics in a nutshell. Having built my legal knowledge and experience representing prominent foreign and multinational clients, contract law, concessions, regulatory and compliance issues, licensing procedures and procurement processing in, among other industries, energy, oil & gas, mining, infrastructure, and aviation are the most important keywords that describe what I have to offer. In many of the cases that I handled, I have worked together with Clifford Chance LLP, Allen & Overy, Eversheds Southerland and other internationally renowned law firms. I am interested in finding a position as legal counsel or contract lawyer within a multinational working environment that allows for further development in European and/or Dutch law. I have a valid visa/work permit and can work for any company in the Netherlands.Sincere, detail-oriented, realistic, client-focused: these are a few words that describe some of my personal\\ncharacteristics in a nutshell. Having built my legal knowledge and experience representing prominent foreign and multinational clients, contract law, concessions, regulatory and compliance issues, licensing procedures and procurement processing in, among other industries, energy, oil & gas, mining, infrastructure, and aviation are the most important keywords that describe what I have to offer. In many of the cases that I handled, I have worked together with Clifford Chance LLP, Allen & Overy, Eversheds Southerland and other internationally renowned law firms. I am interested in finding a position as legal counsel or contract lawyer within a multinational working environment that allows for further development in European and/or Dutch law. I have a valid visa/work permit and can work for any company in the Netherlands.\\n\\n \\n              ',\n",
       " 'I am educated in international business management and logistics and I have several years of professional experience as project coordinator. As project coordinator I have been responsible for large health care projects around the world requiring export documentation, financial documentation, planning and transportation, procurement procedures and contract negotiations/management.In these projects I gained vast experience in managing international clients and international suppliers of hospital equipment in complex project environments. I am a pro-active project coordinator with a pragmatic and result driven approach. I am a team player with excellent organisation and communication skills.In recent years I have extended my work experience as Document/Information manager for the Devoll Hydro Power project in Albania and working for A.Hak Pipelines & Facilities, where I was involved in the development of their document management system. As Prequalification Officer I was responsible for the complete process of pre-qualifications, accreditations and audits, For several entities of A.Hak combining my coördination and planning skills in a technical environment.In recent years I felt the need to specialize in a certain area of project management and have been given the opportunity within A.Hak to combine my experience by coördinating larger tenders and extending my knowledge of contract management by executing contract/risk analysis, being involved in the contracting process and setting up contract administration.Our fast changing market has let to the need for well thought-out contract management and to the establishment of a Contract management department, from where I advise my colleagues from various divisions during the tendering and contracting phase and help to create awareness of the changing market and its effect on contract types and skills to execute them.I am educated in international business management and logistics and I have several years of professional experience as project coordinator. As project coordinator I have been responsible for large health care projects around the world requiring export documentation, financial documentation, planning and transportation, procurement procedures and contract negotiations/management.\\n\\nIn these projects I gained vast experience in managing international clients and international suppliers of hospital equipment in complex project environments. I am a pro-active project coordinator with a pragmatic and result driven approach. I am a team player with excellent organisation and communication skills.\\n\\nIn recent years I have extended my work experience as Document/Information manager for the Devoll Hydro Power project in Albania and working for A.Hak Pipelines & Facilities, where I was involved in the development of their document management system. \\n\\nAs Prequalification Officer I was responsible for the complete process of pre-qualifications, accreditations and audits, For several entities of A.Hak combining my coördination and planning skills in a technical environment.\\n\\nIn recent years I felt the need to specialize in a certain area of project management and have been given the opportunity within A.Hak to combine my experience by coördinating larger tenders and extending my knowledge of contract management by executing contract/risk analysis, being involved in the contracting process and setting up contract administration.\\nOur fast changing market has let to the need for well thought-out contract management and to the establishment of a Contract management department, from where I advise my colleagues from various divisions during the tendering and contracting phase and help to create awareness of the changing market and its effect on contract types and skills to execute them.\\n\\n \\n              ',\n",
       " 'nan']"
      ]
     },
     "execution_count": 23,
     "metadata": {},
     "output_type": "execute_result"
    }
   ],
   "source": [
    "all_abouts"
   ]
  },
  {
   "cell_type": "code",
   "execution_count": null,
   "metadata": {},
   "outputs": [],
   "source": [
    "\"skills\":all_skills,\n",
    "\"positions\":all_positions,\n",
    "\"about\":all_abouts,\n",
    "\"degree\":all_degrees,\n",
    "\"link\":df.links[:100]"
   ]
  },
  {
   "cell_type": "code",
   "execution_count": 15,
   "metadata": {},
   "outputs": [
    {
     "data": {
      "text/plain": [
       "[<span aria-hidden=\"true\"><!-- -->Projectcoördinator<!-- --></span>,\n",
       " <span aria-hidden=\"true\"><!-- -->A.Hak<!-- --></span>,\n",
       " <span aria-hidden=\"true\"><!-- -->Document Control Manager<!-- --></span>,\n",
       " <span aria-hidden=\"true\"><!-- -->Project Coördinator<!-- --></span>,\n",
       " <span aria-hidden=\"true\"><!-- -->Fun Industries<!-- --></span>]"
      ]
     },
     "execution_count": 15,
     "metadata": {},
     "output_type": "execute_result"
    }
   ],
   "source": [
    "all_positions[-1]"
   ]
  },
  {
   "cell_type": "code",
   "execution_count": 13,
   "metadata": {},
   "outputs": [
    {
     "data": {
      "text/plain": [
       "11"
      ]
     },
     "execution_count": 13,
     "metadata": {},
     "output_type": "execute_result"
    }
   ],
   "source": [
    "len(all_degrees)"
   ]
  },
  {
   "cell_type": "code",
   "execution_count": 3,
   "metadata": {},
   "outputs": [
    {
     "data": {
      "text/plain": [
       "<span class=\"t-14 t-normal t-black--light\">\n",
       "<span aria-hidden=\"true\"><!-- -->Amsterdam, North Holland, Netherlands<!-- --></span><span class=\"visually-hidden\"><!-- -->Amsterdam, North Holland, Netherlands<!-- --></span>\n",
       "</span>"
      ]
     },
     "execution_count": 3,
     "metadata": {},
     "output_type": "execute_result"
    }
   ],
   "source": [
    "experience"
   ]
  }
 ],
 "metadata": {
  "kernelspec": {
   "display_name": ".venv",
   "language": "python",
   "name": "python3"
  },
  "language_info": {
   "codemirror_mode": {
    "name": "ipython",
    "version": 3
   },
   "file_extension": ".py",
   "mimetype": "text/x-python",
   "name": "python",
   "nbconvert_exporter": "python",
   "pygments_lexer": "ipython3",
   "version": "3.8.8"
  },
  "orig_nbformat": 4
 },
 "nbformat": 4,
 "nbformat_minor": 2
}
