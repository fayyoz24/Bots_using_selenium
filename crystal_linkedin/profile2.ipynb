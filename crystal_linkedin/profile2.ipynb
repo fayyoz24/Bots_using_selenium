{
 "cells": [
  {
   "cell_type": "code",
<<<<<<< HEAD
   "execution_count": 8,
=======
   "execution_count": 3,
>>>>>>> 95aafe9d91723f7bba9cebd6751732db97e3dd1f
   "metadata": {},
   "outputs": [
    {
     "name": "stdout",
     "output_type": "stream",
     "text": [
<<<<<<< HEAD
      "https://www.linkedin.com/in/simonkrul\n",
      "postion :Sodexo\n",
      "postion :project-, proces leader\n",
      "postion :Project Leader\n",
      "postion :Project / Site manager looking for new challenges \n",
      "postion :Site Supervisor\n",
      "degree :Bachelor, Mechnical Engineering  (Energy Technology)\n",
      "degree :Bachelor's Degree, Business Administration for Engineers\n",
      "A project-proces manager who is the link between human, organization, engineering & facility with a Birds Eye View and attention to communication and organisation.By my positive attitude (both business and private) in my life, I think more from the possibilities and opportunities, only this create and affected by yourself  and that there is always a solution. Also it gives me new energy to think  out of the box (to) and so go for new challenges, with open visor, mutual trust and respect so deal the cooperation, all this with a good since of humor and quip. By good communication create I support and consensus. Also my ability to be creative and to think critically,  I use where necessary to achieve the desired result and also to get the best out of people and myself and bring others and myself also on a higher level.A project-proces manager who is the link between human, organization, engineering & facility with a Birds Eye View and attention to communication and organisation.\n",
      "By my positive attitude (both business and private) in my life, I think more from the possibilities and opportunities, only this create and affected by yourself  and that there is always a solution. Also it gives me new energy to think  out of the box (to) and so go for new challenges, with open visor, mutual trust and respect so deal the cooperation, all this with a good since of humor and quip. By good communication create I support and consensus. Also my ability to be creative and to think critically,  I use where necessary to achieve the desired result and also to get the best out of people and myself and bring others and myself also on a higher level.\n",
      "\n",
      " \n",
      "              \n"
     ]
    },
    {
     "ename": "InvalidSessionIdException",
     "evalue": "Message: invalid session id\nStacktrace:\n\tGetHandleVerifier [0x00007FF7064B7892+54818]\n\t(No symbol) [0x00007FF706426AC2]\n\t(No symbol) [0x00007FF7062DD8ED]\n\t(No symbol) [0x00007FF7063130DE]\n\t(No symbol) [0x00007FF70633E9A2]\n\t(No symbol) [0x00007FF70633A710]\n\t(No symbol) [0x00007FF70633A016]\n\t(No symbol) [0x00007FF7062B41D0]\n\tGetHandleVerifier [0x00007FF70681B992+3610402]\n\tGetHandleVerifier [0x00007FF706871860+3962352]\n\tGetHandleVerifier [0x00007FF706869D4F+3930847]\n\tGetHandleVerifier [0x00007FF706553646+693206]\n\t(No symbol) [0x00007FF706431628]\n\t(No symbol) [0x00007FF7062B2FFE]\n\tGetHandleVerifier [0x00007FF7068B2278+4227080]\n\tBaseThreadInitThunk [0x00007FFDB22A7034+20]\n\tRtlUserThreadStart [0x00007FFDB35826A1+33]\n",
     "output_type": "error",
     "traceback": [
      "\u001b[1;31m---------------------------------------------------------------------------\u001b[0m",
      "\u001b[1;31mInvalidSessionIdException\u001b[0m                 Traceback (most recent call last)",
      "\u001b[1;32md:\\programming\\GitHub\\Bots with Selenium\\Bots_using_selenium\\crystal_linkedin\\profile2.ipynb Cell 1\u001b[0m line \u001b[0;36m1\n\u001b[0;32m    <a href='vscode-notebook-cell:/d%3A/programming/GitHub/Bots%20with%20Selenium/Bots_using_selenium/crystal_linkedin/profile2.ipynb#W0sZmlsZQ%3D%3D?line=101'>102</a>\u001b[0m \u001b[39m# options.add_argument('--headless')\u001b[39;00m\n\u001b[0;32m    <a href='vscode-notebook-cell:/d%3A/programming/GitHub/Bots%20with%20Selenium/Bots_using_selenium/crystal_linkedin/profile2.ipynb#W0sZmlsZQ%3D%3D?line=102'>103</a>\u001b[0m options\u001b[39m.\u001b[39madd_argument(\u001b[39m\"\u001b[39m\u001b[39muser-data-dir=C:/Users/user/AppData/Local/Google/Chrome/User Data/\u001b[39m\u001b[39m\"\u001b[39m)\n\u001b[1;32m--> <a href='vscode-notebook-cell:/d%3A/programming/GitHub/Bots%20with%20Selenium/Bots_using_selenium/crystal_linkedin/profile2.ipynb#W0sZmlsZQ%3D%3D?line=103'>104</a>\u001b[0m driver\u001b[39m.\u001b[39;49mget(\u001b[39mstr\u001b[39;49m(link)\u001b[39m+\u001b[39;49m\u001b[39m\"\u001b[39;49m\u001b[39m/details/skills/\u001b[39;49m\u001b[39m\"\u001b[39;49m)\n\u001b[0;32m    <a href='vscode-notebook-cell:/d%3A/programming/GitHub/Bots%20with%20Selenium/Bots_using_selenium/crystal_linkedin/profile2.ipynb#W0sZmlsZQ%3D%3D?line=104'>105</a>\u001b[0m time\u001b[39m.\u001b[39msleep(\u001b[39m5\u001b[39m)\n\u001b[0;32m    <a href='vscode-notebook-cell:/d%3A/programming/GitHub/Bots%20with%20Selenium/Bots_using_selenium/crystal_linkedin/profile2.ipynb#W0sZmlsZQ%3D%3D?line=106'>107</a>\u001b[0m \u001b[39m# Find the element with the id \"skills\"\u001b[39;00m\n",
      "File \u001b[1;32md:\\programming\\GitHub\\Bots with Selenium\\venv\\Lib\\site-packages\\selenium\\webdriver\\remote\\webdriver.py:353\u001b[0m, in \u001b[0;36mWebDriver.get\u001b[1;34m(self, url)\u001b[0m\n\u001b[0;32m    351\u001b[0m \u001b[39mdef\u001b[39;00m \u001b[39mget\u001b[39m(\u001b[39mself\u001b[39m, url: \u001b[39mstr\u001b[39m) \u001b[39m-\u001b[39m\u001b[39m>\u001b[39m \u001b[39mNone\u001b[39;00m:\n\u001b[0;32m    352\u001b[0m \u001b[39m    \u001b[39m\u001b[39m\"\"\"Loads a web page in the current browser session.\"\"\"\u001b[39;00m\n\u001b[1;32m--> 353\u001b[0m     \u001b[39mself\u001b[39;49m\u001b[39m.\u001b[39;49mexecute(Command\u001b[39m.\u001b[39;49mGET, {\u001b[39m\"\u001b[39;49m\u001b[39murl\u001b[39;49m\u001b[39m\"\u001b[39;49m: url})\n",
      "File \u001b[1;32md:\\programming\\GitHub\\Bots with Selenium\\venv\\Lib\\site-packages\\selenium\\webdriver\\remote\\webdriver.py:344\u001b[0m, in \u001b[0;36mWebDriver.execute\u001b[1;34m(self, driver_command, params)\u001b[0m\n\u001b[0;32m    342\u001b[0m response \u001b[39m=\u001b[39m \u001b[39mself\u001b[39m\u001b[39m.\u001b[39mcommand_executor\u001b[39m.\u001b[39mexecute(driver_command, params)\n\u001b[0;32m    343\u001b[0m \u001b[39mif\u001b[39;00m response:\n\u001b[1;32m--> 344\u001b[0m     \u001b[39mself\u001b[39;49m\u001b[39m.\u001b[39;49merror_handler\u001b[39m.\u001b[39;49mcheck_response(response)\n\u001b[0;32m    345\u001b[0m     response[\u001b[39m\"\u001b[39m\u001b[39mvalue\u001b[39m\u001b[39m\"\u001b[39m] \u001b[39m=\u001b[39m \u001b[39mself\u001b[39m\u001b[39m.\u001b[39m_unwrap_value(response\u001b[39m.\u001b[39mget(\u001b[39m\"\u001b[39m\u001b[39mvalue\u001b[39m\u001b[39m\"\u001b[39m, \u001b[39mNone\u001b[39;00m))\n\u001b[0;32m    346\u001b[0m     \u001b[39mreturn\u001b[39;00m response\n",
      "File \u001b[1;32md:\\programming\\GitHub\\Bots with Selenium\\venv\\Lib\\site-packages\\selenium\\webdriver\\remote\\errorhandler.py:229\u001b[0m, in \u001b[0;36mErrorHandler.check_response\u001b[1;34m(self, response)\u001b[0m\n\u001b[0;32m    227\u001b[0m         alert_text \u001b[39m=\u001b[39m value[\u001b[39m\"\u001b[39m\u001b[39malert\u001b[39m\u001b[39m\"\u001b[39m]\u001b[39m.\u001b[39mget(\u001b[39m\"\u001b[39m\u001b[39mtext\u001b[39m\u001b[39m\"\u001b[39m)\n\u001b[0;32m    228\u001b[0m     \u001b[39mraise\u001b[39;00m exception_class(message, screen, stacktrace, alert_text)  \u001b[39m# type: ignore[call-arg]  # mypy is not smart enough here\u001b[39;00m\n\u001b[1;32m--> 229\u001b[0m \u001b[39mraise\u001b[39;00m exception_class(message, screen, stacktrace)\n",
      "\u001b[1;31mInvalidSessionIdException\u001b[0m: Message: invalid session id\nStacktrace:\n\tGetHandleVerifier [0x00007FF7064B7892+54818]\n\t(No symbol) [0x00007FF706426AC2]\n\t(No symbol) [0x00007FF7062DD8ED]\n\t(No symbol) [0x00007FF7063130DE]\n\t(No symbol) [0x00007FF70633E9A2]\n\t(No symbol) [0x00007FF70633A710]\n\t(No symbol) [0x00007FF70633A016]\n\t(No symbol) [0x00007FF7062B41D0]\n\tGetHandleVerifier [0x00007FF70681B992+3610402]\n\tGetHandleVerifier [0x00007FF706871860+3962352]\n\tGetHandleVerifier [0x00007FF706869D4F+3930847]\n\tGetHandleVerifier [0x00007FF706553646+693206]\n\t(No symbol) [0x00007FF706431628]\n\t(No symbol) [0x00007FF7062B2FFE]\n\tGetHandleVerifier [0x00007FF7068B2278+4227080]\n\tBaseThreadInitThunk [0x00007FFDB22A7034+20]\n\tRtlUserThreadStart [0x00007FFDB35826A1+33]\n"
=======
      "https://www.linkedin.com/in/julianalimaconstantino\n",
      "not position\n",
      "not about\n",
      "https://www.linkedin.com/in/komal-manzoor-a914a1205\n",
      "postion :Cardiff School of Certified Professionals\n",
      "postion :Intern\n",
      "degree :Master of Science - MS, Groundwater and Global Change\n",
      "degree :Masters, Groundwater \n",
      "degree :Bachelor's degree, Environmental Sciences\n",
      "not about\n",
      "skills :NEBOSH\n",
      "skills :Environment, Health, and Safety (EHS)\n",
      "skills :Social Media Marketing\n",
      "skills :Environmental Management Systems\n",
      "skills :Environmental Impact Assessment\n",
      "skills :Environmental Awareness\n",
      "skills :Analytical Skills\n",
      "skills :ArcGis\n",
      "skills :Microsoft Excel\n",
      "skills :Management\n",
      "skills :Communication\n",
      "skills :English\n",
      "skills :NEBOSH\n",
      "skills :Environment, Health, and Safety (EHS)\n",
      "skills :Social Media Marketing\n",
      "skills :Environmental Management Systems\n",
      "skills :Environmental Impact Assessment\n",
      "skills :Environmental Awareness\n",
      "skills :ArcGis\n",
      "skills :Microsoft Excel\n",
      "skills :Analytical Skills\n",
      "skills :Management\n",
      "skills :Communication\n",
      "skills :English\n",
      "https://www.linkedin.com/in/olumayowa-victor-ogunsola-a700452b\n",
      "not position\n",
      "not about\n",
      "https://www.linkedin.com/in/tom-segaar-transferpricing\n",
      "not position\n",
      "not about\n"
     ]
    },
    {
     "ename": "NoSuchWindowException",
     "evalue": "Message: no such window: target window already closed\nfrom unknown error: web view not found\n  (Session info: chrome=117.0.5938.89)\nStacktrace:\n\tGetHandleVerifier [0x00007FF6E1467892+54818]\n\t(No symbol) [0x00007FF6E13D6AC2]\n\t(No symbol) [0x00007FF6E128DA3B]\n\t(No symbol) [0x00007FF6E126DEE8]\n\t(No symbol) [0x00007FF6E12F3237]\n\t(No symbol) [0x00007FF6E1306C6F]\n\t(No symbol) [0x00007FF6E12EE883]\n\t(No symbol) [0x00007FF6E12C3691]\n\t(No symbol) [0x00007FF6E12C48D4]\n\tGetHandleVerifier [0x00007FF6E17CB992+3610402]\n\tGetHandleVerifier [0x00007FF6E1821860+3962352]\n\tGetHandleVerifier [0x00007FF6E1819D4F+3930847]\n\tGetHandleVerifier [0x00007FF6E1503646+693206]\n\t(No symbol) [0x00007FF6E13E1628]\n\t(No symbol) [0x00007FF6E13DD934]\n\t(No symbol) [0x00007FF6E13DDA62]\n\t(No symbol) [0x00007FF6E13CE113]\n\tBaseThreadInitThunk [0x00007FFECA1D7034+20]\n\tRtlUserThreadStart [0x00007FFECA9026A1+33]\n",
     "output_type": "error",
     "traceback": [
      "\u001b[1;31m---------------------------------------------------------------------------\u001b[0m",
      "\u001b[1;31mNoSuchWindowException\u001b[0m                     Traceback (most recent call last)",
      "\u001b[1;32md:\\Temma\\Bots_using_selenium\\crystal_linkedin\\profile2.ipynb Cell 1\u001b[0m line \u001b[0;36m8\n\u001b[0;32m     <a href='vscode-notebook-cell:/d%3A/Temma/Bots_using_selenium/crystal_linkedin/profile2.ipynb#W0sZmlsZQ%3D%3D?line=79'>80</a>\u001b[0m time\u001b[39m.\u001b[39msleep(\u001b[39m5\u001b[39m)\n\u001b[0;32m     <a href='vscode-notebook-cell:/d%3A/Temma/Bots_using_selenium/crystal_linkedin/profile2.ipynb#W0sZmlsZQ%3D%3D?line=81'>82</a>\u001b[0m \u001b[39m# Find the element with the id \"skills\"\u001b[39;00m\n\u001b[1;32m---> <a href='vscode-notebook-cell:/d%3A/Temma/Bots_using_selenium/crystal_linkedin/profile2.ipynb#W0sZmlsZQ%3D%3D?line=82'>83</a>\u001b[0m src \u001b[39m=\u001b[39m driver\u001b[39m.\u001b[39;49mpage_source\n\u001b[0;32m     <a href='vscode-notebook-cell:/d%3A/Temma/Bots_using_selenium/crystal_linkedin/profile2.ipynb#W0sZmlsZQ%3D%3D?line=83'>84</a>\u001b[0m soup \u001b[39m=\u001b[39m BeautifulSoup(src, \u001b[39m'\u001b[39m\u001b[39mlxml\u001b[39m\u001b[39m'\u001b[39m)\n\u001b[0;32m     <a href='vscode-notebook-cell:/d%3A/Temma/Bots_using_selenium/crystal_linkedin/profile2.ipynb#W0sZmlsZQ%3D%3D?line=84'>85</a>\u001b[0m skills\u001b[39m=\u001b[39m[]    \n",
      "File \u001b[1;32md:\\Temma\\Bots_using_selenium\\.venv\\Lib\\site-packages\\selenium\\webdriver\\remote\\webdriver.py:445\u001b[0m, in \u001b[0;36mWebDriver.page_source\u001b[1;34m(self)\u001b[0m\n\u001b[0;32m    436\u001b[0m \u001b[39m@property\u001b[39m\n\u001b[0;32m    437\u001b[0m \u001b[39mdef\u001b[39;00m \u001b[39mpage_source\u001b[39m(\u001b[39mself\u001b[39m) \u001b[39m-\u001b[39m\u001b[39m>\u001b[39m \u001b[39mstr\u001b[39m:\n\u001b[0;32m    438\u001b[0m \u001b[39m    \u001b[39m\u001b[39m\"\"\"Gets the source of the current page.\u001b[39;00m\n\u001b[0;32m    439\u001b[0m \n\u001b[0;32m    440\u001b[0m \u001b[39m    :Usage:\u001b[39;00m\n\u001b[1;32m   (...)\u001b[0m\n\u001b[0;32m    443\u001b[0m \u001b[39m            driver.page_source\u001b[39;00m\n\u001b[0;32m    444\u001b[0m \u001b[39m    \"\"\"\u001b[39;00m\n\u001b[1;32m--> 445\u001b[0m     \u001b[39mreturn\u001b[39;00m \u001b[39mself\u001b[39;49m\u001b[39m.\u001b[39;49mexecute(Command\u001b[39m.\u001b[39;49mGET_PAGE_SOURCE)[\u001b[39m\"\u001b[39m\u001b[39mvalue\u001b[39m\u001b[39m\"\u001b[39m]\n",
      "File \u001b[1;32md:\\Temma\\Bots_using_selenium\\.venv\\Lib\\site-packages\\selenium\\webdriver\\remote\\webdriver.py:344\u001b[0m, in \u001b[0;36mWebDriver.execute\u001b[1;34m(self, driver_command, params)\u001b[0m\n\u001b[0;32m    342\u001b[0m response \u001b[39m=\u001b[39m \u001b[39mself\u001b[39m\u001b[39m.\u001b[39mcommand_executor\u001b[39m.\u001b[39mexecute(driver_command, params)\n\u001b[0;32m    343\u001b[0m \u001b[39mif\u001b[39;00m response:\n\u001b[1;32m--> 344\u001b[0m     \u001b[39mself\u001b[39;49m\u001b[39m.\u001b[39;49merror_handler\u001b[39m.\u001b[39;49mcheck_response(response)\n\u001b[0;32m    345\u001b[0m     response[\u001b[39m\"\u001b[39m\u001b[39mvalue\u001b[39m\u001b[39m\"\u001b[39m] \u001b[39m=\u001b[39m \u001b[39mself\u001b[39m\u001b[39m.\u001b[39m_unwrap_value(response\u001b[39m.\u001b[39mget(\u001b[39m\"\u001b[39m\u001b[39mvalue\u001b[39m\u001b[39m\"\u001b[39m, \u001b[39mNone\u001b[39;00m))\n\u001b[0;32m    346\u001b[0m     \u001b[39mreturn\u001b[39;00m response\n",
      "File \u001b[1;32md:\\Temma\\Bots_using_selenium\\.venv\\Lib\\site-packages\\selenium\\webdriver\\remote\\errorhandler.py:229\u001b[0m, in \u001b[0;36mErrorHandler.check_response\u001b[1;34m(self, response)\u001b[0m\n\u001b[0;32m    227\u001b[0m         alert_text \u001b[39m=\u001b[39m value[\u001b[39m\"\u001b[39m\u001b[39malert\u001b[39m\u001b[39m\"\u001b[39m]\u001b[39m.\u001b[39mget(\u001b[39m\"\u001b[39m\u001b[39mtext\u001b[39m\u001b[39m\"\u001b[39m)\n\u001b[0;32m    228\u001b[0m     \u001b[39mraise\u001b[39;00m exception_class(message, screen, stacktrace, alert_text)  \u001b[39m# type: ignore[call-arg]  # mypy is not smart enough here\u001b[39;00m\n\u001b[1;32m--> 229\u001b[0m \u001b[39mraise\u001b[39;00m exception_class(message, screen, stacktrace)\n",
      "\u001b[1;31mNoSuchWindowException\u001b[0m: Message: no such window: target window already closed\nfrom unknown error: web view not found\n  (Session info: chrome=117.0.5938.89)\nStacktrace:\n\tGetHandleVerifier [0x00007FF6E1467892+54818]\n\t(No symbol) [0x00007FF6E13D6AC2]\n\t(No symbol) [0x00007FF6E128DA3B]\n\t(No symbol) [0x00007FF6E126DEE8]\n\t(No symbol) [0x00007FF6E12F3237]\n\t(No symbol) [0x00007FF6E1306C6F]\n\t(No symbol) [0x00007FF6E12EE883]\n\t(No symbol) [0x00007FF6E12C3691]\n\t(No symbol) [0x00007FF6E12C48D4]\n\tGetHandleVerifier [0x00007FF6E17CB992+3610402]\n\tGetHandleVerifier [0x00007FF6E1821860+3962352]\n\tGetHandleVerifier [0x00007FF6E1819D4F+3930847]\n\tGetHandleVerifier [0x00007FF6E1503646+693206]\n\t(No symbol) [0x00007FF6E13E1628]\n\t(No symbol) [0x00007FF6E13DD934]\n\t(No symbol) [0x00007FF6E13DDA62]\n\t(No symbol) [0x00007FF6E13CE113]\n\tBaseThreadInitThunk [0x00007FFECA1D7034+20]\n\tRtlUserThreadStart [0x00007FFECA9026A1+33]\n"
>>>>>>> 95aafe9d91723f7bba9cebd6751732db97e3dd1f
     ]
    }
   ],
   "source": [
    "from bs4 import BeautifulSoup\n",
    "import time\n",
    "from selenium.webdriver.chrome.options import Options\n",
    "from selenium import webdriver\n",
    "from selenium.webdriver.common.by import By\n",
    "import pandas as pd\n",
    "from selenium.webdriver.common.keys import Keys\n",
    "import requests\n",
    "\n",
    "df= pd.read_csv(f'../linkedin_data_Scraping/datas/partly_45878_reach_50.csv')\n",
    "\n",
    "# for k in range(7000,14000, 100):\n",
    "\n",
    "all_skills=[]\n",
    "all_abouts=[]\n",
    "all_positions=[]\n",
    "all_degrees=[]\n",
    "\n",
    "for link in df.links[394:]:\n",
    "    print(link)\n",
    "    options = Options()\n",
    "    # Add options to clear cache\n",
    "    options.add_argument('--disable-application-cache')\n",
    "    options.add_argument('--disable-extensions')\n",
    "    options.add_argument('--disable-dev-shm-usage')\n",
    "    options.add_argument('--disable-gpu')\n",
    "    options.add_argument('--disable-browser-side-navigation')\n",
    "    options.add_argument('--disable-infobars')\n",
    "    options.add_argument('--disable-features=NetworkService')\n",
    "    options.add_argument('--disable-features=NetworkServiceInProcess')\n",
    "    options.add_argument('--disable-features=NetworkServiceInProcess')\n",
    "    options.add_argument('--disable-features=RendererCodeIntegrity')\n",
    "    # options.add_argument('--headless')\n",
    "    options.add_argument(\"user-data-dir=C:/Users/user/AppData/Local/Google/Chrome/User Data/\")\n",
    "    driver = webdriver.Chrome(options=options)\n",
    "    driver.get(link)\n",
    "    # driver.get_cookies()\n",
    "    # requests.get(url=link, cookies=driver.get_cookies())\n",
    "    time.sleep(10)\n",
    "    src = driver.page_source\n",
    "    soup = BeautifulSoup(src, 'lxml')\n",
    "\n",
    "    # Find the element with the id \"experience\"\n",
    "    positions=[]\n",
    "    try:\n",
    "        experience_element = soup.find('div', {'id': 'experience'})\n",
    "\n",
<<<<<<< HEAD
    "        next_divs = experience_element.find_next_siblings('div')\n",
=======
    "    for link in df.links[k:k+100]:\n",
    "        print(link)\n",
    "        options = Options()\n",
    "        options.add_argument(\"user-data-dir=C:/Users/user/AppData/Local/Google/Chrome/User Data/\")\n",
    "        driver = webdriver.Chrome(options=options)\n",
    "        driver.get(link)\n",
    "        time.sleep(50)\n",
    "        src = driver.page_source\n",
    "        soup = BeautifulSoup(src, 'lxml')\n",
>>>>>>> 95aafe9d91723f7bba9cebd6751732db97e3dd1f
    "\n",
    "        lis=next_divs[1].find_all(\"li\", {\"class\":\"artdeco-list__item pvs-list__item--line-separated pvs-list__item--one-column\"})\n",
    "        \n",
    "        for li in lis:\n",
    "            # experience=li.find_all(\"span\", {\"class\":\"t-14 t-normal t-black--light\"})[0]\n",
    "            # experiences.append(experience)\n",
    "            position=li.find_all(\"span\", {\"aria-hidden\":\"true\"})[0]\n",
    "            positions.append(position.text)\n",
    "            print(f\"postion :{position.text}\")\n",
    "        # print(f\"experience :{experience.text[:(len(experience.text)//2)].split(' · ')[1]}\")\n",
    "    except:\n",
    "        print(\"not position\")\n",
    "        positions.append('nan')\n",
    "    # Find the element with the id \"education\"\n",
    "    degrees=[]\n",
    "    try:\n",
    "        education_element = soup.find('div', {'id': 'education'})\n",
    "\n",
    "        next_divs = education_element.find_next_siblings('div')\n",
    "        \n",
    "        lis=next_divs[1].find_all(\"li\", {\"class\":\"artdeco-list__item pvs-list__item--line-separated pvs-list__item--one-column\"})\n",
    "        for li in lis:\n",
    "            degree=li.find_all(\"span\", {\"aria-hidden\":\"true\"})[1]\n",
    "            degrees.append(degree.text)\n",
    "            print(f\"degree :{degree.text}\")\n",
    "    except:\n",
    "        degrees.append('nan')\n",
    "\n",
    "    # Find the element with the id \"about\"\n",
    "    try:\n",
    "        about_element = soup.find('div', {'id': 'about'})\n",
    "\n",
    "        next_divs = about_element.find_next_siblings('div')\n",
    "        print(next_divs[1].text.strip().split('…see more')[0])\n",
    "        about=next_divs[1].text.strip().split('…see more')[0]\n",
    "    except:\n",
    "        about='nan'\n",
    "        print(\"not about\")\n",
    "    driver.delete_all_cookies()\n",
    "    driver.close()\n",
    "\n",
    "    options = Options()\n",
    "    # Add options to clear cache\n",
    "    options.add_argument('--disable-application-cache')\n",
    "    options.add_argument('--disable-extensions')\n",
    "    options.add_argument('--disable-dev-shm-usage')\n",
    "    options.add_argument('--disable-gpu')\n",
    "    options.add_argument('--disable-browser-side-navigation')\n",
    "    options.add_argument('--disable-infobars')\n",
    "    options.add_argument('--disable-features=NetworkService')\n",
    "    options.add_argument('--disable-features=NetworkServiceInProcess')\n",
    "    options.add_argument('--disable-features=NetworkServiceInProcess')\n",
    "    options.add_argument('--disable-features=RendererCodeIntegrity')\n",
    "    # options.add_argument('--headless')\n",
    "    options.add_argument(\"user-data-dir=C:/Users/user/AppData/Local/Google/Chrome/User Data/\")\n",
    "    driver.get(str(link)+\"/details/skills/\")\n",
    "    time.sleep(5)\n",
    "    \n",
    "    # Find the element with the id \"skills\"\n",
    "    src = driver.page_source\n",
    "    soup = BeautifulSoup(src, 'lxml')\n",
    "    skills=[]    \n",
    "    try:                           \n",
    "        skills_element = soup.find_all('div', {'class': 'display-flex flex-row justify-space-between'})\n",
    "\n",
    "        #artdeco-list__item pvs-list__item--line-separated pvs-list__item--one-column\n",
    "        for li in skills_element:\n",
    "        \n",
    "            print(f\"skills :{li.text.strip()[:(len(li.text.strip())//2)]}\")\n",
    "            skills.append(li.text.strip()[:(len(li.text.strip())//2)])\n",
    "    except:\n",
    "        print(\"Don't have skills\")\n",
    "        skills.append('nan')\n",
    "    driver.delete_all_cookies()\n",
    "    driver.close()\n",
    "    \n",
    "    all_skills.append(skills)\n",
    "    all_abouts.append(about)\n",
    "    all_degrees.append(degrees)\n",
    "    all_positions.append(positions)\n",
    "df_data=pd.DataFrame({\n",
    "    \"skills\":all_skills,\n",
    "    \"positions\":all_positions,\n",
    "    \"about\":all_abouts,\n",
    "    \"degree\":all_degrees,\n",
    "})\n",
    "# df_data.to_csv(f\"./datas/data_{k}.csv\")"
   ]
  },
  {
   "cell_type": "code",
   "execution_count": 9,
   "metadata": {},
   "outputs": [
    {
     "ename": "InvalidSessionIdException",
     "evalue": "Message: invalid session id\nStacktrace:\n\tGetHandleVerifier [0x00007FF7064B7892+54818]\n\t(No symbol) [0x00007FF706426AC2]\n\t(No symbol) [0x00007FF7062DD8ED]\n\t(No symbol) [0x00007FF7063130DE]\n\t(No symbol) [0x00007FF70633E9A2]\n\t(No symbol) [0x00007FF70633A710]\n\t(No symbol) [0x00007FF70633A016]\n\t(No symbol) [0x00007FF7062B41D0]\n\tGetHandleVerifier [0x00007FF70681B992+3610402]\n\tGetHandleVerifier [0x00007FF706871860+3962352]\n\tGetHandleVerifier [0x00007FF706869D4F+3930847]\n\tGetHandleVerifier [0x00007FF706553646+693206]\n\t(No symbol) [0x00007FF706431628]\n\t(No symbol) [0x00007FF7062B2FFE]\n\tGetHandleVerifier [0x00007FF7068B2278+4227080]\n\tBaseThreadInitThunk [0x00007FFDB22A7034+20]\n\tRtlUserThreadStart [0x00007FFDB35826A1+33]\n",
     "output_type": "error",
     "traceback": [
      "\u001b[1;31m---------------------------------------------------------------------------\u001b[0m",
      "\u001b[1;31mInvalidSessionIdException\u001b[0m                 Traceback (most recent call last)",
      "\u001b[1;32md:\\programming\\GitHub\\Bots with Selenium\\Bots_using_selenium\\crystal_linkedin\\profile2.ipynb Cell 2\u001b[0m line \u001b[0;36m1\n\u001b[1;32m----> <a href='vscode-notebook-cell:/d%3A/programming/GitHub/Bots%20with%20Selenium/Bots_using_selenium/crystal_linkedin/profile2.ipynb#X21sZmlsZQ%3D%3D?line=0'>1</a>\u001b[0m driver\u001b[39m.\u001b[39;49mget(\u001b[39mstr\u001b[39;49m(link)\u001b[39m+\u001b[39;49m\u001b[39m\"\u001b[39;49m\u001b[39m/details/skills/\u001b[39;49m\u001b[39m\"\u001b[39;49m)\n",
      "File \u001b[1;32md:\\programming\\GitHub\\Bots with Selenium\\venv\\Lib\\site-packages\\selenium\\webdriver\\remote\\webdriver.py:353\u001b[0m, in \u001b[0;36mWebDriver.get\u001b[1;34m(self, url)\u001b[0m\n\u001b[0;32m    351\u001b[0m \u001b[39mdef\u001b[39;00m \u001b[39mget\u001b[39m(\u001b[39mself\u001b[39m, url: \u001b[39mstr\u001b[39m) \u001b[39m-\u001b[39m\u001b[39m>\u001b[39m \u001b[39mNone\u001b[39;00m:\n\u001b[0;32m    352\u001b[0m \u001b[39m    \u001b[39m\u001b[39m\"\"\"Loads a web page in the current browser session.\"\"\"\u001b[39;00m\n\u001b[1;32m--> 353\u001b[0m     \u001b[39mself\u001b[39;49m\u001b[39m.\u001b[39;49mexecute(Command\u001b[39m.\u001b[39;49mGET, {\u001b[39m\"\u001b[39;49m\u001b[39murl\u001b[39;49m\u001b[39m\"\u001b[39;49m: url})\n",
      "File \u001b[1;32md:\\programming\\GitHub\\Bots with Selenium\\venv\\Lib\\site-packages\\selenium\\webdriver\\remote\\webdriver.py:344\u001b[0m, in \u001b[0;36mWebDriver.execute\u001b[1;34m(self, driver_command, params)\u001b[0m\n\u001b[0;32m    342\u001b[0m response \u001b[39m=\u001b[39m \u001b[39mself\u001b[39m\u001b[39m.\u001b[39mcommand_executor\u001b[39m.\u001b[39mexecute(driver_command, params)\n\u001b[0;32m    343\u001b[0m \u001b[39mif\u001b[39;00m response:\n\u001b[1;32m--> 344\u001b[0m     \u001b[39mself\u001b[39;49m\u001b[39m.\u001b[39;49merror_handler\u001b[39m.\u001b[39;49mcheck_response(response)\n\u001b[0;32m    345\u001b[0m     response[\u001b[39m\"\u001b[39m\u001b[39mvalue\u001b[39m\u001b[39m\"\u001b[39m] \u001b[39m=\u001b[39m \u001b[39mself\u001b[39m\u001b[39m.\u001b[39m_unwrap_value(response\u001b[39m.\u001b[39mget(\u001b[39m\"\u001b[39m\u001b[39mvalue\u001b[39m\u001b[39m\"\u001b[39m, \u001b[39mNone\u001b[39;00m))\n\u001b[0;32m    346\u001b[0m     \u001b[39mreturn\u001b[39;00m response\n",
      "File \u001b[1;32md:\\programming\\GitHub\\Bots with Selenium\\venv\\Lib\\site-packages\\selenium\\webdriver\\remote\\errorhandler.py:229\u001b[0m, in \u001b[0;36mErrorHandler.check_response\u001b[1;34m(self, response)\u001b[0m\n\u001b[0;32m    227\u001b[0m         alert_text \u001b[39m=\u001b[39m value[\u001b[39m\"\u001b[39m\u001b[39malert\u001b[39m\u001b[39m\"\u001b[39m]\u001b[39m.\u001b[39mget(\u001b[39m\"\u001b[39m\u001b[39mtext\u001b[39m\u001b[39m\"\u001b[39m)\n\u001b[0;32m    228\u001b[0m     \u001b[39mraise\u001b[39;00m exception_class(message, screen, stacktrace, alert_text)  \u001b[39m# type: ignore[call-arg]  # mypy is not smart enough here\u001b[39;00m\n\u001b[1;32m--> 229\u001b[0m \u001b[39mraise\u001b[39;00m exception_class(message, screen, stacktrace)\n",
      "\u001b[1;31mInvalidSessionIdException\u001b[0m: Message: invalid session id\nStacktrace:\n\tGetHandleVerifier [0x00007FF7064B7892+54818]\n\t(No symbol) [0x00007FF706426AC2]\n\t(No symbol) [0x00007FF7062DD8ED]\n\t(No symbol) [0x00007FF7063130DE]\n\t(No symbol) [0x00007FF70633E9A2]\n\t(No symbol) [0x00007FF70633A710]\n\t(No symbol) [0x00007FF70633A016]\n\t(No symbol) [0x00007FF7062B41D0]\n\tGetHandleVerifier [0x00007FF70681B992+3610402]\n\tGetHandleVerifier [0x00007FF706871860+3962352]\n\tGetHandleVerifier [0x00007FF706869D4F+3930847]\n\tGetHandleVerifier [0x00007FF706553646+693206]\n\t(No symbol) [0x00007FF706431628]\n\t(No symbol) [0x00007FF7062B2FFE]\n\tGetHandleVerifier [0x00007FF7068B2278+4227080]\n\tBaseThreadInitThunk [0x00007FFDB22A7034+20]\n\tRtlUserThreadStart [0x00007FFDB35826A1+33]\n"
     ]
    }
   ],
   "source": [
    "driver.get(str(link)+\"/details/skills/\")"
   ]
  },
  {
   "cell_type": "code",
   "execution_count": 51,
   "metadata": {},
   "outputs": [],
   "source": [
    "df_data=pd.DataFrame({\n",
    "    \"skills\":all_skills[:176],\n",
    "    \"positions\":all_positions[:176],\n",
    "    \"about\":all_abouts[:176],\n",
    "    \"degree\":all_degrees[:176],\n",
    "})\n",
    "df_data.to_csv(f\"./datas/data_218-393.csv\")"
   ]
  },
  {
   "cell_type": "code",
   "execution_count": 50,
   "metadata": {},
   "outputs": [
    {
     "data": {
      "text/plain": [
       "['Italian',\n",
       " 'Teamwork',\n",
       " 'Internationale bedrijfskunde',\n",
       " 'Critical Thinking',\n",
       " 'Communication',\n",
       " 'Persuation',\n",
       " 'Linkedin Sales Navigator',\n",
       " 'LinkedIn',\n",
       " 'Networking',\n",
       " 'Interpersonal skills',\n",
       " 'Lead Generation',\n",
       " 'Adaptability',\n",
       " 'Public speaking',\n",
       " 'HubSpot',\n",
       " 'Sales',\n",
       " 'Ondernemerschap',\n",
       " 'Online marketing',\n",
       " 'Sport',\n",
       " 'Evenementmanagement',\n",
       " 'Internationale handel',\n",
       " 'Internationale bedrijfskunde',\n",
       " 'LinkedIn',\n",
       " 'Networking',\n",
       " 'Lead Generation',\n",
       " 'Sales',\n",
       " 'Ondernemerschap',\n",
       " 'Online marketing',\n",
       " 'Sport',\n",
       " 'Evenementmanagement',\n",
       " 'Internationale handel',\n",
       " 'Sportmanagement',\n",
       " 'Presentatievaardigheden',\n",
       " 'Coaching',\n",
       " 'Leiding',\n",
       " 'Linkedin Sales Navigator',\n",
       " 'HubSpot',\n",
       " 'Microsoft Excel',\n",
       " 'Microsoft Word',\n",
       " 'Microsoft Office',\n",
       " 'Teamwork',\n",
       " 'Critical Thinking',\n",
       " 'Communication',\n",
       " 'Interpersonal skills',\n",
       " 'Adaptability',\n",
       " 'Public speaking',\n",
       " 'communicative',\n",
       " 'public speaking',\n",
       " 'Italian',\n",
       " 'spanish',\n",
       " 'Business English']"
      ]
     },
     "execution_count": 50,
     "metadata": {},
     "output_type": "execute_result"
    }
   ],
   "source": [
    "all_skills[174]"
   ]
  },
  {
   "cell_type": "code",
   "execution_count": 32,
   "metadata": {},
   "outputs": [
    {
     "data": {
      "text/plain": [
       "818"
      ]
     },
     "execution_count": 32,
     "metadata": {},
     "output_type": "execute_result"
    }
   ],
   "source": [
    "len(all_degrees)"
   ]
  },
  {
   "cell_type": "code",
   "execution_count": 27,
   "metadata": {},
   "outputs": [
    {
     "data": {
      "text/plain": [
       "'https://www.linkedin.com/in/victor-wondergem-16a8935a'"
      ]
     },
     "execution_count": 27,
     "metadata": {},
     "output_type": "execute_result"
    }
   ],
   "source": [
    "df.links[217]"
   ]
  },
  {
   "cell_type": "code",
   "execution_count": 24,
   "metadata": {},
   "outputs": [
    {
     "data": {
      "text/plain": [
       "'https://www.linkedin.com/in/tonvtschip'"
      ]
     },
     "execution_count": 24,
     "metadata": {},
     "output_type": "execute_result"
    }
   ],
   "source": [
    "link"
   ]
  },
  {
   "cell_type": "code",
   "execution_count": null,
   "metadata": {},
   "outputs": [],
   "source": []
  },
  {
   "cell_type": "code",
   "execution_count": 15,
   "metadata": {},
   "outputs": [
    {
     "data": {
      "text/plain": [
       "59"
      ]
     },
     "execution_count": 15,
     "metadata": {},
     "output_type": "execute_result"
    }
   ],
   "source": [
    "len(all_degrees)"
   ]
  },
  {
   "cell_type": "code",
   "execution_count": 18,
   "metadata": {},
   "outputs": [],
   "source": [
    "df_data=pd.DataFrame({\n",
    "    \"skills\":all_skills,\n",
    "    \"positions\":all_positions,\n",
    "    \"about\":all_abouts,\n",
    "    \"degree\":all_degrees,\n",
    "    \"link\":df.links[:12]\n",
    "})"
   ]
  },
  {
   "cell_type": "code",
   "execution_count": 24,
   "metadata": {},
   "outputs": [],
   "source": [
    "df_data.to_csv(\"./datas/0-12.csv\")"
   ]
  },
  {
   "cell_type": "code",
   "execution_count": null,
   "metadata": {},
   "outputs": [],
   "source": [
    "\"skills\":all_skills,\n",
    "\"positions\":all_positions,\n",
    "\"about\":all_abouts,\n",
    "\"degree\":all_degrees,\n",
    "\"link\":df.links[:100]"
   ]
  },
  {
   "cell_type": "code",
   "execution_count": 15,
   "metadata": {},
   "outputs": [
    {
     "data": {
      "text/plain": [
       "[<span aria-hidden=\"true\"><!-- -->Projectcoördinator<!-- --></span>,\n",
       " <span aria-hidden=\"true\"><!-- -->A.Hak<!-- --></span>,\n",
       " <span aria-hidden=\"true\"><!-- -->Document Control Manager<!-- --></span>,\n",
       " <span aria-hidden=\"true\"><!-- -->Project Coördinator<!-- --></span>,\n",
       " <span aria-hidden=\"true\"><!-- -->Fun Industries<!-- --></span>]"
      ]
     },
     "execution_count": 15,
     "metadata": {},
     "output_type": "execute_result"
    }
   ],
   "source": [
    "all_positions[-1]"
   ]
  },
  {
   "cell_type": "code",
   "execution_count": 13,
   "metadata": {},
   "outputs": [
    {
     "data": {
      "text/plain": [
       "11"
      ]
     },
     "execution_count": 13,
     "metadata": {},
     "output_type": "execute_result"
    }
   ],
   "source": [
    "len(all_degrees)"
   ]
  },
  {
   "cell_type": "code",
   "execution_count": 3,
   "metadata": {},
   "outputs": [
    {
     "data": {
      "text/plain": [
       "<span class=\"t-14 t-normal t-black--light\">\n",
       "<span aria-hidden=\"true\"><!-- -->Amsterdam, North Holland, Netherlands<!-- --></span><span class=\"visually-hidden\"><!-- -->Amsterdam, North Holland, Netherlands<!-- --></span>\n",
       "</span>"
      ]
     },
     "execution_count": 3,
     "metadata": {},
     "output_type": "execute_result"
    }
   ],
   "source": [
    "experience"
   ]
  }
 ],
 "metadata": {
  "kernelspec": {
   "display_name": ".venv",
   "language": "python",
   "name": "python3"
  },
  "language_info": {
   "codemirror_mode": {
    "name": "ipython",
    "version": 3
   },
   "file_extension": ".py",
   "mimetype": "text/x-python",
   "name": "python",
   "nbconvert_exporter": "python",
   "pygments_lexer": "ipython3",
   "version": "3.11.5"
  },
  "orig_nbformat": 4
 },
 "nbformat": 4,
 "nbformat_minor": 2
}
