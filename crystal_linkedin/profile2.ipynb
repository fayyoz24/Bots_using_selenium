{
 "cells": [
  {
   "cell_type": "code",
   "execution_count": 8,
   "metadata": {},
   "outputs": [
    {
     "name": "stdout",
     "output_type": "stream",
     "text": [
      "https://www.linkedin.com/in/simonkrul\n",
      "postion :Sodexo\n",
      "postion :project-, proces leader\n",
      "postion :Project Leader\n",
      "postion :Project / Site manager looking for new challenges \n",
      "postion :Site Supervisor\n",
      "degree :Bachelor, Mechnical Engineering  (Energy Technology)\n",
      "degree :Bachelor's Degree, Business Administration for Engineers\n",
      "A project-proces manager who is the link between human, organization, engineering & facility with a Birds Eye View and attention to communication and organisation.By my positive attitude (both business and private) in my life, I think more from the possibilities and opportunities, only this create and affected by yourself  and that there is always a solution. Also it gives me new energy to think  out of the box (to) and so go for new challenges, with open visor, mutual trust and respect so deal the cooperation, all this with a good since of humor and quip. By good communication create I support and consensus. Also my ability to be creative and to think critically,  I use where necessary to achieve the desired result and also to get the best out of people and myself and bring others and myself also on a higher level.A project-proces manager who is the link between human, organization, engineering & facility with a Birds Eye View and attention to communication and organisation.\n",
      "By my positive attitude (both business and private) in my life, I think more from the possibilities and opportunities, only this create and affected by yourself  and that there is always a solution. Also it gives me new energy to think  out of the box (to) and so go for new challenges, with open visor, mutual trust and respect so deal the cooperation, all this with a good since of humor and quip. By good communication create I support and consensus. Also my ability to be creative and to think critically,  I use where necessary to achieve the desired result and also to get the best out of people and myself and bring others and myself also on a higher level.\n",
      "\n",
      " \n",
      "              \n"
     ]
    },
    {
     "ename": "InvalidSessionIdException",
     "evalue": "Message: invalid session id\nStacktrace:\n\tGetHandleVerifier [0x00007FF7064B7892+54818]\n\t(No symbol) [0x00007FF706426AC2]\n\t(No symbol) [0x00007FF7062DD8ED]\n\t(No symbol) [0x00007FF7063130DE]\n\t(No symbol) [0x00007FF70633E9A2]\n\t(No symbol) [0x00007FF70633A710]\n\t(No symbol) [0x00007FF70633A016]\n\t(No symbol) [0x00007FF7062B41D0]\n\tGetHandleVerifier [0x00007FF70681B992+3610402]\n\tGetHandleVerifier [0x00007FF706871860+3962352]\n\tGetHandleVerifier [0x00007FF706869D4F+3930847]\n\tGetHandleVerifier [0x00007FF706553646+693206]\n\t(No symbol) [0x00007FF706431628]\n\t(No symbol) [0x00007FF7062B2FFE]\n\tGetHandleVerifier [0x00007FF7068B2278+4227080]\n\tBaseThreadInitThunk [0x00007FFDB22A7034+20]\n\tRtlUserThreadStart [0x00007FFDB35826A1+33]\n",
     "output_type": "error",
     "traceback": [
      "\u001b[1;31m---------------------------------------------------------------------------\u001b[0m",
      "\u001b[1;31mInvalidSessionIdException\u001b[0m                 Traceback (most recent call last)",
      "\u001b[1;32md:\\programming\\GitHub\\Bots with Selenium\\Bots_using_selenium\\crystal_linkedin\\profile2.ipynb Cell 1\u001b[0m line \u001b[0;36m1\n\u001b[0;32m    <a href='vscode-notebook-cell:/d%3A/programming/GitHub/Bots%20with%20Selenium/Bots_using_selenium/crystal_linkedin/profile2.ipynb#W0sZmlsZQ%3D%3D?line=101'>102</a>\u001b[0m \u001b[39m# options.add_argument('--headless')\u001b[39;00m\n\u001b[0;32m    <a href='vscode-notebook-cell:/d%3A/programming/GitHub/Bots%20with%20Selenium/Bots_using_selenium/crystal_linkedin/profile2.ipynb#W0sZmlsZQ%3D%3D?line=102'>103</a>\u001b[0m options\u001b[39m.\u001b[39madd_argument(\u001b[39m\"\u001b[39m\u001b[39muser-data-dir=C:/Users/user/AppData/Local/Google/Chrome/User Data/\u001b[39m\u001b[39m\"\u001b[39m)\n\u001b[1;32m--> <a href='vscode-notebook-cell:/d%3A/programming/GitHub/Bots%20with%20Selenium/Bots_using_selenium/crystal_linkedin/profile2.ipynb#W0sZmlsZQ%3D%3D?line=103'>104</a>\u001b[0m driver\u001b[39m.\u001b[39;49mget(\u001b[39mstr\u001b[39;49m(link)\u001b[39m+\u001b[39;49m\u001b[39m\"\u001b[39;49m\u001b[39m/details/skills/\u001b[39;49m\u001b[39m\"\u001b[39;49m)\n\u001b[0;32m    <a href='vscode-notebook-cell:/d%3A/programming/GitHub/Bots%20with%20Selenium/Bots_using_selenium/crystal_linkedin/profile2.ipynb#W0sZmlsZQ%3D%3D?line=104'>105</a>\u001b[0m time\u001b[39m.\u001b[39msleep(\u001b[39m5\u001b[39m)\n\u001b[0;32m    <a href='vscode-notebook-cell:/d%3A/programming/GitHub/Bots%20with%20Selenium/Bots_using_selenium/crystal_linkedin/profile2.ipynb#W0sZmlsZQ%3D%3D?line=106'>107</a>\u001b[0m \u001b[39m# Find the element with the id \"skills\"\u001b[39;00m\n",
      "File \u001b[1;32md:\\programming\\GitHub\\Bots with Selenium\\venv\\Lib\\site-packages\\selenium\\webdriver\\remote\\webdriver.py:353\u001b[0m, in \u001b[0;36mWebDriver.get\u001b[1;34m(self, url)\u001b[0m\n\u001b[0;32m    351\u001b[0m \u001b[39mdef\u001b[39;00m \u001b[39mget\u001b[39m(\u001b[39mself\u001b[39m, url: \u001b[39mstr\u001b[39m) \u001b[39m-\u001b[39m\u001b[39m>\u001b[39m \u001b[39mNone\u001b[39;00m:\n\u001b[0;32m    352\u001b[0m \u001b[39m    \u001b[39m\u001b[39m\"\"\"Loads a web page in the current browser session.\"\"\"\u001b[39;00m\n\u001b[1;32m--> 353\u001b[0m     \u001b[39mself\u001b[39;49m\u001b[39m.\u001b[39;49mexecute(Command\u001b[39m.\u001b[39;49mGET, {\u001b[39m\"\u001b[39;49m\u001b[39murl\u001b[39;49m\u001b[39m\"\u001b[39;49m: url})\n",
      "File \u001b[1;32md:\\programming\\GitHub\\Bots with Selenium\\venv\\Lib\\site-packages\\selenium\\webdriver\\remote\\webdriver.py:344\u001b[0m, in \u001b[0;36mWebDriver.execute\u001b[1;34m(self, driver_command, params)\u001b[0m\n\u001b[0;32m    342\u001b[0m response \u001b[39m=\u001b[39m \u001b[39mself\u001b[39m\u001b[39m.\u001b[39mcommand_executor\u001b[39m.\u001b[39mexecute(driver_command, params)\n\u001b[0;32m    343\u001b[0m \u001b[39mif\u001b[39;00m response:\n\u001b[1;32m--> 344\u001b[0m     \u001b[39mself\u001b[39;49m\u001b[39m.\u001b[39;49merror_handler\u001b[39m.\u001b[39;49mcheck_response(response)\n\u001b[0;32m    345\u001b[0m     response[\u001b[39m\"\u001b[39m\u001b[39mvalue\u001b[39m\u001b[39m\"\u001b[39m] \u001b[39m=\u001b[39m \u001b[39mself\u001b[39m\u001b[39m.\u001b[39m_unwrap_value(response\u001b[39m.\u001b[39mget(\u001b[39m\"\u001b[39m\u001b[39mvalue\u001b[39m\u001b[39m\"\u001b[39m, \u001b[39mNone\u001b[39;00m))\n\u001b[0;32m    346\u001b[0m     \u001b[39mreturn\u001b[39;00m response\n",
      "File \u001b[1;32md:\\programming\\GitHub\\Bots with Selenium\\venv\\Lib\\site-packages\\selenium\\webdriver\\remote\\errorhandler.py:229\u001b[0m, in \u001b[0;36mErrorHandler.check_response\u001b[1;34m(self, response)\u001b[0m\n\u001b[0;32m    227\u001b[0m         alert_text \u001b[39m=\u001b[39m value[\u001b[39m\"\u001b[39m\u001b[39malert\u001b[39m\u001b[39m\"\u001b[39m]\u001b[39m.\u001b[39mget(\u001b[39m\"\u001b[39m\u001b[39mtext\u001b[39m\u001b[39m\"\u001b[39m)\n\u001b[0;32m    228\u001b[0m     \u001b[39mraise\u001b[39;00m exception_class(message, screen, stacktrace, alert_text)  \u001b[39m# type: ignore[call-arg]  # mypy is not smart enough here\u001b[39;00m\n\u001b[1;32m--> 229\u001b[0m \u001b[39mraise\u001b[39;00m exception_class(message, screen, stacktrace)\n",
      "\u001b[1;31mInvalidSessionIdException\u001b[0m: Message: invalid session id\nStacktrace:\n\tGetHandleVerifier [0x00007FF7064B7892+54818]\n\t(No symbol) [0x00007FF706426AC2]\n\t(No symbol) [0x00007FF7062DD8ED]\n\t(No symbol) [0x00007FF7063130DE]\n\t(No symbol) [0x00007FF70633E9A2]\n\t(No symbol) [0x00007FF70633A710]\n\t(No symbol) [0x00007FF70633A016]\n\t(No symbol) [0x00007FF7062B41D0]\n\tGetHandleVerifier [0x00007FF70681B992+3610402]\n\tGetHandleVerifier [0x00007FF706871860+3962352]\n\tGetHandleVerifier [0x00007FF706869D4F+3930847]\n\tGetHandleVerifier [0x00007FF706553646+693206]\n\t(No symbol) [0x00007FF706431628]\n\t(No symbol) [0x00007FF7062B2FFE]\n\tGetHandleVerifier [0x00007FF7068B2278+4227080]\n\tBaseThreadInitThunk [0x00007FFDB22A7034+20]\n\tRtlUserThreadStart [0x00007FFDB35826A1+33]\n"
     ]
    }
   ],
   "source": [
    "from bs4 import BeautifulSoup\n",
    "import time\n",
    "from selenium.webdriver.chrome.options import Options\n",
    "from selenium import webdriver\n",
    "from selenium.webdriver.common.by import By\n",
    "import pandas as pd\n",
    "from selenium.webdriver.common.keys import Keys\n",
    "import requests\n",
    "\n",
    "df= pd.read_csv(f'../linkedin_data_Scraping/datas/partly_45878_reach_50.csv')\n",
    "\n",
    "# for k in range(7000,14000, 100):\n",
    "\n",
    "all_skills=[]\n",
    "all_abouts=[]\n",
    "all_positions=[]\n",
    "all_degrees=[]\n",
    "\n",
    "for link in df.links[394:]:\n",
    "    print(link)\n",
    "    options = Options()\n",
    "    # Add options to clear cache\n",
    "    options.add_argument('--disable-application-cache')\n",
    "    options.add_argument('--disable-extensions')\n",
    "    options.add_argument('--disable-dev-shm-usage')\n",
    "    options.add_argument('--disable-gpu')\n",
    "    options.add_argument('--disable-browser-side-navigation')\n",
    "    options.add_argument('--disable-infobars')\n",
    "    options.add_argument('--disable-features=NetworkService')\n",
    "    options.add_argument('--disable-features=NetworkServiceInProcess')\n",
    "    options.add_argument('--disable-features=NetworkServiceInProcess')\n",
    "    options.add_argument('--disable-features=RendererCodeIntegrity')\n",
    "    # options.add_argument('--headless')\n",
    "    options.add_argument(\"user-data-dir=C:/Users/user/AppData/Local/Google/Chrome/User Data/\")\n",
    "    driver = webdriver.Chrome(options=options)\n",
    "    driver.get(link)\n",
    "    # driver.get_cookies()\n",
    "    # requests.get(url=link, cookies=driver.get_cookies())\n",
    "    time.sleep(10)\n",
    "    src = driver.page_source\n",
    "    soup = BeautifulSoup(src, 'lxml')\n",
    "\n",
    "    # Find the element with the id \"experience\"\n",
    "    positions=[]\n",
    "    try:\n",
    "        experience_element = soup.find('div', {'id': 'experience'})\n",
    "\n",
    "        next_divs = experience_element.find_next_siblings('div')\n",
    "\n",
    "        lis=next_divs[1].find_all(\"li\", {\"class\":\"artdeco-list__item pvs-list__item--line-separated pvs-list__item--one-column\"})\n",
    "        \n",
    "        for li in lis:\n",
    "            # experience=li.find_all(\"span\", {\"class\":\"t-14 t-normal t-black--light\"})[0]\n",
    "            # experiences.append(experience)\n",
    "            position=li.find_all(\"span\", {\"aria-hidden\":\"true\"})[0]\n",
    "            positions.append(position.text)\n",
    "            print(f\"postion :{position.text}\")\n",
    "        # print(f\"experience :{experience.text[:(len(experience.text)//2)].split(' · ')[1]}\")\n",
    "    except:\n",
    "        print(\"not position\")\n",
    "        positions.append('nan')\n",
    "    # Find the element with the id \"education\"\n",
    "    degrees=[]\n",
    "    try:\n",
    "        education_element = soup.find('div', {'id': 'education'})\n",
    "\n",
    "        next_divs = education_element.find_next_siblings('div')\n",
    "        \n",
    "        lis=next_divs[1].find_all(\"li\", {\"class\":\"artdeco-list__item pvs-list__item--line-separated pvs-list__item--one-column\"})\n",
    "        for li in lis:\n",
    "            degree=li.find_all(\"span\", {\"aria-hidden\":\"true\"})[1]\n",
    "            degrees.append(degree.text)\n",
    "            print(f\"degree :{degree.text}\")\n",
    "    except:\n",
    "        degrees.append('nan')\n",
    "\n",
    "    # Find the element with the id \"about\"\n",
    "    try:\n",
    "        about_element = soup.find('div', {'id': 'about'})\n",
    "\n",
    "        next_divs = about_element.find_next_siblings('div')\n",
    "        print(next_divs[1].text.strip().split('…see more')[0])\n",
    "        about=next_divs[1].text.strip().split('…see more')[0]\n",
    "    except:\n",
    "        about='nan'\n",
    "        print(\"not about\")\n",
    "    driver.delete_all_cookies()\n",
    "    driver.close()\n",
    "\n",
    "    options = Options()\n",
    "    # Add options to clear cache\n",
    "    options.add_argument('--disable-application-cache')\n",
    "    options.add_argument('--disable-extensions')\n",
    "    options.add_argument('--disable-dev-shm-usage')\n",
    "    options.add_argument('--disable-gpu')\n",
    "    options.add_argument('--disable-browser-side-navigation')\n",
    "    options.add_argument('--disable-infobars')\n",
    "    options.add_argument('--disable-features=NetworkService')\n",
    "    options.add_argument('--disable-features=NetworkServiceInProcess')\n",
    "    options.add_argument('--disable-features=NetworkServiceInProcess')\n",
    "    options.add_argument('--disable-features=RendererCodeIntegrity')\n",
    "    # options.add_argument('--headless')\n",
    "    options.add_argument(\"user-data-dir=C:/Users/user/AppData/Local/Google/Chrome/User Data/\")\n",
    "    driver.get(str(link)+\"/details/skills/\")\n",
    "    time.sleep(5)\n",
    "    \n",
    "    # Find the element with the id \"skills\"\n",
    "    src = driver.page_source\n",
    "    soup = BeautifulSoup(src, 'lxml')\n",
    "    skills=[]    \n",
    "    try:                           \n",
    "        skills_element = soup.find_all('div', {'class': 'display-flex flex-row justify-space-between'})\n",
    "\n",
    "        #artdeco-list__item pvs-list__item--line-separated pvs-list__item--one-column\n",
    "        for li in skills_element:\n",
    "        \n",
    "            print(f\"skills :{li.text.strip()[:(len(li.text.strip())//2)]}\")\n",
    "            skills.append(li.text.strip()[:(len(li.text.strip())//2)])\n",
    "    except:\n",
    "        print(\"Don't have skills\")\n",
    "        skills.append('nan')\n",
    "    driver.delete_all_cookies()\n",
    "    driver.close()\n",
    "    \n",
    "    all_skills.append(skills)\n",
    "    all_abouts.append(about)\n",
    "    all_degrees.append(degrees)\n",
    "    all_positions.append(positions)\n",
    "df_data=pd.DataFrame({\n",
    "    \"skills\":all_skills,\n",
    "    \"positions\":all_positions,\n",
    "    \"about\":all_abouts,\n",
    "    \"degree\":all_degrees,\n",
    "})\n",
    "# df_data.to_csv(f\"./datas/data_{k}.csv\")"
   ]
  },
  {
   "cell_type": "code",
   "execution_count": 9,
   "metadata": {},
   "outputs": [
    {
     "ename": "InvalidSessionIdException",
     "evalue": "Message: invalid session id\nStacktrace:\n\tGetHandleVerifier [0x00007FF7064B7892+54818]\n\t(No symbol) [0x00007FF706426AC2]\n\t(No symbol) [0x00007FF7062DD8ED]\n\t(No symbol) [0x00007FF7063130DE]\n\t(No symbol) [0x00007FF70633E9A2]\n\t(No symbol) [0x00007FF70633A710]\n\t(No symbol) [0x00007FF70633A016]\n\t(No symbol) [0x00007FF7062B41D0]\n\tGetHandleVerifier [0x00007FF70681B992+3610402]\n\tGetHandleVerifier [0x00007FF706871860+3962352]\n\tGetHandleVerifier [0x00007FF706869D4F+3930847]\n\tGetHandleVerifier [0x00007FF706553646+693206]\n\t(No symbol) [0x00007FF706431628]\n\t(No symbol) [0x00007FF7062B2FFE]\n\tGetHandleVerifier [0x00007FF7068B2278+4227080]\n\tBaseThreadInitThunk [0x00007FFDB22A7034+20]\n\tRtlUserThreadStart [0x00007FFDB35826A1+33]\n",
     "output_type": "error",
     "traceback": [
      "\u001b[1;31m---------------------------------------------------------------------------\u001b[0m",
      "\u001b[1;31mInvalidSessionIdException\u001b[0m                 Traceback (most recent call last)",
      "\u001b[1;32md:\\programming\\GitHub\\Bots with Selenium\\Bots_using_selenium\\crystal_linkedin\\profile2.ipynb Cell 2\u001b[0m line \u001b[0;36m1\n\u001b[1;32m----> <a href='vscode-notebook-cell:/d%3A/programming/GitHub/Bots%20with%20Selenium/Bots_using_selenium/crystal_linkedin/profile2.ipynb#X21sZmlsZQ%3D%3D?line=0'>1</a>\u001b[0m driver\u001b[39m.\u001b[39;49mget(\u001b[39mstr\u001b[39;49m(link)\u001b[39m+\u001b[39;49m\u001b[39m\"\u001b[39;49m\u001b[39m/details/skills/\u001b[39;49m\u001b[39m\"\u001b[39;49m)\n",
      "File \u001b[1;32md:\\programming\\GitHub\\Bots with Selenium\\venv\\Lib\\site-packages\\selenium\\webdriver\\remote\\webdriver.py:353\u001b[0m, in \u001b[0;36mWebDriver.get\u001b[1;34m(self, url)\u001b[0m\n\u001b[0;32m    351\u001b[0m \u001b[39mdef\u001b[39;00m \u001b[39mget\u001b[39m(\u001b[39mself\u001b[39m, url: \u001b[39mstr\u001b[39m) \u001b[39m-\u001b[39m\u001b[39m>\u001b[39m \u001b[39mNone\u001b[39;00m:\n\u001b[0;32m    352\u001b[0m \u001b[39m    \u001b[39m\u001b[39m\"\"\"Loads a web page in the current browser session.\"\"\"\u001b[39;00m\n\u001b[1;32m--> 353\u001b[0m     \u001b[39mself\u001b[39;49m\u001b[39m.\u001b[39;49mexecute(Command\u001b[39m.\u001b[39;49mGET, {\u001b[39m\"\u001b[39;49m\u001b[39murl\u001b[39;49m\u001b[39m\"\u001b[39;49m: url})\n",
      "File \u001b[1;32md:\\programming\\GitHub\\Bots with Selenium\\venv\\Lib\\site-packages\\selenium\\webdriver\\remote\\webdriver.py:344\u001b[0m, in \u001b[0;36mWebDriver.execute\u001b[1;34m(self, driver_command, params)\u001b[0m\n\u001b[0;32m    342\u001b[0m response \u001b[39m=\u001b[39m \u001b[39mself\u001b[39m\u001b[39m.\u001b[39mcommand_executor\u001b[39m.\u001b[39mexecute(driver_command, params)\n\u001b[0;32m    343\u001b[0m \u001b[39mif\u001b[39;00m response:\n\u001b[1;32m--> 344\u001b[0m     \u001b[39mself\u001b[39;49m\u001b[39m.\u001b[39;49merror_handler\u001b[39m.\u001b[39;49mcheck_response(response)\n\u001b[0;32m    345\u001b[0m     response[\u001b[39m\"\u001b[39m\u001b[39mvalue\u001b[39m\u001b[39m\"\u001b[39m] \u001b[39m=\u001b[39m \u001b[39mself\u001b[39m\u001b[39m.\u001b[39m_unwrap_value(response\u001b[39m.\u001b[39mget(\u001b[39m\"\u001b[39m\u001b[39mvalue\u001b[39m\u001b[39m\"\u001b[39m, \u001b[39mNone\u001b[39;00m))\n\u001b[0;32m    346\u001b[0m     \u001b[39mreturn\u001b[39;00m response\n",
      "File \u001b[1;32md:\\programming\\GitHub\\Bots with Selenium\\venv\\Lib\\site-packages\\selenium\\webdriver\\remote\\errorhandler.py:229\u001b[0m, in \u001b[0;36mErrorHandler.check_response\u001b[1;34m(self, response)\u001b[0m\n\u001b[0;32m    227\u001b[0m         alert_text \u001b[39m=\u001b[39m value[\u001b[39m\"\u001b[39m\u001b[39malert\u001b[39m\u001b[39m\"\u001b[39m]\u001b[39m.\u001b[39mget(\u001b[39m\"\u001b[39m\u001b[39mtext\u001b[39m\u001b[39m\"\u001b[39m)\n\u001b[0;32m    228\u001b[0m     \u001b[39mraise\u001b[39;00m exception_class(message, screen, stacktrace, alert_text)  \u001b[39m# type: ignore[call-arg]  # mypy is not smart enough here\u001b[39;00m\n\u001b[1;32m--> 229\u001b[0m \u001b[39mraise\u001b[39;00m exception_class(message, screen, stacktrace)\n",
      "\u001b[1;31mInvalidSessionIdException\u001b[0m: Message: invalid session id\nStacktrace:\n\tGetHandleVerifier [0x00007FF7064B7892+54818]\n\t(No symbol) [0x00007FF706426AC2]\n\t(No symbol) [0x00007FF7062DD8ED]\n\t(No symbol) [0x00007FF7063130DE]\n\t(No symbol) [0x00007FF70633E9A2]\n\t(No symbol) [0x00007FF70633A710]\n\t(No symbol) [0x00007FF70633A016]\n\t(No symbol) [0x00007FF7062B41D0]\n\tGetHandleVerifier [0x00007FF70681B992+3610402]\n\tGetHandleVerifier [0x00007FF706871860+3962352]\n\tGetHandleVerifier [0x00007FF706869D4F+3930847]\n\tGetHandleVerifier [0x00007FF706553646+693206]\n\t(No symbol) [0x00007FF706431628]\n\t(No symbol) [0x00007FF7062B2FFE]\n\tGetHandleVerifier [0x00007FF7068B2278+4227080]\n\tBaseThreadInitThunk [0x00007FFDB22A7034+20]\n\tRtlUserThreadStart [0x00007FFDB35826A1+33]\n"
     ]
    }
   ],
   "source": [
    "driver.get(str(link)+\"/details/skills/\")"
   ]
  },
  {
   "cell_type": "code",
   "execution_count": 51,
   "metadata": {},
   "outputs": [],
   "source": [
    "df_data=pd.DataFrame({\n",
    "    \"skills\":all_skills[:176],\n",
    "    \"positions\":all_positions[:176],\n",
    "    \"about\":all_abouts[:176],\n",
    "    \"degree\":all_degrees[:176],\n",
    "})\n",
    "df_data.to_csv(f\"./datas/data_218-393.csv\")"
   ]
  },
  {
   "cell_type": "code",
   "execution_count": 50,
   "metadata": {},
   "outputs": [
    {
     "data": {
      "text/plain": [
       "['Italian',\n",
       " 'Teamwork',\n",
       " 'Internationale bedrijfskunde',\n",
       " 'Critical Thinking',\n",
       " 'Communication',\n",
       " 'Persuation',\n",
       " 'Linkedin Sales Navigator',\n",
       " 'LinkedIn',\n",
       " 'Networking',\n",
       " 'Interpersonal skills',\n",
       " 'Lead Generation',\n",
       " 'Adaptability',\n",
       " 'Public speaking',\n",
       " 'HubSpot',\n",
       " 'Sales',\n",
       " 'Ondernemerschap',\n",
       " 'Online marketing',\n",
       " 'Sport',\n",
       " 'Evenementmanagement',\n",
       " 'Internationale handel',\n",
       " 'Internationale bedrijfskunde',\n",
       " 'LinkedIn',\n",
       " 'Networking',\n",
       " 'Lead Generation',\n",
       " 'Sales',\n",
       " 'Ondernemerschap',\n",
       " 'Online marketing',\n",
       " 'Sport',\n",
       " 'Evenementmanagement',\n",
       " 'Internationale handel',\n",
       " 'Sportmanagement',\n",
       " 'Presentatievaardigheden',\n",
       " 'Coaching',\n",
       " 'Leiding',\n",
       " 'Linkedin Sales Navigator',\n",
       " 'HubSpot',\n",
       " 'Microsoft Excel',\n",
       " 'Microsoft Word',\n",
       " 'Microsoft Office',\n",
       " 'Teamwork',\n",
       " 'Critical Thinking',\n",
       " 'Communication',\n",
       " 'Interpersonal skills',\n",
       " 'Adaptability',\n",
       " 'Public speaking',\n",
       " 'communicative',\n",
       " 'public speaking',\n",
       " 'Italian',\n",
       " 'spanish',\n",
       " 'Business English']"
      ]
     },
     "execution_count": 50,
     "metadata": {},
     "output_type": "execute_result"
    }
   ],
   "source": [
    "all_skills[174]"
   ]
  },
  {
   "cell_type": "code",
   "execution_count": 32,
   "metadata": {},
   "outputs": [
    {
     "data": {
      "text/plain": [
       "818"
      ]
     },
     "execution_count": 32,
     "metadata": {},
     "output_type": "execute_result"
    }
   ],
   "source": [
    "len(all_degrees)"
   ]
  },
  {
   "cell_type": "code",
   "execution_count": 27,
   "metadata": {},
   "outputs": [
    {
     "data": {
      "text/plain": [
       "'https://www.linkedin.com/in/victor-wondergem-16a8935a'"
      ]
     },
     "execution_count": 27,
     "metadata": {},
     "output_type": "execute_result"
    }
   ],
   "source": [
    "df.links[217]"
   ]
  },
  {
   "cell_type": "code",
   "execution_count": 24,
   "metadata": {},
   "outputs": [
    {
     "data": {
      "text/plain": [
       "'https://www.linkedin.com/in/tonvtschip'"
      ]
     },
     "execution_count": 24,
     "metadata": {},
     "output_type": "execute_result"
    }
   ],
   "source": [
    "link"
   ]
  },
  {
   "cell_type": "code",
   "execution_count": null,
   "metadata": {},
   "outputs": [],
   "source": []
  },
  {
   "cell_type": "code",
   "execution_count": 15,
   "metadata": {},
   "outputs": [
    {
     "data": {
      "text/plain": [
       "59"
      ]
     },
     "execution_count": 15,
     "metadata": {},
     "output_type": "execute_result"
    }
   ],
   "source": [
    "len(all_degrees)"
   ]
  },
  {
   "cell_type": "code",
   "execution_count": 18,
   "metadata": {},
   "outputs": [],
   "source": [
    "df_data=pd.DataFrame({\n",
    "    \"skills\":all_skills,\n",
    "    \"positions\":all_positions,\n",
    "    \"about\":all_abouts,\n",
    "    \"degree\":all_degrees,\n",
    "    \"link\":df.links[:12]\n",
    "})"
   ]
  },
  {
   "cell_type": "code",
   "execution_count": 24,
   "metadata": {},
   "outputs": [],
   "source": [
    "df_data.to_csv(\"./datas/0-12.csv\")"
   ]
  },
  {
   "cell_type": "code",
   "execution_count": 23,
   "metadata": {},
   "outputs": [
    {
     "data": {
      "text/plain": [
       "[\"As an experienced change manager, I thrive on coaching and enhancing employee experience. My focus is on supporting leaders and organizations to drive effective change efforts during digital transformations. With a strong drive for personal and professional growth, I am constantly seeking new challenges. As a world traveler with a deep interest in languages and cultures, I bring a cross-cultural curiosity and awareness to my work, and I am highly people-oriented.I have extensive experience in organizational and digital transformation, change management, employee and user experience, artificial intelligence, design thinking, and collaborative leadership. Let's connect and talk more about how I can contribute to your organization.As an experienced change manager, I thrive on coaching and enhancing employee experience. My focus is on supporting leaders and organizations to drive effective change efforts during digital transformations. With a strong drive for personal and professional growth, I am constantly seeking new challenges. As a world traveler with a deep interest in languages and cultures, I bring a cross-cultural curiosity and awareness to my work, and I am highly people-oriented.\\n\\nI have extensive experience in organizational and digital transformation, change management, employee and user experience, artificial intelligence, design thinking, and collaborative leadership. Let's connect and talk more about how I can contribute to your organization.\\n\\n \\n              \",\n",
       " \"Hi, I'm Pavlos, a technical security engineer living in Amsterdam. I'm passionate about Cyber security both in IT and ICS environments. My experience focus on Red Teaming, penetration testing and TNE both in IT and OT environments,  as well as hardware hacking. In my free time I nerd out with some electronics projects focused on my home automation!I'm a social and I collaborate well with others, skills that I developed from my previous life as a bartender!Hi, I'm Pavlos, a technical security engineer living in Amsterdam. I'm passionate about Cyber security both in IT and ICS environments. \\nMy experience focus on Red Teaming, penetration testing and TNE both in IT and OT environments,  as well as hardware hacking. \\nIn my free time I nerd out with some electronics projects focused on my home automation!\\nI'm a social and I collaborate well with others, skills that I developed from my previous life as a bartender!\\n\\n \\n              \",\n",
       " 'Jeroen Inc. is the production company of Jeroen Roodnat, director/cameraman, editor & colorist. In 2023 he opened up a new grading and edit suite in Haarlem, the Netherlands. For more information please visit www.jeroeninc.comJeroen Inc. is the production company of Jeroen Roodnat, director/cameraman, editor & colorist. \\n\\nIn 2023 he opened up a new grading and edit suite in Haarlem, the Netherlands. \\n\\nFor more information please visit www.jeroeninc.com',\n",
       " 'I am an Interdisciplinary Researcher, with special focus on society, new technologies, management, arts & culture and accessibility. Having an academic background in business informatics (BSc), culture (BA), and conducting interdisciplinary research (MSc), allows me to see and understand the problem from different perspectives, and use qualitative and quantitative methodologies to solve it. I have a comprehensive understanding of the research processes, strategies, methodologies, and techniques needed to successfully deliver an effective product. Now I am looking for a stable professional environment that will give me the opportunity for further development. In the near future, I would like to deepen my research and consulting skills and focus on supporting companies in human-centered design, becoming more inclusive, and better understanding of their clients.I am an Interdisciplinary Researcher, with special focus on society, new technologies, management, arts & culture and accessibility. \\nHaving an academic background in business informatics (BSc), culture (BA), and conducting interdisciplinary research (MSc), allows me to see and understand the problem from different perspectives, and use qualitative and quantitative methodologies to solve it. I have a comprehensive understanding of the research processes, strategies, methodologies, and techniques needed to successfully deliver an effective product. \\nNow I am looking for a stable professional environment that will give me the opportunity for further development. In the near future, I would like to deepen my research and consulting skills and focus on supporting companies in human-centered design, becoming more inclusive, and better understanding of their clients.\\n\\n \\n              ',\n",
       " \"Theo Henckens is a university level environmental scientist/engineer from background. Over a period of almost 50 years he has acquired a profound experience in the fields of water and environment policy, management and technology. In various positions he gained an excellent knowledge of the policy, legal, institutional, economical and technical aspects of environment and water protection.Theo Henckens was responsible for a large number of projects in European and Asian countries. He has acted as project director and team leader of multi-disciplinary teams of international and local experts in the field of environment, integrated river basin management, and wastewater treatment. After his retirement Mr. Henckens got his PhD title by writing a dissertation on managing raw materials scarcity. At present he writes articles and books on this subject, amongst others:- Governance of the world's mineral resources. Beyond the foreseeable future. Published by Elsevier- How many electric cars can the world handle? The resource challegeTheo Henckens is a university level environmental scientist/engineer from background. Over a period of almost 50 years he has acquired a profound experience in the fields of water and environment policy, management and technology. In various positions he gained an excellent knowledge of the policy, legal, institutional, economical and technical aspects of environment and water protection.\\n\\nTheo Henckens was responsible for a large number of projects in European and Asian countries. He has acted as project director and team leader of multi-disciplinary teams of international and local experts in the field of environment, integrated river basin management, and wastewater treatment. \\n\\nAfter his retirement Mr. Henckens got his PhD title by writing a dissertation on managing raw materials scarcity. At present he writes articles and books on this subject, amongst others:\\n- Governance of the world's mineral resources. Beyond the foreseeable future. Published by Elsevier\\n- How many electric cars can the world handle? The resource challege\\n\\n \\n              \",\n",
       " 'I am an enthusiastic, dedicated professional, with broad experience in national and international political, financial and development cooperation. My qualities lie in having strong analytical and communicative skills, being able to find opportunities and consensus where others only see differences, and being result-driven. I like using my knowledge and skills (connecting, networking, analyses, writing) for socially relevant causes, such as social wellbeing, financial stability and the environment. Variation and room to take initiative I find important. Moreover, I have experience in working in a fast-paced political sensitive context.I am an enthusiastic, dedicated professional, with broad experience in national and international political, financial and development cooperation. My qualities lie in having strong analytical and communicative skills, being able to find opportunities and consensus where others only see differences, and being result-driven. I like using my knowledge and skills (connecting, networking, analyses, writing) for socially relevant causes, such as social wellbeing, financial stability and the environment. Variation and room to take initiative I find important. Moreover, I have experience in working in a fast-paced political sensitive context.\\n\\n \\n              ',\n",
       " \"Author of 'UNDP in Liberia tussen twee burgeroorlogen, wederopbouw & bureaucratie'.Author of 'De Vogelkooi', een roman over een moeder en haar zoon in ontwakend AlbaniëExperienced Director with a demonstrated history of working in the architecture & planning industry. Skilled in Emergency Management, Construction, Management, Non-Governmental Organizations, and Architecture. Strong professional graduated from Institute for Aerospace & Earth Sciences (ITC) Enschede, The Netherlands. Author of 'UNDP in Liberia tussen twee burgeroorlogen, wederopbouw & bureaucratie'.\\nAuthor of 'De Vogelkooi', een roman over een moeder en haar zoon in ontwakend Albanië\\nExperienced Director with a demonstrated history of working in the architecture & planning industry. Skilled in Emergency Management, Construction, Management, Non-Governmental Organizations, and Architecture. Strong professional graduated from Institute for Aerospace & Earth Sciences (ITC) Enschede, The Netherlands. \\n\\n \\n              \",\n",
       " 'I am a highly motivated person possessing a wide range of skills, knowledge and experience gained through academic study and work. A keen listener, flexible, patient, jovial, eager to learn and acquire new skills. I work effectively with others and highly capable of working on own initiative, posses an enthusiastic approach to work and attention to details where appropriate, with the ability to plan projects and prioritise conflicting demands. I have achieved a high academic standard, now committed to building a successful and rewarding career offering the opportunity for additional personal career development.I am a highly motivated person possessing a wide range of skills, knowledge and experience gained through academic study and work. A keen listener, flexible, patient, jovial, eager to learn and acquire new skills. \\n\\nI work effectively with others and highly capable of working on own initiative, posses an enthusiastic approach to work and attention to details where appropriate, with the ability to plan projects and prioritise conflicting demands. \\n\\nI have achieved a high academic standard, now committed to building a successful and rewarding career offering the opportunity for additional personal career development.',\n",
       " \"'Make it happen' mentality, with strong IT background covered with management flavor. 'Make it happen' mentality, with strong IT background covered with management flavor.\",\n",
       " 'Sincere, detail-oriented, realistic, client-focused: these are a few words that describe some of my personalcharacteristics in a nutshell. Having built my legal knowledge and experience representing prominent foreign and multinational clients, contract law, concessions, regulatory and compliance issues, licensing procedures and procurement processing in, among other industries, energy, oil & gas, mining, infrastructure, and aviation are the most important keywords that describe what I have to offer. In many of the cases that I handled, I have worked together with Clifford Chance LLP, Allen & Overy, Eversheds Southerland and other internationally renowned law firms. I am interested in finding a position as legal counsel or contract lawyer within a multinational working environment that allows for further development in European and/or Dutch law. I have a valid visa/work permit and can work for any company in the Netherlands.Sincere, detail-oriented, realistic, client-focused: these are a few words that describe some of my personal\\ncharacteristics in a nutshell. Having built my legal knowledge and experience representing prominent foreign and multinational clients, contract law, concessions, regulatory and compliance issues, licensing procedures and procurement processing in, among other industries, energy, oil & gas, mining, infrastructure, and aviation are the most important keywords that describe what I have to offer. In many of the cases that I handled, I have worked together with Clifford Chance LLP, Allen & Overy, Eversheds Southerland and other internationally renowned law firms. I am interested in finding a position as legal counsel or contract lawyer within a multinational working environment that allows for further development in European and/or Dutch law. I have a valid visa/work permit and can work for any company in the Netherlands.\\n\\n \\n              ',\n",
       " 'I am educated in international business management and logistics and I have several years of professional experience as project coordinator. As project coordinator I have been responsible for large health care projects around the world requiring export documentation, financial documentation, planning and transportation, procurement procedures and contract negotiations/management.In these projects I gained vast experience in managing international clients and international suppliers of hospital equipment in complex project environments. I am a pro-active project coordinator with a pragmatic and result driven approach. I am a team player with excellent organisation and communication skills.In recent years I have extended my work experience as Document/Information manager for the Devoll Hydro Power project in Albania and working for A.Hak Pipelines & Facilities, where I was involved in the development of their document management system. As Prequalification Officer I was responsible for the complete process of pre-qualifications, accreditations and audits, For several entities of A.Hak combining my coördination and planning skills in a technical environment.In recent years I felt the need to specialize in a certain area of project management and have been given the opportunity within A.Hak to combine my experience by coördinating larger tenders and extending my knowledge of contract management by executing contract/risk analysis, being involved in the contracting process and setting up contract administration.Our fast changing market has let to the need for well thought-out contract management and to the establishment of a Contract management department, from where I advise my colleagues from various divisions during the tendering and contracting phase and help to create awareness of the changing market and its effect on contract types and skills to execute them.I am educated in international business management and logistics and I have several years of professional experience as project coordinator. As project coordinator I have been responsible for large health care projects around the world requiring export documentation, financial documentation, planning and transportation, procurement procedures and contract negotiations/management.\\n\\nIn these projects I gained vast experience in managing international clients and international suppliers of hospital equipment in complex project environments. I am a pro-active project coordinator with a pragmatic and result driven approach. I am a team player with excellent organisation and communication skills.\\n\\nIn recent years I have extended my work experience as Document/Information manager for the Devoll Hydro Power project in Albania and working for A.Hak Pipelines & Facilities, where I was involved in the development of their document management system. \\n\\nAs Prequalification Officer I was responsible for the complete process of pre-qualifications, accreditations and audits, For several entities of A.Hak combining my coördination and planning skills in a technical environment.\\n\\nIn recent years I felt the need to specialize in a certain area of project management and have been given the opportunity within A.Hak to combine my experience by coördinating larger tenders and extending my knowledge of contract management by executing contract/risk analysis, being involved in the contracting process and setting up contract administration.\\nOur fast changing market has let to the need for well thought-out contract management and to the establishment of a Contract management department, from where I advise my colleagues from various divisions during the tendering and contracting phase and help to create awareness of the changing market and its effect on contract types and skills to execute them.\\n\\n \\n              ',\n",
       " 'nan']"
      ]
     },
     "execution_count": 23,
     "metadata": {},
     "output_type": "execute_result"
    }
   ],
   "source": [
    "all_abouts"
   ]
  },
  {
   "cell_type": "code",
   "execution_count": null,
   "metadata": {},
   "outputs": [],
   "source": [
    "\"skills\":all_skills,\n",
    "\"positions\":all_positions,\n",
    "\"about\":all_abouts,\n",
    "\"degree\":all_degrees,\n",
    "\"link\":df.links[:100]"
   ]
  },
  {
   "cell_type": "code",
   "execution_count": 15,
   "metadata": {},
   "outputs": [
    {
     "data": {
      "text/plain": [
       "[<span aria-hidden=\"true\"><!-- -->Projectcoördinator<!-- --></span>,\n",
       " <span aria-hidden=\"true\"><!-- -->A.Hak<!-- --></span>,\n",
       " <span aria-hidden=\"true\"><!-- -->Document Control Manager<!-- --></span>,\n",
       " <span aria-hidden=\"true\"><!-- -->Project Coördinator<!-- --></span>,\n",
       " <span aria-hidden=\"true\"><!-- -->Fun Industries<!-- --></span>]"
      ]
     },
     "execution_count": 15,
     "metadata": {},
     "output_type": "execute_result"
    }
   ],
   "source": [
    "all_positions[-1]"
   ]
  },
  {
   "cell_type": "code",
   "execution_count": 13,
   "metadata": {},
   "outputs": [
    {
     "data": {
      "text/plain": [
       "11"
      ]
     },
     "execution_count": 13,
     "metadata": {},
     "output_type": "execute_result"
    }
   ],
   "source": [
    "len(all_degrees)"
   ]
  },
  {
   "cell_type": "code",
   "execution_count": 3,
   "metadata": {},
   "outputs": [
    {
     "data": {
      "text/plain": [
       "<span class=\"t-14 t-normal t-black--light\">\n",
       "<span aria-hidden=\"true\"><!-- -->Amsterdam, North Holland, Netherlands<!-- --></span><span class=\"visually-hidden\"><!-- -->Amsterdam, North Holland, Netherlands<!-- --></span>\n",
       "</span>"
      ]
     },
     "execution_count": 3,
     "metadata": {},
     "output_type": "execute_result"
    }
   ],
   "source": [
    "experience"
   ]
  }
 ],
 "metadata": {
  "kernelspec": {
   "display_name": ".venv",
   "language": "python",
   "name": "python3"
  },
  "language_info": {
   "codemirror_mode": {
    "name": "ipython",
    "version": 3
   },
   "file_extension": ".py",
   "mimetype": "text/x-python",
   "name": "python",
   "nbconvert_exporter": "python",
   "pygments_lexer": "ipython3",
   "version": "3.11.5"
  },
  "orig_nbformat": 4
 },
 "nbformat": 4,
 "nbformat_minor": 2
}
