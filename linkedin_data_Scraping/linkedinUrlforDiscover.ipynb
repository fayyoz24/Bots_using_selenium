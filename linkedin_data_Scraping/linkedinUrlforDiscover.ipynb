{
 "cells": [
  {
   "cell_type": "code",
   "execution_count": 2,
   "metadata": {},
   "outputs": [
    {
     "ename": "NoSuchWindowException",
     "evalue": "Message: no such window: target window already closed\nfrom unknown error: web view not found\n  (Session info: chrome=120.0.6099.130)\nStacktrace:\n\tGetHandleVerifier [0x00007FF7D89A2142+3514994]\n\t(No symbol) [0x00007FF7D85C0CE2]\n\t(No symbol) [0x00007FF7D84676AA]\n\t(No symbol) [0x00007FF7D8440AFD]\n\t(No symbol) [0x00007FF7D84DCB1B]\n\t(No symbol) [0x00007FF7D84F218F]\n\t(No symbol) [0x00007FF7D84D5D93]\n\t(No symbol) [0x00007FF7D84A4BDC]\n\t(No symbol) [0x00007FF7D84A5C64]\n\tGetHandleVerifier [0x00007FF7D89CE16B+3695259]\n\tGetHandleVerifier [0x00007FF7D8A26737+4057191]\n\tGetHandleVerifier [0x00007FF7D8A1E4E3+4023827]\n\tGetHandleVerifier [0x00007FF7D86F04F9+689705]\n\t(No symbol) [0x00007FF7D85CC048]\n\t(No symbol) [0x00007FF7D85C8044]\n\t(No symbol) [0x00007FF7D85C81C9]\n\t(No symbol) [0x00007FF7D85B88C4]\n\tBaseThreadInitThunk [0x00007FF92F797034+20]\n\tRtlUserThreadStart [0x00007FF9302E26A1+33]\n",
     "output_type": "error",
     "traceback": [
      "\u001b[1;31m---------------------------------------------------------------------------\u001b[0m",
      "\u001b[1;31mNoSuchWindowException\u001b[0m                     Traceback (most recent call last)",
      "\u001b[1;32md:\\programs\\all-work-projects\\backup\\Temma\\Bots_using_selenium\\linkedin_data_Scraping\\linkedinUrlforDiscover.ipynb Cell 1\u001b[0m line \u001b[0;36m3\n\u001b[0;32m     <a href='vscode-notebook-cell:/d%3A/programs/all-work-projects/backup/Temma/Bots_using_selenium/linkedin_data_Scraping/linkedinUrlforDiscover.ipynb#W0sZmlsZQ%3D%3D?line=30'>31</a>\u001b[0m start\u001b[39m=\u001b[39mtime\u001b[39m.\u001b[39mtime()\n\u001b[0;32m     <a href='vscode-notebook-cell:/d%3A/programs/all-work-projects/backup/Temma/Bots_using_selenium/linkedin_data_Scraping/linkedinUrlforDiscover.ipynb#W0sZmlsZQ%3D%3D?line=31'>32</a>\u001b[0m \u001b[39mwhile\u001b[39;00m \u001b[39mTrue\u001b[39;00m:\n\u001b[1;32m---> <a href='vscode-notebook-cell:/d%3A/programs/all-work-projects/backup/Temma/Bots_using_selenium/linkedin_data_Scraping/linkedinUrlforDiscover.ipynb#W0sZmlsZQ%3D%3D?line=32'>33</a>\u001b[0m     driver\u001b[39m.\u001b[39;49mexecute_script(\u001b[39mf\u001b[39;49m\u001b[39m\"\u001b[39;49m\u001b[39mwindow.scrollTo(\u001b[39;49m\u001b[39m{\u001b[39;49;00minitialScroll\u001b[39m}\u001b[39;49;00m\u001b[39m, \u001b[39;49m\u001b[39m{\u001b[39;49;00mfinalScroll\u001b[39m}\u001b[39;49;00m\u001b[39m)\u001b[39;49m\u001b[39m\"\u001b[39;49m)\n\u001b[0;32m     <a href='vscode-notebook-cell:/d%3A/programs/all-work-projects/backup/Temma/Bots_using_selenium/linkedin_data_Scraping/linkedinUrlforDiscover.ipynb#W0sZmlsZQ%3D%3D?line=33'>34</a>\u001b[0m     initialScroll \u001b[39m=\u001b[39m finalScroll\n\u001b[0;32m     <a href='vscode-notebook-cell:/d%3A/programs/all-work-projects/backup/Temma/Bots_using_selenium/linkedin_data_Scraping/linkedinUrlforDiscover.ipynb#W0sZmlsZQ%3D%3D?line=34'>35</a>\u001b[0m     finalScroll \u001b[39m+\u001b[39m\u001b[39m=\u001b[39m \u001b[39m1000\u001b[39m\n",
      "File \u001b[1;32md:\\programs\\all-work-projects\\backup\\Temma\\Bots_using_selenium\\.venv\\Lib\\site-packages\\selenium\\webdriver\\remote\\webdriver.py:404\u001b[0m, in \u001b[0;36mWebDriver.execute_script\u001b[1;34m(self, script, *args)\u001b[0m\n\u001b[0;32m    401\u001b[0m converted_args \u001b[39m=\u001b[39m \u001b[39mlist\u001b[39m(args)\n\u001b[0;32m    402\u001b[0m command \u001b[39m=\u001b[39m Command\u001b[39m.\u001b[39mW3C_EXECUTE_SCRIPT\n\u001b[1;32m--> 404\u001b[0m \u001b[39mreturn\u001b[39;00m \u001b[39mself\u001b[39;49m\u001b[39m.\u001b[39;49mexecute(command, {\u001b[39m\"\u001b[39;49m\u001b[39mscript\u001b[39;49m\u001b[39m\"\u001b[39;49m: script, \u001b[39m\"\u001b[39;49m\u001b[39margs\u001b[39;49m\u001b[39m\"\u001b[39;49m: converted_args})[\u001b[39m\"\u001b[39m\u001b[39mvalue\u001b[39m\u001b[39m\"\u001b[39m]\n",
      "File \u001b[1;32md:\\programs\\all-work-projects\\backup\\Temma\\Bots_using_selenium\\.venv\\Lib\\site-packages\\selenium\\webdriver\\remote\\webdriver.py:344\u001b[0m, in \u001b[0;36mWebDriver.execute\u001b[1;34m(self, driver_command, params)\u001b[0m\n\u001b[0;32m    342\u001b[0m response \u001b[39m=\u001b[39m \u001b[39mself\u001b[39m\u001b[39m.\u001b[39mcommand_executor\u001b[39m.\u001b[39mexecute(driver_command, params)\n\u001b[0;32m    343\u001b[0m \u001b[39mif\u001b[39;00m response:\n\u001b[1;32m--> 344\u001b[0m     \u001b[39mself\u001b[39;49m\u001b[39m.\u001b[39;49merror_handler\u001b[39m.\u001b[39;49mcheck_response(response)\n\u001b[0;32m    345\u001b[0m     response[\u001b[39m\"\u001b[39m\u001b[39mvalue\u001b[39m\u001b[39m\"\u001b[39m] \u001b[39m=\u001b[39m \u001b[39mself\u001b[39m\u001b[39m.\u001b[39m_unwrap_value(response\u001b[39m.\u001b[39mget(\u001b[39m\"\u001b[39m\u001b[39mvalue\u001b[39m\u001b[39m\"\u001b[39m, \u001b[39mNone\u001b[39;00m))\n\u001b[0;32m    346\u001b[0m     \u001b[39mreturn\u001b[39;00m response\n",
      "File \u001b[1;32md:\\programs\\all-work-projects\\backup\\Temma\\Bots_using_selenium\\.venv\\Lib\\site-packages\\selenium\\webdriver\\remote\\errorhandler.py:229\u001b[0m, in \u001b[0;36mErrorHandler.check_response\u001b[1;34m(self, response)\u001b[0m\n\u001b[0;32m    227\u001b[0m         alert_text \u001b[39m=\u001b[39m value[\u001b[39m\"\u001b[39m\u001b[39malert\u001b[39m\u001b[39m\"\u001b[39m]\u001b[39m.\u001b[39mget(\u001b[39m\"\u001b[39m\u001b[39mtext\u001b[39m\u001b[39m\"\u001b[39m)\n\u001b[0;32m    228\u001b[0m     \u001b[39mraise\u001b[39;00m exception_class(message, screen, stacktrace, alert_text)  \u001b[39m# type: ignore[call-arg]  # mypy is not smart enough here\u001b[39;00m\n\u001b[1;32m--> 229\u001b[0m \u001b[39mraise\u001b[39;00m exception_class(message, screen, stacktrace)\n",
      "\u001b[1;31mNoSuchWindowException\u001b[0m: Message: no such window: target window already closed\nfrom unknown error: web view not found\n  (Session info: chrome=120.0.6099.130)\nStacktrace:\n\tGetHandleVerifier [0x00007FF7D89A2142+3514994]\n\t(No symbol) [0x00007FF7D85C0CE2]\n\t(No symbol) [0x00007FF7D84676AA]\n\t(No symbol) [0x00007FF7D8440AFD]\n\t(No symbol) [0x00007FF7D84DCB1B]\n\t(No symbol) [0x00007FF7D84F218F]\n\t(No symbol) [0x00007FF7D84D5D93]\n\t(No symbol) [0x00007FF7D84A4BDC]\n\t(No symbol) [0x00007FF7D84A5C64]\n\tGetHandleVerifier [0x00007FF7D89CE16B+3695259]\n\tGetHandleVerifier [0x00007FF7D8A26737+4057191]\n\tGetHandleVerifier [0x00007FF7D8A1E4E3+4023827]\n\tGetHandleVerifier [0x00007FF7D86F04F9+689705]\n\t(No symbol) [0x00007FF7D85CC048]\n\t(No symbol) [0x00007FF7D85C8044]\n\t(No symbol) [0x00007FF7D85C81C9]\n\t(No symbol) [0x00007FF7D85B88C4]\n\tBaseThreadInitThunk [0x00007FF92F797034+20]\n\tRtlUserThreadStart [0x00007FF9302E26A1+33]\n"
     ]
    }
   ],
   "source": [
    "from selenium.webdriver.common.by import By\n",
    "from selenium.webdriver.chrome.options import Options\n",
    "from selenium import webdriver\n",
    "import time\n",
    "import pandas as pd\n",
    "from bs4 import BeautifulSoup\n",
    "import time\n",
    "import pandas as pd\n",
    "from selenium.webdriver.common.keys import Keys\n",
    "import pandas as pd\n",
    "import json\n",
    "\n",
    "driver = webdriver.Chrome()\n",
    "#bot_for_recruiters\\datas\\datas_json\\data_masters.json\n",
    "path=\"../bot_for_recruiters/datas/datas_json/data_masters.json\"\n",
    "with open(path, 'r') as file:\n",
    "    data=json.load(file)\n",
    "tm=40\n",
    "csv_num=5  #len(data)\n",
    "links_all=[]\n",
    "for num in range(1830,len(data)):\n",
    "    study=data[num]['study']\n",
    "    links = []\n",
    "    study_plus=study.replace(\" \", \"+\")\n",
    "    driver.get(f'https://www.google.com/search?q=site:nl.linkedin.com/in/+{study_plus}+open+to+work')\n",
    "    time.sleep(tm) # to make slower \n",
    "    q=0\n",
    "    while q<5:\n",
    "        initialScroll=0\n",
    "        finalScroll=1000\n",
    "        start=time.time()\n",
    "        while True:\n",
    "            driver.execute_script(f\"window.scrollTo({initialScroll}, {finalScroll})\")\n",
    "            initialScroll = finalScroll\n",
    "            finalScroll += 1000\n",
    "            time.sleep(3)\n",
    "            end = time.time()\n",
    "            if round(end - start) > 20:\n",
    "                break\n",
    "            try:\n",
    "                yana1=driver.find_element(By.XPATH, \"/html/body/div[5]/div/div[10]/div/div[4]/div/div[3]/div[4]/a[1]/h3/div/span[1]/span\")\n",
    "                yana1.click()\n",
    "            except:\n",
    "                pass\n",
    "        src = driver.page_source\n",
    "        soup = BeautifulSoup(src, 'lxml')\n",
    "        lis=soup.find_all(\"div\", {\"class\":\"MjjYud\"})\n",
    "        for li in lis:\n",
    "            if 'open to work' in li.text.lower():\n",
    "                link=li.find(\"a\", href=True).get('href')\n",
    "                links.append(link)\n",
    "        for hr in soup.find_all('a',href=True):\n",
    "            if (\"https://nl.linkedin.com/in/\" in  hr['href']) and len(hr['href'])<100:\n",
    "                # print(hr['href'])\n",
    "                links_all.append(hr['href'])\n",
    "        q+=1\n",
    "            # driver.close()\n",
    "    print(links)\n",
    "    tm+=5\n",
    "    import pandas as pd\n",
    "    df=pd.DataFrame({\n",
    "        \"links\":links_all\n",
    "    })\n",
    "    df.drop_duplicates().to_csv(f'./datas/2023-12-07-I/{study}.csv')\n",
    "    csv_num+=1\n",
    "\n",
    "    df=pd.DataFrame({\n",
    "        \"links\":links\n",
    "    })\n",
    "    df.drop_duplicates().to_csv(f'./datas/2023-12-07-I-open_to_work/{study}.csv')\n",
    "    print(num)"
   ]
  },
  {
   "cell_type": "code",
   "execution_count": 7,
   "metadata": {},
   "outputs": [
    {
     "ename": "NameError",
     "evalue": "name 'study' is not defined",
     "output_type": "error",
     "traceback": [
      "\u001b[1;31m---------------------------------------------------------------------------\u001b[0m",
      "\u001b[1;31mNameError\u001b[0m                                 Traceback (most recent call last)",
      "\u001b[1;32md:\\programs\\all-work-projects\\backup\\Temma\\Bots_using_selenium\\linkedin_data_Scraping\\linkedinUrlforDiscover.ipynb Cell 2\u001b[0m line \u001b[0;36m1\n\u001b[1;32m----> <a href='vscode-notebook-cell:/d%3A/programs/all-work-projects/backup/Temma/Bots_using_selenium/linkedin_data_Scraping/linkedinUrlforDiscover.ipynb#W1sZmlsZQ%3D%3D?line=0'>1</a>\u001b[0m study\n",
      "\u001b[1;31mNameError\u001b[0m: name 'study' is not defined"
     ]
    }
   ],
   "source": [
    "study"
   ]
  },
  {
   "cell_type": "code",
   "execution_count": null,
   "metadata": {},
   "outputs": [],
   "source": []
  },
  {
   "cell_type": "code",
   "execution_count": 25,
   "metadata": {},
   "outputs": [],
   "source": [
    "df.drop_duplicates().to_csv(f'./datas/2023-12-07-I/Bedrijfskunde in deeltijd.csv')"
   ]
  },
  {
   "cell_type": "code",
   "execution_count": 8,
   "metadata": {},
   "outputs": [
    {
     "ename": "NameError",
     "evalue": "name 'links' is not defined",
     "output_type": "error",
     "traceback": [
      "\u001b[1;31m---------------------------------------------------------------------------\u001b[0m",
      "\u001b[1;31mNameError\u001b[0m                                 Traceback (most recent call last)",
      "\u001b[1;32md:\\programs\\all-work-projects\\backup\\Temma\\Bots_using_selenium\\linkedin_data_Scraping\\linkedinUrlforDiscover.ipynb Cell 5\u001b[0m line \u001b[0;36m2\n\u001b[0;32m      <a href='vscode-notebook-cell:/d%3A/programs/all-work-projects/backup/Temma/Bots_using_selenium/linkedin_data_Scraping/linkedinUrlforDiscover.ipynb#W4sZmlsZQ%3D%3D?line=0'>1</a>\u001b[0m df\u001b[39m=\u001b[39mpd\u001b[39m.\u001b[39mDataFrame({\n\u001b[1;32m----> <a href='vscode-notebook-cell:/d%3A/programs/all-work-projects/backup/Temma/Bots_using_selenium/linkedin_data_Scraping/linkedinUrlforDiscover.ipynb#W4sZmlsZQ%3D%3D?line=1'>2</a>\u001b[0m \u001b[39m\"\u001b[39m\u001b[39mlinks\u001b[39m\u001b[39m\"\u001b[39m:links\n\u001b[0;32m      <a href='vscode-notebook-cell:/d%3A/programs/all-work-projects/backup/Temma/Bots_using_selenium/linkedin_data_Scraping/linkedinUrlforDiscover.ipynb#W4sZmlsZQ%3D%3D?line=2'>3</a>\u001b[0m })\n\u001b[0;32m      <a href='vscode-notebook-cell:/d%3A/programs/all-work-projects/backup/Temma/Bots_using_selenium/linkedin_data_Scraping/linkedinUrlforDiscover.ipynb#W4sZmlsZQ%3D%3D?line=3'>4</a>\u001b[0m df\u001b[39m.\u001b[39mdrop_duplicates()\u001b[39m.\u001b[39mto_csv(\u001b[39mf\u001b[39m\u001b[39m'\u001b[39m\u001b[39m./datas/2023-12-07-I-open_to_work/Bedrijfskunde in deeltijd.csv\u001b[39m\u001b[39m'\u001b[39m)\n",
      "\u001b[1;31mNameError\u001b[0m: name 'links' is not defined"
     ]
    }
   ],
   "source": [
    "df=pd.DataFrame({\n",
    "\"links\":links\n",
    "})\n",
    "df.drop_duplicates().to_csv(f'./datas/2023-12-07-I-open_to_work/Bedrijfskunde in deeltijd.csv')"
   ]
  },
  {
   "cell_type": "code",
   "execution_count": 4,
   "metadata": {},
   "outputs": [
    {
     "name": "stdout",
     "output_type": "stream",
     "text": [
      "724\n"
     ]
    }
   ],
   "source": [
    "print(num)"
   ]
  },
  {
   "cell_type": "code",
   "execution_count": 5,
   "metadata": {},
   "outputs": [
    {
     "data": {
      "text/plain": [
       "'Forensic Psychology'"
      ]
     },
     "execution_count": 5,
     "metadata": {},
     "output_type": "execute_result"
    }
   ],
   "source": [
    "import pandas as pd\n",
    "import json\n",
    "path='../bot_for_recruiters/datas/datas_json/data_masters.json'\n",
    "with open(path, 'r') as file:\n",
    "    df=json.load(file)\n",
    "\n",
    "df[436]['study']"
   ]
  },
  {
   "cell_type": "code",
   "execution_count": 13,
   "metadata": {},
   "outputs": [
    {
     "name": "stdout",
     "output_type": "stream",
     "text": [
      "[]\n",
      "516\n"
     ]
    }
   ],
   "source": [
    "print(links)\n",
    "tm+=5\n",
    "import pandas as pd\n",
    "df=pd.DataFrame({\n",
    "    \"links\":links_all\n",
    "})\n",
    "df.to_csv(f'./datas/2023-12-07-I/Kunst, cultuur en erfgoed.csv')\n",
    "csv_num+=1\n",
    "\n",
    "df=pd.DataFrame({\n",
    "    \"links\":links\n",
    "})\n",
    "df.to_csv(f'./datas/2023-12-07-I-open_to_work/Kunst, cultuur en erfgoed.csv')\n",
    "print(num)"
   ]
  }
 ],
 "metadata": {
  "kernelspec": {
   "display_name": ".venv",
   "language": "python",
   "name": "python3"
  },
  "language_info": {
   "codemirror_mode": {
    "name": "ipython",
    "version": 3
   },
   "file_extension": ".py",
   "mimetype": "text/x-python",
   "name": "python",
   "nbconvert_exporter": "python",
   "pygments_lexer": "ipython3",
   "version": "3.11.5"
  }
 },
 "nbformat": 4,
 "nbformat_minor": 2
}
