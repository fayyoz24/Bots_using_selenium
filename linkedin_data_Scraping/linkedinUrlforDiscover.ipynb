{
 "cells": [
  {
   "cell_type": "code",
   "execution_count": 1,
   "metadata": {},
   "outputs": [],
   "source": [
    "from selenium.webdriver.common.by import By\n",
    "from selenium.webdriver.chrome.options import Options\n",
    "from selenium import webdriver\n",
    "import time\n",
    "import pandas as pd\n",
    "from bs4 import BeautifulSoup\n",
    "import time\n",
    "import pandas as pd\n",
    "from selenium.webdriver.common.keys import Keys\n",
    "import pandas as pd\n",
    "import json\n",
    "\n",
    "driver = webdriver.Chrome()\n",
    "#bot_for_recruiters\\datas\\datas_json\\data_masters.json \n",
    "path=\"../bot_for_recruiters/datas/datas_json/data.json\"\n",
    "with open(path, 'r') as file:\n",
    "    data=json.load(file)\n",
    "tm=40\n",
    "csv_num=5  #len(data)\n",
    "links_all=[]\n",
    "for num in range(495,len(data)):\n",
    "    study=data[num]['study']\n",
    "    links = []\n",
    "    study_plus=study.replace(\" \", \"+\")\n",
    "    driver.get(f'https://www.google.com/search?q=site:nl.linkedin.com/in/+{study_plus}+open+to+work')\n",
    "    time.sleep(tm) # to make slower \n",
    "    q=0\n",
    "    while q<5:\n",
    "        initialScroll=0\n",
    "        finalScroll=1000\n",
    "        start=time.time()\n",
    "        while True:\n",
    "            driver.execute_script(f\"window.scrollTo({initialScroll}, {finalScroll})\")\n",
    "            initialScroll = finalScroll\n",
    "            finalScroll += 1000\n",
    "            time.sleep(3)\n",
    "            end = time.time()\n",
    "            if round(end - start) > 20:\n",
    "                break\n",
    "            try:\n",
    "                yana1=driver.find_element(By.XPATH, \"/html/body/div[5]/div/div[10]/div/div[4]/div/div[3]/div[4]/a[1]/h3/div/span[1]/span\")\n",
    "                yana1.click()\n",
    "            except:\n",
    "                pass\n",
    "        src = driver.page_source\n",
    "        soup = BeautifulSoup(src, 'lxml')\n",
    "        lis=soup.find_all(\"div\", {\"class\":\"MjjYud\"})\n",
    "        for li in lis:\n",
    "            if 'open to work' in li.text.lower():\n",
    "                link=li.find(\"a\", href=True).get('href')\n",
    "                links.append(link)\n",
    "        for hr in soup.find_all('a',href=True):\n",
    "            if (\"https://nl.linkedin.com/in/\" in  hr['href']) and len(hr['href'])<100:\n",
    "                # print(hr['href'])\n",
    "                links_all.append(hr['href'])\n",
    "        q+=1\n",
    "            # driver.close()\n",
    "    print(links)\n",
    "    tm+=5\n",
    "    import pandas as pd\n",
    "    df=pd.DataFrame({\n",
    "        \"links\":links_all\n",
    "    })\n",
    "    df.drop_duplicates().to_csv(f'./datas/2024-01-01-I/{study}.csv')\n",
    "    csv_num+=1\n",
    "\n",
    "    df=pd.DataFrame({\n",
    "        \"links\":links\n",
    "    })\n",
    "    df.drop_duplicates().to_csv(f'./datas/2024-01-01-I-open_to_work/{study}.csv')\n",
    "    print(num)"
   ]
  },
  {
   "cell_type": "code",
   "execution_count": 2,
   "metadata": {},
   "outputs": [
    {
     "ename": "NameError",
     "evalue": "name 'study' is not defined",
     "output_type": "error",
     "traceback": [
      "\u001b[1;31m---------------------------------------------------------------------------\u001b[0m",
      "\u001b[1;31mNameError\u001b[0m                                 Traceback (most recent call last)",
      "\u001b[1;32md:\\programs\\all-work-projects\\backup\\Temma\\Bots_using_selenium\\linkedin_data_Scraping\\linkedinUrlforDiscover.ipynb Cell 2\u001b[0m line \u001b[0;36m1\n\u001b[1;32m----> <a href='vscode-notebook-cell:/d%3A/programs/all-work-projects/backup/Temma/Bots_using_selenium/linkedin_data_Scraping/linkedinUrlforDiscover.ipynb#W1sZmlsZQ%3D%3D?line=0'>1</a>\u001b[0m study\n",
      "\u001b[1;31mNameError\u001b[0m: name 'study' is not defined"
     ]
    }
   ],
   "source": [
    "study"
   ]
  },
  {
   "cell_type": "code",
   "execution_count": null,
   "metadata": {},
   "outputs": [],
   "source": []
  },
  {
   "cell_type": "code",
   "execution_count": 25,
   "metadata": {},
   "outputs": [],
   "source": [
    "df.drop_duplicates().to_csv(f'./datas/2023-12-07-I/Bedrijfskunde in deeltijd.csv')"
   ]
  },
  {
   "cell_type": "code",
   "execution_count": 8,
   "metadata": {},
   "outputs": [
    {
     "ename": "NameError",
     "evalue": "name 'links' is not defined",
     "output_type": "error",
     "traceback": [
      "\u001b[1;31m---------------------------------------------------------------------------\u001b[0m",
      "\u001b[1;31mNameError\u001b[0m                                 Traceback (most recent call last)",
      "\u001b[1;32md:\\programs\\all-work-projects\\backup\\Temma\\Bots_using_selenium\\linkedin_data_Scraping\\linkedinUrlforDiscover.ipynb Cell 5\u001b[0m line \u001b[0;36m2\n\u001b[0;32m      <a href='vscode-notebook-cell:/d%3A/programs/all-work-projects/backup/Temma/Bots_using_selenium/linkedin_data_Scraping/linkedinUrlforDiscover.ipynb#W4sZmlsZQ%3D%3D?line=0'>1</a>\u001b[0m df\u001b[39m=\u001b[39mpd\u001b[39m.\u001b[39mDataFrame({\n\u001b[1;32m----> <a href='vscode-notebook-cell:/d%3A/programs/all-work-projects/backup/Temma/Bots_using_selenium/linkedin_data_Scraping/linkedinUrlforDiscover.ipynb#W4sZmlsZQ%3D%3D?line=1'>2</a>\u001b[0m \u001b[39m\"\u001b[39m\u001b[39mlinks\u001b[39m\u001b[39m\"\u001b[39m:links\n\u001b[0;32m      <a href='vscode-notebook-cell:/d%3A/programs/all-work-projects/backup/Temma/Bots_using_selenium/linkedin_data_Scraping/linkedinUrlforDiscover.ipynb#W4sZmlsZQ%3D%3D?line=2'>3</a>\u001b[0m })\n\u001b[0;32m      <a href='vscode-notebook-cell:/d%3A/programs/all-work-projects/backup/Temma/Bots_using_selenium/linkedin_data_Scraping/linkedinUrlforDiscover.ipynb#W4sZmlsZQ%3D%3D?line=3'>4</a>\u001b[0m df\u001b[39m.\u001b[39mdrop_duplicates()\u001b[39m.\u001b[39mto_csv(\u001b[39mf\u001b[39m\u001b[39m'\u001b[39m\u001b[39m./datas/2023-12-07-I-open_to_work/Bedrijfskunde in deeltijd.csv\u001b[39m\u001b[39m'\u001b[39m)\n",
      "\u001b[1;31mNameError\u001b[0m: name 'links' is not defined"
     ]
    }
   ],
   "source": [
    "df=pd.DataFrame({\n",
    "\"links\":links\n",
    "})\n",
    "df.drop_duplicates().to_csv(f'./datas/2023-12-07-I-open_to_work/Bedrijfskunde in deeltijd.csv')"
   ]
  },
  {
   "cell_type": "code",
   "execution_count": 8,
   "metadata": {},
   "outputs": [
    {
     "name": "stdout",
     "output_type": "stream",
     "text": [
      "464\n"
     ]
    }
   ],
   "source": [
    "print(num)"
   ]
  },
  {
   "cell_type": "code",
   "execution_count": 5,
   "metadata": {},
   "outputs": [
    {
     "data": {
      "text/plain": [
       "'Forensic Psychology'"
      ]
     },
     "execution_count": 5,
     "metadata": {},
     "output_type": "execute_result"
    }
   ],
   "source": [
    "import pandas as pd\n",
    "import json\n",
    "path='../bot_for_recruiters/datas/datas_json/data_masters.json'\n",
    "with open(path, 'r') as file:\n",
    "    df=json.load(file)\n",
    "\n",
    "df[436]['study']"
   ]
  },
  {
   "cell_type": "code",
   "execution_count": 13,
   "metadata": {},
   "outputs": [
    {
     "name": "stdout",
     "output_type": "stream",
     "text": [
      "[]\n",
      "516\n"
     ]
    }
   ],
   "source": [
    "print(links)\n",
    "tm+=5\n",
    "import pandas as pd\n",
    "df=pd.DataFrame({\n",
    "    \"links\":links_all\n",
    "})\n",
    "df.to_csv(f'./datas/2023-12-07-I/Kunst, cultuur en erfgoed.csv')\n",
    "csv_num+=1\n",
    "\n",
    "df=pd.DataFrame({\n",
    "    \"links\":links\n",
    "})\n",
    "df.to_csv(f'./datas/2023-12-07-I-open_to_work/Kunst, cultuur en erfgoed.csv')\n",
    "print(num)"
   ]
  }
 ],
 "metadata": {
  "kernelspec": {
   "display_name": ".venv",
   "language": "python",
   "name": "python3"
  },
  "language_info": {
   "codemirror_mode": {
    "name": "ipython",
    "version": 3
   },
   "file_extension": ".py",
   "mimetype": "text/x-python",
   "name": "python",
   "nbconvert_exporter": "python",
   "pygments_lexer": "ipython3",
   "version": "3.11.5"
  }
 },
 "nbformat": 4,
 "nbformat_minor": 2
}
