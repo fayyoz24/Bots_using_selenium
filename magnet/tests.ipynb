{
 "cells": [
  {
   "cell_type": "code",
   "execution_count": 44,
   "metadata": {},
   "outputs": [
    {
     "name": "stderr",
     "output_type": "stream",
     "text": [
      "C:\\Users\\fayyo\\AppData\\Local\\Temp\\ipykernel_11552\\393378524.py:10: DeprecationWarning: executable_path has been deprecated, please pass in a Service object\n",
      "  driver = webdriver.Chrome(executable_path='C:/Users/fayyo/Downloads/chromedriver.exe')\n"
     ]
    },
    {
     "ename": "ElementClickInterceptedException",
     "evalue": "Message: element click intercepted: Element <li class=\"c03258\">...</li> is not clickable at point (675, 538). Other element would receive the click: <div class=\"c0378\">...</div>\n  (Session info: chrome=116.0.5845.188)\nStacktrace:\n\tGetHandleVerifier [0x00F437C3+48947]\n\t(No symbol) [0x00ED8551]\n\t(No symbol) [0x00DDC92D]\n\t(No symbol) [0x00E0E276]\n\t(No symbol) [0x00E0CF4D]\n\t(No symbol) [0x00E0B74B]\n\t(No symbol) [0x00E0ABA5]\n\t(No symbol) [0x00E03420]\n\t(No symbol) [0x00E2508C]\n\t(No symbol) [0x00E02EB6]\n\t(No symbol) [0x00E253E4]\n\t(No symbol) [0x00E375DA]\n\t(No symbol) [0x00E24E86]\n\t(No symbol) [0x00E016C7]\n\t(No symbol) [0x00E0284D]\n\tGetHandleVerifier [0x0118FDF9+2458985]\n\tGetHandleVerifier [0x011D744F+2751423]\n\tGetHandleVerifier [0x011D1361+2726609]\n\tGetHandleVerifier [0x00FC0680+560624]\n\t(No symbol) [0x00EE238C]\n\t(No symbol) [0x00EDE268]\n\t(No symbol) [0x00EDE392]\n\t(No symbol) [0x00ED10B7]\n\tBaseThreadInitThunk [0x75CDFCC9+25]\n\tRtlGetAppContainerNamedObjectPath [0x777C7B1E+286]\n\tRtlGetAppContainerNamedObjectPath [0x777C7AEE+238]\n",
     "output_type": "error",
     "traceback": [
      "\u001b[1;31m---------------------------------------------------------------------------\u001b[0m",
      "\u001b[1;31mElementClickInterceptedException\u001b[0m          Traceback (most recent call last)",
      "Cell \u001b[1;32mIn[44], line 19\u001b[0m\n\u001b[0;32m     17\u001b[0m time\u001b[39m.\u001b[39msleep(\u001b[39m5\u001b[39m)\n\u001b[0;32m     18\u001b[0m li\u001b[39m=\u001b[39mdriver\u001b[39m.\u001b[39mfind_element(By\u001b[39m.\u001b[39mXPATH, \u001b[39m'\u001b[39m\u001b[39m/html/body/div/div/div/div[4]/div/div[1]/div[2]/div/div[3]/div/div/div[1]/div/ol/li[\u001b[39m\u001b[39m'\u001b[39m\u001b[39m+\u001b[39m\u001b[39mstr\u001b[39m(li_num)\u001b[39m+\u001b[39m\u001b[39m'\u001b[39m\u001b[39m]\u001b[39m\u001b[39m'\u001b[39m)\n\u001b[1;32m---> 19\u001b[0m li\u001b[39m.\u001b[39;49mclick()\n\u001b[0;32m     20\u001b[0m time\u001b[39m.\u001b[39msleep(\u001b[39m10\u001b[39m)\n\u001b[0;32m     22\u001b[0m src \u001b[39m=\u001b[39m driver\u001b[39m.\u001b[39mpage_source\n",
      "File \u001b[1;32mc:\\Users\\GitHub\\Bots_using_selenium\\venv\\lib\\site-packages\\selenium\\webdriver\\remote\\webelement.py:94\u001b[0m, in \u001b[0;36mWebElement.click\u001b[1;34m(self)\u001b[0m\n\u001b[0;32m     92\u001b[0m \u001b[39mdef\u001b[39;00m \u001b[39mclick\u001b[39m(\u001b[39mself\u001b[39m) \u001b[39m-\u001b[39m\u001b[39m>\u001b[39m \u001b[39mNone\u001b[39;00m:\n\u001b[0;32m     93\u001b[0m \u001b[39m    \u001b[39m\u001b[39m\"\"\"Clicks the element.\"\"\"\u001b[39;00m\n\u001b[1;32m---> 94\u001b[0m     \u001b[39mself\u001b[39;49m\u001b[39m.\u001b[39;49m_execute(Command\u001b[39m.\u001b[39;49mCLICK_ELEMENT)\n",
      "File \u001b[1;32mc:\\Users\\GitHub\\Bots_using_selenium\\venv\\lib\\site-packages\\selenium\\webdriver\\remote\\webelement.py:403\u001b[0m, in \u001b[0;36mWebElement._execute\u001b[1;34m(self, command, params)\u001b[0m\n\u001b[0;32m    401\u001b[0m     params \u001b[39m=\u001b[39m {}\n\u001b[0;32m    402\u001b[0m params[\u001b[39m\"\u001b[39m\u001b[39mid\u001b[39m\u001b[39m\"\u001b[39m] \u001b[39m=\u001b[39m \u001b[39mself\u001b[39m\u001b[39m.\u001b[39m_id\n\u001b[1;32m--> 403\u001b[0m \u001b[39mreturn\u001b[39;00m \u001b[39mself\u001b[39;49m\u001b[39m.\u001b[39;49m_parent\u001b[39m.\u001b[39;49mexecute(command, params)\n",
      "File \u001b[1;32mc:\\Users\\GitHub\\Bots_using_selenium\\venv\\lib\\site-packages\\selenium\\webdriver\\remote\\webdriver.py:440\u001b[0m, in \u001b[0;36mWebDriver.execute\u001b[1;34m(self, driver_command, params)\u001b[0m\n\u001b[0;32m    438\u001b[0m response \u001b[39m=\u001b[39m \u001b[39mself\u001b[39m\u001b[39m.\u001b[39mcommand_executor\u001b[39m.\u001b[39mexecute(driver_command, params)\n\u001b[0;32m    439\u001b[0m \u001b[39mif\u001b[39;00m response:\n\u001b[1;32m--> 440\u001b[0m     \u001b[39mself\u001b[39;49m\u001b[39m.\u001b[39;49merror_handler\u001b[39m.\u001b[39;49mcheck_response(response)\n\u001b[0;32m    441\u001b[0m     response[\u001b[39m\"\u001b[39m\u001b[39mvalue\u001b[39m\u001b[39m\"\u001b[39m] \u001b[39m=\u001b[39m \u001b[39mself\u001b[39m\u001b[39m.\u001b[39m_unwrap_value(response\u001b[39m.\u001b[39mget(\u001b[39m\"\u001b[39m\u001b[39mvalue\u001b[39m\u001b[39m\"\u001b[39m, \u001b[39mNone\u001b[39;00m))\n\u001b[0;32m    442\u001b[0m     \u001b[39mreturn\u001b[39;00m response\n",
      "File \u001b[1;32mc:\\Users\\GitHub\\Bots_using_selenium\\venv\\lib\\site-packages\\selenium\\webdriver\\remote\\errorhandler.py:245\u001b[0m, in \u001b[0;36mErrorHandler.check_response\u001b[1;34m(self, response)\u001b[0m\n\u001b[0;32m    243\u001b[0m         alert_text \u001b[39m=\u001b[39m value[\u001b[39m\"\u001b[39m\u001b[39malert\u001b[39m\u001b[39m\"\u001b[39m]\u001b[39m.\u001b[39mget(\u001b[39m\"\u001b[39m\u001b[39mtext\u001b[39m\u001b[39m\"\u001b[39m)\n\u001b[0;32m    244\u001b[0m     \u001b[39mraise\u001b[39;00m exception_class(message, screen, stacktrace, alert_text)  \u001b[39m# type: ignore[call-arg]  # mypy is not smart enough here\u001b[39;00m\n\u001b[1;32m--> 245\u001b[0m \u001b[39mraise\u001b[39;00m exception_class(message, screen, stacktrace)\n",
      "\u001b[1;31mElementClickInterceptedException\u001b[0m: Message: element click intercepted: Element <li class=\"c03258\">...</li> is not clickable at point (675, 538). Other element would receive the click: <div class=\"c0378\">...</div>\n  (Session info: chrome=116.0.5845.188)\nStacktrace:\n\tGetHandleVerifier [0x00F437C3+48947]\n\t(No symbol) [0x00ED8551]\n\t(No symbol) [0x00DDC92D]\n\t(No symbol) [0x00E0E276]\n\t(No symbol) [0x00E0CF4D]\n\t(No symbol) [0x00E0B74B]\n\t(No symbol) [0x00E0ABA5]\n\t(No symbol) [0x00E03420]\n\t(No symbol) [0x00E2508C]\n\t(No symbol) [0x00E02EB6]\n\t(No symbol) [0x00E253E4]\n\t(No symbol) [0x00E375DA]\n\t(No symbol) [0x00E24E86]\n\t(No symbol) [0x00E016C7]\n\t(No symbol) [0x00E0284D]\n\tGetHandleVerifier [0x0118FDF9+2458985]\n\tGetHandleVerifier [0x011D744F+2751423]\n\tGetHandleVerifier [0x011D1361+2726609]\n\tGetHandleVerifier [0x00FC0680+560624]\n\t(No symbol) [0x00EE238C]\n\t(No symbol) [0x00EDE268]\n\t(No symbol) [0x00EDE392]\n\t(No symbol) [0x00ED10B7]\n\tBaseThreadInitThunk [0x75CDFCC9+25]\n\tRtlGetAppContainerNamedObjectPath [0x777C7B1E+286]\n\tRtlGetAppContainerNamedObjectPath [0x777C7AEE+238]\n"
     ]
    }
   ],
   "source": [
    "from bs4 import BeautifulSoup\n",
    "import time\n",
    "from selenium.webdriver.chrome.options import Options\n",
    "from selenium import webdriver\n",
    "from selenium.webdriver.common.by import By\n",
    "import pandas as pd\n",
    "from selenium.webdriver.common.keys import Keys\n",
    "page=1\n",
    "site=\"https://magnet.me/nl-NL/banen?jobFunctions=accounting&jobFunctions=administrative&jobFunctions=finance&jobFunctions=fiscal&page=\"+str(page)\n",
    "driver = webdriver.Chrome(executable_path='C:/Users/fayyo/Downloads/chromedriver.exe')\n",
    "driver.get(site)\n",
    "time.sleep(15)\n",
    "\n",
    "dict_list=[]\n",
    "for li_num in range(1, 21):\n",
    "    dict_={}\n",
    "    time.sleep(5)\n",
    "    li=driver.find_element(By.XPATH, '/html/body/div/div/div/div[4]/div/div[1]/div[2]/div/div[3]/div/div/div[1]/div/ol/li['+str(li_num)+']')\n",
    "    li.click()\n",
    "    time.sleep(10)\n",
    "\n",
    "    src = driver.page_source\n",
    "    soup = BeautifulSoup(src, 'lxml')\n",
    "    try:\n",
    "        job_title=soup.find(\"h1\", {\"data-monitoring\":\"opportunityName\"})\n",
    "        dict_['job_title']=job_title.text\n",
    "    except:\n",
    "        pass\n",
    "    try:\n",
    "        experience=soup.find(\"div\", {\"data-testid\":\"experience\"})\n",
    "        dict_['experience']=experience.text\n",
    "    except:\n",
    "        pass\n",
    "    try:\n",
    "        deadline=soup.find(\"div\", {\"data-testid\":\"deadline\"})\n",
    "        dict_['deadline']=deadline.text\n",
    "    except:\n",
    "        pass\n",
    "    try:\n",
    "        languages=soup.find(\"div\", {\"data-testid\":\"languages\"})\n",
    "        dict_['languages']=languages.text\n",
    "    except:\n",
    "        pass\n",
    "    try:\n",
    "        degree=soup.find(\"div\", {\"data-testid\":\"degree\"})\n",
    "        dict_['degree']=degree.text\n",
    "    except:\n",
    "        pass\n",
    "    try:\n",
    "        emp_type=soup.find(\"div\", {\"data-testid\":\"employmentType\"})\n",
    "        dict_['Employment Type']=emp_type.text\n",
    "    except:\n",
    "        pass\n",
    "    try:\n",
    "        job_functions=soup.find(\"div\", {\"data-testid\":\"jobFunctions\"})\n",
    "        dict_['job_functions']=job_functions.text\n",
    "    except:\n",
    "        pass\n",
    "    advert_element=driver.find_element(By.XPATH, '/html/body/div[1]/div/div/div[4]/div/div[1]/div/div/div[3]/div/div/div[2]/div/div/div[3]')\n",
    "\n",
    "    if advert_element.text == \"Je carrière begint op Magnet.me\\nMaak een profiel aan en ontvang slimme aanbevelingen op basis van je gelikete vacatures.\\nProfiel aanmaken\":\n",
    "        # Find the next div sibling element\n",
    "        next_div_element = advert_element.find_element(By.XPATH, './following-sibling::div[1]')\n",
    "\n",
    "        next_div_text = next_div_element.text\n",
    "        # print(\"Next Div Text:\", next_div_text)\n",
    "        dict_['Job Description']=next_div_text\n",
    "\n",
    "    # Use the XPath expression to locate the first element by class name\n",
    "    first_element = driver.find_element(By.XPATH, \"/html/body/div[1]/div/div/div[4]/div/div[1]/div[2]/div/div[3]/div/div/div[2]/div/div/div[2]/div/div[3]\")\n",
    "\n",
    "    # Find the next sibling element (regardless of its class name)\n",
    "    next_sibling_element = first_element.find_element(By.XPATH, \"following-sibling::*\")\n",
    "\n",
    "    # Now you can interact with the next sibling element as needed\n",
    "    try:\n",
    "        next_sibling_text = next_sibling_element.text\n",
    "        dict_['salary']=next_sibling_text.split('Salaris')[1].replace('\\n', '').replace('€', '')\n",
    "    except:\n",
    "        pass\n",
    "    dict_list.append(dict_)\n",
    "    driver.back()\n",
    "    # print(\"Next Sibling Text:\", next_sibling_text)\n",
    "import json\n",
    "json_string = json.dumps(dict_list)\n",
    "\n",
    "with open(f\"data{page}.json\", \"w\") as json_file:\n",
    "    json.dump(dict_list, json_file, indent=4)\n",
    "print(f'page number {page} is done!')\n"
   ]
  },
  {
   "cell_type": "code",
   "execution_count": 42,
   "metadata": {},
   "outputs": [
    {
     "data": {
      "text/plain": [
       "[{'job_title': 'Junior Direct Tax Adviser',\n",
       "  'experience': 'Werkervaring3 tot 5 jaar',\n",
       "  'languages': 'TaalvereistenEngels (Vloeiend)Nederlands (Vloeiend)',\n",
       "  'degree': 'Soort opleidingWO Master',\n",
       "  'Employment Type': 'Full-time / part-timeFull-time',\n",
       "  'job_functions': 'FunctieFiscaal',\n",
       "  'Job Description': 'Ben jij (bijna) klaar met je master Fiscaal Recht en/of Fiscale Economie en wil jij werken voorcliëntendie behoren tot de top van het bedrijfsleven? Solliciteer dan nu!\\nAls beginnende Tax Adviser werk je aan inhoudelijk complexe vraagstukken binnen onze zelfstandige fiscale praktijk en verruim je je blikveld door samen te werken met onze advocaten en notarissen. Met onze uitstekende opleidingsmogelijkheden en informele werksfeer biedt Loyens & Loeff je een interessante start van je fiscale carrière.\\nAls startende Tax Adviser krijg je bij Loyens & Loeff meteen veel verantwoordelijkheid. Hierdoor vorm je al snel een totaalbeeld van de verschillende fiscale kwesties die van belang zijn voor een succesvolle bedrijfsvoering. Om onze (inter)nationale cliënten zo goed mogelijk van dienst te zijn, verdiep je je elke dag in nationale en mondiale maatschappelijke ontwikkelingen, nieuwe nationale wetgeving en geopolitieke initiatieven. Zo voorzie je de cliënt altijd van toekomstbestendig advies. Voordat je het weet heb jij je ontwikkeld tot een ervaren belastingadviseur.\\nVolledige vacaturetekst bekijken'},\n",
       " {'job_title': 'Junior Indirect Tax Compliance Adviser',\n",
       "  'experience': 'Werkervaring0 tot 7 jaar',\n",
       "  'languages': 'TaalvereisteNederlands (Vloeiend)',\n",
       "  'degree': 'Soort opleidingHBO',\n",
       "  'Employment Type': 'Full-time / part-timeFull-time',\n",
       "  'job_functions': 'FunctieFiscaal',\n",
       "  'Job Description': 'Wil je werken in een unieke functie waarin de aangifte- en adviespraktijk worden gecombineerd? Wil jij werken voor de mooiste bedrijven van Nederland? Solliciteer dan nu!\\nDit ga jij doen als Indirect Tax Compliance Adviser:\\nopstellen van (complexe) btw-aangiften en de bijbehorende EC Sales Listings;\\nopstellen en indienen van Intrastat rapportages;\\nadviseren van cliënten over de btw-aangifteverplichtingen;\\nsignaleren van fiscale aandachtspunten en in teamverband meewerken aan belastingadvies voor bedrijven;\\ncontact onderhouden met onze cliënten en de Belastingdienst.\\nVolledige vacaturetekst bekijken'}]"
      ]
     },
     "execution_count": 42,
     "metadata": {},
     "output_type": "execute_result"
    }
   ],
   "source": [
    "dict_list"
   ]
  },
  {
   "cell_type": "code",
   "execution_count": 36,
   "metadata": {},
   "outputs": [
    {
     "data": {
      "text/plain": [
       "{'job_title': 'Planner',\n",
       " 'experience': 'Werkervaring1 tot 7 jaar',\n",
       " 'languages': 'TaalvereistenEngels (Goed)Nederlands (Vloeiend)',\n",
       " 'degree': 'Soort opleidingAssociate',\n",
       " 'Employment Type': 'Full-time / part-timeFull-time',\n",
       " 'job_functions': 'FunctieAdministratief',\n",
       " 'Job Description': 'Ben jij een echte regelaar en klink je vriendelijk aan de telefoon? Haal je energie uit een nauwkeurige administratie? En wil je graag bijdragen aan een betere wereld? Lees dan snel verder hoe jij kunt helpen om Nederland te verduurzamen met zonne-energie op huurdaken!\\nWerken als Planner bij Sungevity\\nAls Planner kom je te werken in ons B2B(2C) team. Dit team zorgt ervoor dat zonnesystemen bij huurwoningen en commerciële vastgoedpartijen worden geïnstalleerd, met de huurders als belangrijkste eindklanten. Jij hebt een belangrijke rol: je bent het eerste aanspreekpunt voor de huurders, je ondersteunt het team van Projectmanagers bij de voorbereiding van de installaties, en je hebt ook contact met de installateurs. Kortom, jij zorgt ervoor dat alles vlekkeloos verloopt en dat we nog harder kunnen werken aan onze missie: alle daken voorzien van zonnepanelen om de energietransitie te versnellen!\\nVolledige vacaturetekst bekijken',\n",
       " 'salary': ' 2.300 -  2.800 per maand'}"
      ]
     },
     "execution_count": 36,
     "metadata": {},
     "output_type": "execute_result"
    }
   ],
   "source": [
    "dict_"
   ]
  },
  {
   "cell_type": "code",
   "execution_count": 5,
   "metadata": {},
   "outputs": [],
   "source": [
    "job_title=soup.find(\"h1\", {\"data-monitoring\":\"opportunityName\"})"
   ]
  },
  {
   "cell_type": "code",
   "execution_count": 3,
   "metadata": {},
   "outputs": [],
   "source": [
    "functie=soup.find(\"div\", {\"data-testid\":\"experience\"})\n",
    "deadline=soup.find(\"div\", {\"data-testid\":\"deadline\"})\n",
    "languages=soup.find(\"div\", {\"data-testid\":\"languages\"})\n",
    "degree=soup.find(\"div\", {\"data-testid\":\"degree\"})\n",
    "emp_type=soup.find(\"div\", {\"data-testid\":\"employmentType\"})\n",
    "job_functions=soup.find(\"div\", {\"data-testid\":\"jobFunctions\"})"
   ]
  },
  {
   "cell_type": "code",
   "execution_count": null,
   "metadata": {},
   "outputs": [],
   "source": [
    "#root > div > div > div.c0311 > div > div.c033 > div > div > div.c03597 > div > div > div.c03622 > div > div > div.c03623 > div > div > div"
   ]
  },
  {
   "cell_type": "code",
   "execution_count": 16,
   "metadata": {},
   "outputs": [],
   "source": [
    "location=soup.find_all(\"div\", {\"class\":\"c03636\"})"
   ]
  },
  {
   "cell_type": "code",
   "execution_count": 8,
   "metadata": {},
   "outputs": [
    {
     "data": {
      "text/plain": [
       "[]"
      ]
     },
     "execution_count": 8,
     "metadata": {},
     "output_type": "execute_result"
    }
   ],
   "source": [
    "location"
   ]
  },
  {
   "cell_type": "code",
   "execution_count": 4,
   "metadata": {},
   "outputs": [
    {
     "data": {
      "text/plain": [
       "'FunctieFiscaal'"
      ]
     },
     "execution_count": 4,
     "metadata": {},
     "output_type": "execute_result"
    }
   ],
   "source": [
    "job_functions.text"
   ]
  },
  {
   "cell_type": "code",
   "execution_count": 6,
   "metadata": {},
   "outputs": [
    {
     "name": "stdout",
     "output_type": "stream",
     "text": [
      "(Junior) medewerker Tax Compliance\n"
     ]
    }
   ],
   "source": [
    "for name in job_title:\n",
    "    print(name.text)"
   ]
  },
  {
   "cell_type": "code",
   "execution_count": null,
   "metadata": {},
   "outputs": [],
   "source": [
    "site=\"https://magnet.me/nl-NL/banen?jobFunctions=accounting&jobFunctions=administrative&jobFunctions=finance&jobFunctions=fiscal\""
   ]
  }
 ],
 "metadata": {
  "kernelspec": {
   "display_name": "venv",
   "language": "python",
   "name": "python3"
  },
  "language_info": {
   "codemirror_mode": {
    "name": "ipython",
    "version": 3
   },
   "file_extension": ".py",
   "mimetype": "text/x-python",
   "name": "python",
   "nbconvert_exporter": "python",
   "pygments_lexer": "ipython3",
   "version": "3.8.8"
  },
  "orig_nbformat": 4
 },
 "nbformat": 4,
 "nbformat_minor": 2
}
